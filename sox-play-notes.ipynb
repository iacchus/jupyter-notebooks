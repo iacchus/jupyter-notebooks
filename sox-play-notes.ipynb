{
 "cells": [
  {
   "cell_type": "code",
   "execution_count": 1,
   "metadata": {
    "collapsed": true,
    "run_control": {
     "frozen": false,
     "read_only": false
    }
   },
   "outputs": [],
   "source": [
    "import subprocess\n",
    "import time\n",
    "\n",
    "\n",
    "def wait(seconds):\n",
    "    time.sleep(seconds)\n",
    "\n",
    "\n",
    "def play_note(note='C', duration=4, delay=0):\n",
    "    # requires sox to be installed\n",
    "    command = (\n",
    "        \"play -qn synth {duration} pluck {note}\"\n",
    "        \" fade l 0 {duration} 2 reverb\"\n",
    "    ).format(note=note, duration=duration)\n",
    "\n",
    "    subprocess.Popen(command.split())\n",
    "\n",
    "    if delay:\n",
    "        wait(delay)\n",
    "\n",
    "\n",
    "play_note('C', delay=0.1)\n",
    "play_note('E', delay=0.1)\n",
    "play_note('G')\n",
    "\n",
    "wait(0.5)\n",
    "\n",
    "play_note('C', delay=0.1)\n",
    "play_note('F', delay=0.1)\n",
    "play_note('A')\n"
   ]
  },
  {
   "cell_type": "markdown",
   "metadata": {},
   "source": [
    "this works"
   ]
  },
  {
   "cell_type": "code",
   "execution_count": null,
   "metadata": {
    "collapsed": true
   },
   "outputs": [],
   "source": []
  }
 ],
 "metadata": {
  "kernelspec": {
   "display_name": "Python 3",
   "language": "python",
   "name": "python3"
  },
  "language_info": {
   "codemirror_mode": {
    "name": "ipython",
    "version": 3
   },
   "file_extension": ".py",
   "mimetype": "text/x-python",
   "name": "python",
   "nbconvert_exporter": "python",
   "pygments_lexer": "ipython3",
   "version": "3.6.0"
  }
 },
 "nbformat": 4,
 "nbformat_minor": 2
}
