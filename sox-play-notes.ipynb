{
 "cells": [
  {
   "cell_type": "code",
   "execution_count": 1,
   "metadata": {
    "collapsed": true
   },
   "outputs": [],
   "source": [
    "import subprocess\n",
    "import time"
   ]
  },
  {
   "cell_type": "code",
   "execution_count": 2,
   "metadata": {
    "collapsed": true
   },
   "outputs": [],
   "source": [
    "def wait(seconds):\n",
    "    time.sleep(seconds)\n",
    "\n",
    "\n",
    "def play_note(note='C', duration=4, delay=0):\n",
    "    # requires sox to be installed\n",
    "    command = (\n",
    "        \"play -qn synth {duration} pluck {note}\"\n",
    "        \" fade l 0 {duration} 2 reverb\"\n",
    "    ).format(note=note, duration=duration)\n",
    "\n",
    "    subprocess.Popen(command.split())\n",
    "\n",
    "    if delay:\n",
    "        wait(delay)"
   ]
  },
  {
   "cell_type": "code",
   "execution_count": 3,
   "metadata": {
    "collapsed": true,
    "deletable": true,
    "editable": true,
    "run_control": {
     "frozen": false,
     "read_only": false
    }
   },
   "outputs": [],
   "source": [
    "play_note('C', delay=0.1)\n",
    "play_note('E', delay=0.1)\n",
    "play_note('G')\n",
    "\n",
    "wait(0.5)\n",
    "\n",
    "play_note('C', delay=0.1)\n",
    "play_note('F', delay=0.1)\n",
    "play_note('A')\n"
   ]
  },
  {
   "cell_type": "markdown",
   "metadata": {
    "deletable": true,
    "editable": true,
    "run_control": {
     "frozen": false,
     "read_only": false
    }
   },
   "source": [
    "this works"
   ]
  },
  {
   "cell_type": "code",
   "execution_count": 47,
   "metadata": {
    "collapsed": false,
    "deletable": true,
    "editable": true,
    "run_control": {
     "frozen": false,
     "read_only": false
    }
   },
   "outputs": [],
   "source": [
    "question_duration = 2\n",
    "question_delay = 1\n",
    "play_note('C', duration=question_duration, delay=question_delay)\n",
    "play_note('E', duration=question_duration, delay=question_delay)"
   ]
  },
  {
   "cell_type": "code",
   "execution_count": 45,
   "metadata": {
    "collapsed": false
   },
   "outputs": [],
   "source": [
    "resolution_duration = 2.5\n",
    "resolution_delay = 0.5\n",
    "play_note('E', duration=resolution_duration, delay=resolution_delay)\n",
    "play_note('D', duration=resolution_duration, delay=resolution_delay)\n",
    "play_note('C', duration=resolution_duration, delay=resolution_delay)\n"
   ]
  },
  {
   "cell_type": "code",
   "execution_count": 49,
   "metadata": {
    "collapsed": false
   },
   "outputs": [
    {
     "data": {
      "text/plain": [
       "2"
      ]
     },
     "execution_count": 49,
     "metadata": {},
     "output_type": "execute_result"
    }
   ],
   "source": [
    "a=1\n",
    "a+=1\n",
    "a"
   ]
  },
  {
   "cell_type": "code",
   "execution_count": null,
   "metadata": {
    "collapsed": true
   },
   "outputs": [],
   "source": []
  }
 ],
 "metadata": {
  "kernelspec": {
   "display_name": "Python 3",
   "language": "python",
   "name": "python3"
  },
  "language_info": {
   "codemirror_mode": {
    "name": "ipython",
    "version": 3
   },
   "file_extension": ".py",
   "mimetype": "text/x-python",
   "name": "python",
   "nbconvert_exporter": "python",
   "pygments_lexer": "ipython3",
   "version": "3.6.0"
  }
 },
 "nbformat": 4,
 "nbformat_minor": 2
}
