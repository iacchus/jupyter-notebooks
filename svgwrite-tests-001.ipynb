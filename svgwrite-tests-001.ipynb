{
 "cells": [
  {
   "cell_type": "markdown",
   "metadata": {},
   "source": [
    "Documentation: http://pythonhosted.org/svgwrite/"
   ]
  },
  {
   "cell_type": "code",
   "execution_count": 3,
   "metadata": {
    "collapsed": true,
    "run_control": {
     "frozen": false,
     "read_only": false
    }
   },
   "outputs": [],
   "source": [
    "import svgwrite as sw\n",
    "\n",
    "from IPython.display import display, HTML, Image, SVG"
   ]
  },
  {
   "cell_type": "code",
   "execution_count": 31,
   "metadata": {
    "collapsed": false,
    "run_control": {
     "frozen": false,
     "read_only": false
    }
   },
   "outputs": [
    {
     "name": "stdout",
     "output_type": "stream",
     "text": [
      "<svg baseProfile=\"full\" font-family=\"Inconsolata, monospace\" height=\"192\" version=\"1.1\" width=\"440\" xmlns=\"http://www.w3.org/2000/svg\" xmlns:ev=\"http://www.w3.org/2001/xml-events\" xmlns:xlink=\"http://www.w3.org/1999/xlink\"><defs /><rect fill=\"#99a\" height=\"192\" stroke=\"#000\" stroke-width=\"1\" width=\"440\" x=\"0\" y=\"0\" /><rect fill=\"#336\" height=\"32\" stroke=\"#000\" stroke-width=\"1\" width=\"440\" x=\"0\" y=\"0\" /><g><rect fill=\"#fff\" height=\"32\" stroke=\"#666\" stroke-width=\"1\" width=\"55.0\" x=\"0.0\" y=\"128\" /><text alignment-baseline=\"middle\" font-weight=\"bold\" text-anchor=\"middle\" x=\"27.5\" y=\"144.0\">1</text></g><g><rect fill=\"#fff\" height=\"32\" stroke=\"#666\" stroke-width=\"1\" width=\"55.0\" x=\"55.0\" y=\"128\" /><text alignment-baseline=\"middle\" font-weight=\"bold\" text-anchor=\"middle\" x=\"82.5\" y=\"144.0\">2</text></g><g><rect fill=\"#fff\" height=\"32\" stroke=\"#666\" stroke-width=\"1\" width=\"55.0\" x=\"110.0\" y=\"128\" /><text alignment-baseline=\"middle\" font-weight=\"bold\" text-anchor=\"middle\" x=\"137.5\" y=\"144.0\">3</text></g><g><rect fill=\"#fff\" height=\"32\" stroke=\"#666\" stroke-width=\"1\" width=\"55.0\" x=\"165.0\" y=\"128\" /><text alignment-baseline=\"middle\" font-weight=\"bold\" text-anchor=\"middle\" x=\"192.5\" y=\"144.0\">4</text></g><g><rect fill=\"#fff\" height=\"32\" stroke=\"#666\" stroke-width=\"1\" width=\"55.0\" x=\"220.0\" y=\"128\" /><text alignment-baseline=\"middle\" font-weight=\"bold\" text-anchor=\"middle\" x=\"247.5\" y=\"144.0\">5</text></g><g><rect fill=\"#fff\" height=\"32\" stroke=\"#666\" stroke-width=\"1\" width=\"55.0\" x=\"275.0\" y=\"128\" /><text alignment-baseline=\"middle\" font-weight=\"bold\" text-anchor=\"middle\" x=\"302.5\" y=\"144.0\">6</text></g><g><rect fill=\"#fff\" height=\"32\" stroke=\"#666\" stroke-width=\"1\" width=\"55.0\" x=\"330.0\" y=\"128\" /><text alignment-baseline=\"middle\" font-weight=\"bold\" text-anchor=\"middle\" x=\"357.5\" y=\"144.0\">7</text></g><g><rect fill=\"#fff\" height=\"32\" stroke=\"#666\" stroke-width=\"1\" width=\"55.0\" x=\"385.0\" y=\"128\" /><text alignment-baseline=\"middle\" font-weight=\"bold\" text-anchor=\"middle\" x=\"412.5\" y=\"144.0\">8</text></g><g><rect fill=\"#fff\" height=\"32\" stroke=\"#666\" stroke-width=\"1\" width=\"55.0\" x=\"0.0\" y=\"160\" /><text alignment-baseline=\"middle\" font-weight=\"bold\" text-anchor=\"middle\" x=\"27.5\" y=\"176.0\">I</text></g><g><rect fill=\"#fff\" height=\"32\" stroke=\"#666\" stroke-width=\"1\" width=\"55.0\" x=\"55.0\" y=\"160\" /><text alignment-baseline=\"middle\" font-weight=\"bold\" text-anchor=\"middle\" x=\"82.5\" y=\"176.0\">II</text></g><g><rect fill=\"#fff\" height=\"32\" stroke=\"#666\" stroke-width=\"1\" width=\"55.0\" x=\"110.0\" y=\"160\" /><text alignment-baseline=\"middle\" font-weight=\"bold\" text-anchor=\"middle\" x=\"137.5\" y=\"176.0\">III</text></g><g><rect fill=\"#fff\" height=\"32\" stroke=\"#666\" stroke-width=\"1\" width=\"55.0\" x=\"165.0\" y=\"160\" /><text alignment-baseline=\"middle\" font-weight=\"bold\" text-anchor=\"middle\" x=\"192.5\" y=\"176.0\">IV</text></g><g><rect fill=\"#fff\" height=\"32\" stroke=\"#666\" stroke-width=\"1\" width=\"55.0\" x=\"220.0\" y=\"160\" /><text alignment-baseline=\"middle\" font-weight=\"bold\" text-anchor=\"middle\" x=\"247.5\" y=\"176.0\">V</text></g><g><rect fill=\"#fff\" height=\"32\" stroke=\"#666\" stroke-width=\"1\" width=\"55.0\" x=\"275.0\" y=\"160\" /><text alignment-baseline=\"middle\" font-weight=\"bold\" text-anchor=\"middle\" x=\"302.5\" y=\"176.0\">VI</text></g><g><rect fill=\"#fff\" height=\"32\" stroke=\"#666\" stroke-width=\"1\" width=\"55.0\" x=\"330.0\" y=\"160\" /><text alignment-baseline=\"middle\" font-weight=\"bold\" text-anchor=\"middle\" x=\"357.5\" y=\"176.0\">VII</text></g><g><rect fill=\"#fff\" height=\"32\" stroke=\"#666\" stroke-width=\"1\" width=\"55.0\" x=\"385.0\" y=\"160\" /><text alignment-baseline=\"middle\" font-weight=\"bold\" text-anchor=\"middle\" x=\"412.5\" y=\"176.0\">VIII</text></g></svg>\n"
     ]
    },
    {
     "data": {
      "text/html": [
       "<svg baseProfile=\"full\" font-family=\"Inconsolata, monospace\" height=\"192\" version=\"1.1\" width=\"440\" xmlns=\"http://www.w3.org/2000/svg\" xmlns:ev=\"http://www.w3.org/2001/xml-events\" xmlns:xlink=\"http://www.w3.org/1999/xlink\"><defs /><rect fill=\"#99a\" height=\"192\" stroke=\"#000\" stroke-width=\"1\" width=\"440\" x=\"0\" y=\"0\" /><rect fill=\"#336\" height=\"32\" stroke=\"#000\" stroke-width=\"1\" width=\"440\" x=\"0\" y=\"0\" /><g><rect fill=\"#fff\" height=\"32\" stroke=\"#666\" stroke-width=\"1\" width=\"55.0\" x=\"0.0\" y=\"128\" /><text alignment-baseline=\"middle\" font-weight=\"bold\" text-anchor=\"middle\" x=\"27.5\" y=\"144.0\">1</text></g><g><rect fill=\"#fff\" height=\"32\" stroke=\"#666\" stroke-width=\"1\" width=\"55.0\" x=\"55.0\" y=\"128\" /><text alignment-baseline=\"middle\" font-weight=\"bold\" text-anchor=\"middle\" x=\"82.5\" y=\"144.0\">2</text></g><g><rect fill=\"#fff\" height=\"32\" stroke=\"#666\" stroke-width=\"1\" width=\"55.0\" x=\"110.0\" y=\"128\" /><text alignment-baseline=\"middle\" font-weight=\"bold\" text-anchor=\"middle\" x=\"137.5\" y=\"144.0\">3</text></g><g><rect fill=\"#fff\" height=\"32\" stroke=\"#666\" stroke-width=\"1\" width=\"55.0\" x=\"165.0\" y=\"128\" /><text alignment-baseline=\"middle\" font-weight=\"bold\" text-anchor=\"middle\" x=\"192.5\" y=\"144.0\">4</text></g><g><rect fill=\"#fff\" height=\"32\" stroke=\"#666\" stroke-width=\"1\" width=\"55.0\" x=\"220.0\" y=\"128\" /><text alignment-baseline=\"middle\" font-weight=\"bold\" text-anchor=\"middle\" x=\"247.5\" y=\"144.0\">5</text></g><g><rect fill=\"#fff\" height=\"32\" stroke=\"#666\" stroke-width=\"1\" width=\"55.0\" x=\"275.0\" y=\"128\" /><text alignment-baseline=\"middle\" font-weight=\"bold\" text-anchor=\"middle\" x=\"302.5\" y=\"144.0\">6</text></g><g><rect fill=\"#fff\" height=\"32\" stroke=\"#666\" stroke-width=\"1\" width=\"55.0\" x=\"330.0\" y=\"128\" /><text alignment-baseline=\"middle\" font-weight=\"bold\" text-anchor=\"middle\" x=\"357.5\" y=\"144.0\">7</text></g><g><rect fill=\"#fff\" height=\"32\" stroke=\"#666\" stroke-width=\"1\" width=\"55.0\" x=\"385.0\" y=\"128\" /><text alignment-baseline=\"middle\" font-weight=\"bold\" text-anchor=\"middle\" x=\"412.5\" y=\"144.0\">8</text></g><g><rect fill=\"#fff\" height=\"32\" stroke=\"#666\" stroke-width=\"1\" width=\"55.0\" x=\"0.0\" y=\"160\" /><text alignment-baseline=\"middle\" font-weight=\"bold\" text-anchor=\"middle\" x=\"27.5\" y=\"176.0\">I</text></g><g><rect fill=\"#fff\" height=\"32\" stroke=\"#666\" stroke-width=\"1\" width=\"55.0\" x=\"55.0\" y=\"160\" /><text alignment-baseline=\"middle\" font-weight=\"bold\" text-anchor=\"middle\" x=\"82.5\" y=\"176.0\">II</text></g><g><rect fill=\"#fff\" height=\"32\" stroke=\"#666\" stroke-width=\"1\" width=\"55.0\" x=\"110.0\" y=\"160\" /><text alignment-baseline=\"middle\" font-weight=\"bold\" text-anchor=\"middle\" x=\"137.5\" y=\"176.0\">III</text></g><g><rect fill=\"#fff\" height=\"32\" stroke=\"#666\" stroke-width=\"1\" width=\"55.0\" x=\"165.0\" y=\"160\" /><text alignment-baseline=\"middle\" font-weight=\"bold\" text-anchor=\"middle\" x=\"192.5\" y=\"176.0\">IV</text></g><g><rect fill=\"#fff\" height=\"32\" stroke=\"#666\" stroke-width=\"1\" width=\"55.0\" x=\"220.0\" y=\"160\" /><text alignment-baseline=\"middle\" font-weight=\"bold\" text-anchor=\"middle\" x=\"247.5\" y=\"176.0\">V</text></g><g><rect fill=\"#fff\" height=\"32\" stroke=\"#666\" stroke-width=\"1\" width=\"55.0\" x=\"275.0\" y=\"160\" /><text alignment-baseline=\"middle\" font-weight=\"bold\" text-anchor=\"middle\" x=\"302.5\" y=\"176.0\">VI</text></g><g><rect fill=\"#fff\" height=\"32\" stroke=\"#666\" stroke-width=\"1\" width=\"55.0\" x=\"330.0\" y=\"160\" /><text alignment-baseline=\"middle\" font-weight=\"bold\" text-anchor=\"middle\" x=\"357.5\" y=\"176.0\">VII</text></g><g><rect fill=\"#fff\" height=\"32\" stroke=\"#666\" stroke-width=\"1\" width=\"55.0\" x=\"385.0\" y=\"160\" /><text alignment-baseline=\"middle\" font-weight=\"bold\" text-anchor=\"middle\" x=\"412.5\" y=\"176.0\">VIII</text></g></svg>"
      ],
      "text/plain": [
       "<IPython.core.display.HTML object>"
      ]
     },
     "execution_count": 31,
     "metadata": {},
     "output_type": "execute_result"
    }
   ],
   "source": [
    "def y_by_line(line_num, line_height):\n",
    "    return (line_num-1) * line_height\n",
    "\n",
    "svg_attrs = {\n",
    "    'font-family': 'Inconsolata, monospace',\n",
    "#    'shape-rendering':'optimizeQuality',\n",
    "\n",
    "}\n",
    "background_attrs = {\n",
    "    'stroke':'#000',\n",
    "    'fill':'#99a',\n",
    "    'stroke-width':'1',\n",
    "}\n",
    "\n",
    "title_attrs = {\n",
    "    'fill':'#336',\n",
    "    'stroke':'#000',\n",
    "    'stroke-width':'1',\n",
    "}\n",
    "\n",
    "cell_rect_attrs = {\n",
    "    'fill':'#fff',\n",
    "    'stroke':'#666',\n",
    "    'stroke-width':'1',\n",
    "}\n",
    "cell_text_attrs = {\n",
    "    #'fill':'#fff',\n",
    "    #'stroke':'#333',\n",
    "    #'stroke-width':'1',\n",
    "    'alignment-baseline' : 'middle',\n",
    "    'text-anchor' : 'middle',\n",
    "    'font-weight' : 'bold',\n",
    "}\n",
    "# sizes in px\n",
    "\n",
    "line_height = 32\n",
    "\n",
    "table_width = 440\n",
    "table_height = line_height*6\n",
    "\n",
    "cell_width = table_width/8\n",
    "\n",
    "dwg = sw.Drawing(profile='full', size=(\"{}\".format(table_width),\"{}\".format(table_height)), **svg_attrs)\n",
    "\n",
    "# why not beutiful background right now;\n",
    "background = sw.shapes.Rect(insert=(0,0), size=(table_width, table_height), **background_attrs)\n",
    "dwg.add(background)\n",
    "\n",
    "table_title = sw.shapes.Rect(insert=(0,0), size=(table_width, line_height), **title_attrs)\n",
    "dwg.add(table_title)\n",
    "\n",
    "array = [1,2,3,4,5,6,7,8]\n",
    "array2 = [\"I\",\"II\",\"III\",\"IV\",\"V\",\"VI\",\"VII\",\"VIII\"]\n",
    "\n",
    "for idx,item in enumerate(array):\n",
    "    \n",
    "    x = idx * cell_width\n",
    "    y = y_by_line(line_num=5, line_height=line_height)\n",
    "    \n",
    "    v_center = (line_height/2) + y\n",
    "    h_center = (cell_width/2) + x\n",
    "    \n",
    "    cell_group = sw.container.Group()\n",
    "    \n",
    "    group_els = [\n",
    "        sw.shapes.Rect(insert=(x, y), size=(cell_width, line_height), **cell_rect_attrs),\n",
    "        sw.text.Text(item, insert=(h_center, v_center), **cell_text_attrs)\n",
    "    ]\n",
    "    \n",
    "    for element in group_els:\n",
    "        cell_group.add(element)\n",
    "        \n",
    "    dwg.add(cell_group)\n",
    "    \n",
    "for idx,item in enumerate(array2):\n",
    "    x = idx * cell_width\n",
    "    y = y_by_line(line_num=6, line_height=line_height)\n",
    "\n",
    "    v_center = (line_height/2) + y\n",
    "    h_center = (cell_width/2) + x\n",
    "    \n",
    "    cell_group = sw.container.Group()\n",
    "    \n",
    "    group_els = [\n",
    "        sw.shapes.Rect(insert=(x, y), size=(cell_width, line_height), **cell_rect_attrs),\n",
    "        sw.text.Text(item, insert=(h_center, v_center), **cell_text_attrs)\n",
    "    ]\n",
    "    \n",
    "    for element in group_els:\n",
    "        cell_group.add(element)\n",
    "        \n",
    "    dwg.add(cell_group)\n",
    "\n",
    "svg_data = dwg.tostring()\n",
    "\n",
    "print(svg_data)\n",
    "\n",
    "HTML(svg_data)"
   ]
  },
  {
   "cell_type": "code",
   "execution_count": null,
   "metadata": {
    "collapsed": true,
    "run_control": {
     "frozen": false,
     "read_only": false
    }
   },
   "outputs": [],
   "source": []
  }
 ],
 "metadata": {
  "kernelspec": {
   "display_name": "Python 3",
   "language": "python",
   "name": "python3"
  },
  "language_info": {
   "codemirror_mode": {
    "name": "ipython",
    "version": 3
   },
   "file_extension": ".py",
   "mimetype": "text/x-python",
   "name": "python",
   "nbconvert_exporter": "python",
   "pygments_lexer": "ipython3",
   "version": "3.5.2"
  }
 },
 "nbformat": 4,
 "nbformat_minor": 1
}
