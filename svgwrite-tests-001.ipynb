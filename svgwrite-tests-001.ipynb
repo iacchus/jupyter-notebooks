{
 "cells": [
  {
   "cell_type": "markdown",
   "metadata": {},
   "source": [
    "Documentation: http://pythonhosted.org/svgwrite/"
   ]
  },
  {
   "cell_type": "code",
   "execution_count": 6,
   "metadata": {
    "collapsed": true,
    "run_control": {
     "frozen": false,
     "read_only": false
    }
   },
   "outputs": [],
   "source": [
    "import svgwrite as sw\n",
    "\n",
    "from IPython.display import display, HTML, Image, SVG"
   ]
  },
  {
   "cell_type": "code",
   "execution_count": 4,
   "metadata": {
    "collapsed": false,
    "run_control": {
     "frozen": false,
     "read_only": false
    }
   },
   "outputs": [
    {
     "data": {
      "text/html": [
       "<svg baseProfile=\"full\" height=\"100%\" version=\"1.1\" width=\"100%\" xmlns=\"http://www.w3.org/2000/svg\" xmlns:ev=\"http://www.w3.org/2001/xml-events\" xmlns:xlink=\"http://www.w3.org/1999/xlink\"><defs /><line stroke=\"rgb(10%,10%,16%)\" x1=\"0\" x2=\"100\" y1=\"0\" y2=\"75\" /><text x=\"0\" y=\"29\">Test</text></svg>"
      ],
      "text/plain": [
       "<IPython.core.display.HTML object>"
      ]
     },
     "metadata": {},
     "output_type": "display_data"
    }
   ],
   "source": [
    "fname = 'test.svg'\n",
    "\n",
    "dwg = svgwrite.Drawing(profile='full')\n",
    "\n",
    "dwg.add(dwg.line((0, 0), (100, 75), stroke=svgwrite.rgb(10, 10, 16, '%')))\n",
    "dwg.add(dwg.text('Test', insert=(0, 29)))\n",
    "\n",
    "        \n",
    "a = dwg.tostring()\n",
    "#SVG(filename=fname)\n",
    "display(HTML(a))"
   ]
  },
  {
   "cell_type": "code",
   "execution_count": 53,
   "metadata": {
    "collapsed": false,
    "run_control": {
     "frozen": false,
     "read_only": false
    }
   },
   "outputs": [
    {
     "name": "stdout",
     "output_type": "stream",
     "text": [
      "<svg baseProfile=\"full\" height=\"192\" version=\"1.1\" width=\"320\" xmlns=\"http://www.w3.org/2000/svg\" xmlns:ev=\"http://www.w3.org/2001/xml-events\" xmlns:xlink=\"http://www.w3.org/1999/xlink\"><defs /><rect fill=\"#99a\" height=\"192\" stroke=\"#000\" stroke-width=\"0.5\" width=\"320\" x=\"0\" y=\"0\" /><rect fill=\"#336\" height=\"32\" stroke=\"#000\" stroke-width=\"0.5\" width=\"320\" x=\"0\" y=\"0\" /><rect fill=\"#fff\" height=\"32\" stroke=\"#000\" stroke-width=\"0.5\" width=\"40.0\" x=\"0.0\" y=\"128\" /><rect fill=\"#fff\" height=\"32\" stroke=\"#000\" stroke-width=\"0.5\" width=\"40.0\" x=\"40.0\" y=\"128\" /><rect fill=\"#fff\" height=\"32\" stroke=\"#000\" stroke-width=\"0.5\" width=\"40.0\" x=\"80.0\" y=\"128\" /><rect fill=\"#fff\" height=\"32\" stroke=\"#000\" stroke-width=\"0.5\" width=\"40.0\" x=\"120.0\" y=\"128\" /><rect fill=\"#fff\" height=\"32\" stroke=\"#000\" stroke-width=\"0.5\" width=\"40.0\" x=\"160.0\" y=\"128\" /><rect fill=\"#fff\" height=\"32\" stroke=\"#000\" stroke-width=\"0.5\" width=\"40.0\" x=\"200.0\" y=\"128\" /><rect fill=\"#fff\" height=\"32\" stroke=\"#000\" stroke-width=\"0.5\" width=\"40.0\" x=\"240.0\" y=\"128\" /><rect fill=\"#fff\" height=\"32\" stroke=\"#000\" stroke-width=\"0.5\" width=\"40.0\" x=\"280.0\" y=\"128\" /><rect fill=\"#fff\" height=\"32\" stroke=\"#000\" stroke-width=\"0.5\" width=\"40.0\" x=\"0.0\" y=\"160\" /><rect fill=\"#fff\" height=\"32\" stroke=\"#000\" stroke-width=\"0.5\" width=\"40.0\" x=\"40.0\" y=\"160\" /><rect fill=\"#fff\" height=\"32\" stroke=\"#000\" stroke-width=\"0.5\" width=\"40.0\" x=\"80.0\" y=\"160\" /><rect fill=\"#fff\" height=\"32\" stroke=\"#000\" stroke-width=\"0.5\" width=\"40.0\" x=\"120.0\" y=\"160\" /><rect fill=\"#fff\" height=\"32\" stroke=\"#000\" stroke-width=\"0.5\" width=\"40.0\" x=\"160.0\" y=\"160\" /><rect fill=\"#fff\" height=\"32\" stroke=\"#000\" stroke-width=\"0.5\" width=\"40.0\" x=\"200.0\" y=\"160\" /><rect fill=\"#fff\" height=\"32\" stroke=\"#000\" stroke-width=\"0.5\" width=\"40.0\" x=\"240.0\" y=\"160\" /><rect fill=\"#fff\" height=\"32\" stroke=\"#000\" stroke-width=\"0.5\" width=\"40.0\" x=\"280.0\" y=\"160\" /></svg>\n"
     ]
    },
    {
     "data": {
      "text/html": [
       "<svg baseProfile=\"full\" height=\"192\" version=\"1.1\" width=\"320\" xmlns=\"http://www.w3.org/2000/svg\" xmlns:ev=\"http://www.w3.org/2001/xml-events\" xmlns:xlink=\"http://www.w3.org/1999/xlink\"><defs /><rect fill=\"#99a\" height=\"192\" stroke=\"#000\" stroke-width=\"0.5\" width=\"320\" x=\"0\" y=\"0\" /><rect fill=\"#336\" height=\"32\" stroke=\"#000\" stroke-width=\"0.5\" width=\"320\" x=\"0\" y=\"0\" /><rect fill=\"#fff\" height=\"32\" stroke=\"#000\" stroke-width=\"0.5\" width=\"40.0\" x=\"0.0\" y=\"128\" /><rect fill=\"#fff\" height=\"32\" stroke=\"#000\" stroke-width=\"0.5\" width=\"40.0\" x=\"40.0\" y=\"128\" /><rect fill=\"#fff\" height=\"32\" stroke=\"#000\" stroke-width=\"0.5\" width=\"40.0\" x=\"80.0\" y=\"128\" /><rect fill=\"#fff\" height=\"32\" stroke=\"#000\" stroke-width=\"0.5\" width=\"40.0\" x=\"120.0\" y=\"128\" /><rect fill=\"#fff\" height=\"32\" stroke=\"#000\" stroke-width=\"0.5\" width=\"40.0\" x=\"160.0\" y=\"128\" /><rect fill=\"#fff\" height=\"32\" stroke=\"#000\" stroke-width=\"0.5\" width=\"40.0\" x=\"200.0\" y=\"128\" /><rect fill=\"#fff\" height=\"32\" stroke=\"#000\" stroke-width=\"0.5\" width=\"40.0\" x=\"240.0\" y=\"128\" /><rect fill=\"#fff\" height=\"32\" stroke=\"#000\" stroke-width=\"0.5\" width=\"40.0\" x=\"280.0\" y=\"128\" /><rect fill=\"#fff\" height=\"32\" stroke=\"#000\" stroke-width=\"0.5\" width=\"40.0\" x=\"0.0\" y=\"160\" /><rect fill=\"#fff\" height=\"32\" stroke=\"#000\" stroke-width=\"0.5\" width=\"40.0\" x=\"40.0\" y=\"160\" /><rect fill=\"#fff\" height=\"32\" stroke=\"#000\" stroke-width=\"0.5\" width=\"40.0\" x=\"80.0\" y=\"160\" /><rect fill=\"#fff\" height=\"32\" stroke=\"#000\" stroke-width=\"0.5\" width=\"40.0\" x=\"120.0\" y=\"160\" /><rect fill=\"#fff\" height=\"32\" stroke=\"#000\" stroke-width=\"0.5\" width=\"40.0\" x=\"160.0\" y=\"160\" /><rect fill=\"#fff\" height=\"32\" stroke=\"#000\" stroke-width=\"0.5\" width=\"40.0\" x=\"200.0\" y=\"160\" /><rect fill=\"#fff\" height=\"32\" stroke=\"#000\" stroke-width=\"0.5\" width=\"40.0\" x=\"240.0\" y=\"160\" /><rect fill=\"#fff\" height=\"32\" stroke=\"#000\" stroke-width=\"0.5\" width=\"40.0\" x=\"280.0\" y=\"160\" /></svg>"
      ],
      "text/plain": [
       "<IPython.core.display.HTML object>"
      ]
     },
     "execution_count": 53,
     "metadata": {},
     "output_type": "execute_result"
    }
   ],
   "source": [
    "def y_by_line(line_num, line_height):\n",
    "    return (line_num-1) * line_height\n",
    "\n",
    "background_attrs = {\n",
    "    'stroke':'#000',\n",
    "    'fill':'#99a',\n",
    "    'stroke-width':'0.5',\n",
    "}\n",
    "\n",
    "title_attrs = {\n",
    "    'fill':'#336',\n",
    "    'stroke':'#000',\n",
    "    'stroke-width':'0.5',\n",
    "}\n",
    "\n",
    "cell_attrs = {\n",
    "    'fill':'#fff',\n",
    "    'stroke':'#000',\n",
    "    'stroke-width':'0.5',\n",
    "}\n",
    "\n",
    "# sizes in px\n",
    "\n",
    "line_height = 32\n",
    "\n",
    "table_width = 320\n",
    "table_height = line_height*6\n",
    "\n",
    "cell_width = table_width/8\n",
    "\n",
    "dwg = sw.Drawing(profile='full', size=(\"{}\".format(table_width),\"{}\".format(table_height)))\n",
    "\n",
    "# why not beutiful background right now;\n",
    "background = sw.shapes.Rect(insert=(0,0), size=(table_width, table_height), **background_attrs)\n",
    "dwg.add(background)\n",
    "\n",
    "table_title = sw.shapes.Rect(insert=(0,0), size=(table_width, line_height), **title_attrs)\n",
    "dwg.add(table_title)\n",
    "\n",
    "array = [1,2,3,4,5,6,7,8]\n",
    "array2 = [\"I\",\"II\",\"III\",\"IV\",\"V\",\"VI\",\"VII\",\"VIII\"]\n",
    "\n",
    "for idx,item in enumerate(array):\n",
    "    \n",
    "    cell_rect = sw.shapes.Rect(insert=(idx*cell_width,y_by_line(line_num=5, line_height=line_height)), size=(cell_width, line_height), **cell_attrs)\n",
    "    dwg.add(cell_rect)\n",
    "    \n",
    "for idx,item in enumerate(array2):\n",
    "    \n",
    "    cell_rect = sw.shapes.Rect(insert=(idx*cell_width,y_by_line(line_num=6, line_height=line_height)), size=(cell_width, line_height), **cell_attrs)\n",
    "    dwg.add(cell_rect)\n",
    "\n",
    "svg_data = dwg.tostring()\n",
    "\n",
    "print(svg_data)\n",
    "\n",
    "HTML(svg_data)"
   ]
  },
  {
   "cell_type": "code",
   "execution_count": null,
   "metadata": {
    "collapsed": true,
    "run_control": {
     "frozen": false,
     "read_only": false
    }
   },
   "outputs": [],
   "source": []
  }
 ],
 "metadata": {
  "kernelspec": {
   "display_name": "Python 3",
   "language": "python",
   "name": "python3"
  },
  "language_info": {
   "codemirror_mode": {
    "name": "ipython",
    "version": 3
   },
   "file_extension": ".py",
   "mimetype": "text/x-python",
   "name": "python",
   "nbconvert_exporter": "python",
   "pygments_lexer": "ipython3",
   "version": "3.5.2"
  }
 },
 "nbformat": 4,
 "nbformat_minor": 1
}
