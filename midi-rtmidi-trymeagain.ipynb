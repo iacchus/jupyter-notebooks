{
 "cells": [
  {
   "cell_type": "code",
   "execution_count": 6,
   "metadata": {
    "collapsed": false
   },
   "outputs": [
    {
     "name": "stdout",
     "output_type": "stream",
     "text": [
      "<_rtmidi.MidiOut object at 0x7ff583754c18>"
     ]
    }
   ],
   "source": [
    "import time\n",
    "import rtmidi\n",
    "\n",
    "midiout = rtmidi.MidiOut()\n",
    "available_ports = midiout.get_ports()\n",
    "\n",
    "if available_ports:\n",
    "    midiout.open_port(0)\n",
    "else:\n",
    "    midiout.open_virtual_port(\"My virtual output\")\n",
    "\n",
    "note_on = [0x90, 60, 112] # channel 1, middle C, velocity 112\n",
    "note_off = [0x80, 60, 0]\n",
    "midiout.send_message(note_on)\n",
    "time.sleep(15)\n",
    "midiout.send_message(note_off)\n"
   ]
  },
  {
   "cell_type": "code",
   "execution_count": null,
   "metadata": {
    "collapsed": true
   },
   "outputs": [],
   "source": []
  }
 ],
 "metadata": {
  "kernelspec": {
   "display_name": "Xonsh",
   "language": "xonsh",
   "name": "xonsh"
  },
  "language_info": {
   "codemirror_mode": "shell",
   "file_extension": ".xsh",
   "mimetype": "text/x-sh",
   "name": "xonsh",
   "pygments_lexer": "xonsh"
  }
 },
 "nbformat": 4,
 "nbformat_minor": 1
}
