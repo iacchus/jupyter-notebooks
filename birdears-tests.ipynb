{
 "cells": [
  {
   "cell_type": "code",
   "execution_count": 9,
   "metadata": {
    "collapsed": true,
    "deletable": true,
    "editable": true,
    "run_control": {
     "frozen": false,
     "read_only": false
    }
   },
   "outputs": [],
   "source": [
    "# first has sharps first; second has most common key first\n",
    "\n",
    "notes = ['C', ('C#','Db'), 'D', ('D#','Eb'), 'E', 'F', ('F#','Gb'), 'G', ('G#','Ab'), 'A', ('A#','Bb'), 'B']\n",
    "\n",
    "notes2 = ['C', ('Db','C#'), 'D', ('Eb','D#'), 'E', 'F', ('F#','Gb'), 'G', ('Ab','G#'), 'A', ('Bb','A#'), 'B']"
   ]
  },
  {
   "cell_type": "code",
   "execution_count": 10,
   "metadata": {
    "collapsed": false,
    "deletable": true,
    "editable": true,
    "run_control": {
     "frozen": false,
     "read_only": false
    }
   },
   "outputs": [],
   "source": [
    "def get_chromatic(tonic='C', octave=None, descending=None):\n",
    "    \n",
    "    notes = ['C', ('C#','Db'), 'D', ('D#','Eb'), 'E', 'F', ('F#','Gb'), 'G', ('G#','Ab'), 'A', ('A#','Bb'), 'B']\n",
    "\n",
    "    #if tonic == 'F' or 'b' in tonic:\n",
    "    #    use_flat = True\n",
    "    #else:\n",
    "    #    use_flat = False\n",
    "        \n",
    "    use_flat = True if (tonic == 'F' or 'b' in tonic) else False\n",
    "        \n",
    "    #tonic_index = (pitch_class-1) if pitch_class else [note[0] if not use_flat else note[-1] for note in notes].index(tonic)\n",
    "    tonic_index = [note[0] if not use_flat else note[-1] for note in notes].index(tonic)\n",
    "    last_note_index = tonic_index + 12\n",
    "    \n",
    "    chromatic = [note[0] if not use_flat else note[-1] for note in (notes*2)[tonic_index:last_note_index]]\n",
    "    \n",
    "    if octave:\n",
    "        for idx,note in enumerate(chromatic):\n",
    "            if idx > 0 and chromatic[idx] == 'C':\n",
    "                octave += 1\n",
    "\n",
    "            chromatic[idx] = \"{}{}\".format(note, octave)\n",
    "            \n",
    "    if descending:\n",
    "        chromatic.reverse()\n",
    "\n",
    "    return chromatic"
   ]
  },
  {
   "cell_type": "code",
   "execution_count": 11,
   "metadata": {
    "collapsed": false,
    "deletable": true,
    "editable": true,
    "run_control": {
     "frozen": false,
     "read_only": false
    }
   },
   "outputs": [],
   "source": [
    "chromatics = dict()\n",
    "\n",
    "for tonic in notes:\n",
    "    \n",
    "    if type(tonic) == str:\n",
    "        chromatics.update( { tonic  : get_chromatic(tonic=tonic, octave=4) } )\n",
    "        \n",
    "    # if tonic has enharmonics calculate it as well\n",
    "    else:\n",
    "        for enharmonic in tonic:\n",
    "            chromatics.update({ enharmonic: get_chromatic(tonic=enharmonic, octave=4) })"
   ]
  },
  {
   "cell_type": "code",
   "execution_count": 12,
   "metadata": {
    "collapsed": false,
    "deletable": true,
    "editable": true,
    "run_control": {
     "frozen": false,
     "read_only": false
    },
    "scrolled": true
   },
   "outputs": [
    {
     "name": "stdout",
     "output_type": "stream",
     "text": [
      "{'C': ['C4', 'C#4', 'D4', 'D#4', 'E4', 'F4', 'F#4', 'G4', 'G#4', 'A4', 'A#4', 'B4'], 'C#': ['C#4', 'D4', 'D#4', 'E4', 'F4', 'F#4', 'G4', 'G#4', 'A4', 'A#4', 'B4', 'C5'], 'Db': ['Db4', 'D4', 'Eb4', 'E4', 'F4', 'Gb4', 'G4', 'Ab4', 'A4', 'Bb4', 'B4', 'C5'], 'D': ['D4', 'D#4', 'E4', 'F4', 'F#4', 'G4', 'G#4', 'A4', 'A#4', 'B4', 'C5', 'C#5'], 'D#': ['D#4', 'E4', 'F4', 'F#4', 'G4', 'G#4', 'A4', 'A#4', 'B4', 'C5', 'C#5', 'D5'], 'Eb': ['Eb4', 'E4', 'F4', 'Gb4', 'G4', 'Ab4', 'A4', 'Bb4', 'B4', 'C5', 'Db5', 'D5'], 'E': ['E4', 'F4', 'F#4', 'G4', 'G#4', 'A4', 'A#4', 'B4', 'C5', 'C#5', 'D5', 'D#5'], 'F': ['F4', 'Gb4', 'G4', 'Ab4', 'A4', 'Bb4', 'B4', 'C5', 'Db5', 'D5', 'Eb5', 'E5'], 'F#': ['F#4', 'G4', 'G#4', 'A4', 'A#4', 'B4', 'C5', 'C#5', 'D5', 'D#5', 'E5', 'F5'], 'Gb': ['Gb4', 'G4', 'Ab4', 'A4', 'Bb4', 'B4', 'C5', 'Db5', 'D5', 'Eb5', 'E5', 'F5'], 'G': ['G4', 'G#4', 'A4', 'A#4', 'B4', 'C5', 'C#5', 'D5', 'D#5', 'E5', 'F5', 'F#5'], 'G#': ['G#4', 'A4', 'A#4', 'B4', 'C5', 'C#5', 'D5', 'D#5', 'E5', 'F5', 'F#5', 'G5'], 'Ab': ['Ab4', 'A4', 'Bb4', 'B4', 'C5', 'Db5', 'D5', 'Eb5', 'E5', 'F5', 'Gb5', 'G5'], 'A': ['A4', 'A#4', 'B4', 'C5', 'C#5', 'D5', 'D#5', 'E5', 'F5', 'F#5', 'G5', 'G#5'], 'A#': ['A#4', 'B4', 'C5', 'C#5', 'D5', 'D#5', 'E5', 'F5', 'F#5', 'G5', 'G#5', 'A5'], 'Bb': ['Bb4', 'B4', 'C5', 'Db5', 'D5', 'Eb5', 'E5', 'F5', 'Gb5', 'G5', 'Ab5', 'A5'], 'B': ['B4', 'C5', 'C#5', 'D5', 'D#5', 'E5', 'F5', 'F#5', 'G5', 'G#5', 'A5', 'A#5']}\n"
     ]
    }
   ],
   "source": [
    "print(chromatics)"
   ]
  },
  {
   "cell_type": "code",
   "execution_count": 13,
   "metadata": {
    "collapsed": true,
    "deletable": true,
    "editable": true,
    "run_control": {
     "frozen": false,
     "read_only": false
    }
   },
   "outputs": [],
   "source": [
    "def get_diatonic(tonic='C', mode='major', octave=None, descending=None):\n",
    "    diatonic_indices = {\n",
    "        'major' : [0,2,4,5,7,9,11,-12],\n",
    "        'minor' : [0,2,3,5,7,8,10,-12],\n",
    "    }\n",
    "\n",
    "    diatonic_index = diatonic_indices[mode]\n",
    "    \n",
    "    chroma = get_chromatic(tonic)\n",
    "    diatonic = [chroma[step] for step in diatonic_index]\n",
    "    \n",
    "    if octave:\n",
    "        for idx,note in enumerate(diatonic):\n",
    "            if idx > 0 and diatonic[idx] == 'C':\n",
    "                octave += 1\n",
    "\n",
    "            diatonic[idx] = \"{}{}\".format(note, octave)\n",
    "            \n",
    "    if descending:\n",
    "        diatonic.reverse()\n",
    "    \n",
    "    return diatonic"
   ]
  },
  {
   "cell_type": "code",
   "execution_count": 14,
   "metadata": {
    "collapsed": false,
    "deletable": true,
    "editable": true,
    "run_control": {
     "frozen": false,
     "read_only": false
    }
   },
   "outputs": [
    {
     "data": {
      "text/plain": [
       "['C4', 'B3', 'A3', 'G3', 'F3', 'E3', 'D3', 'C3']"
      ]
     },
     "execution_count": 14,
     "metadata": {},
     "output_type": "execute_result"
    }
   ],
   "source": [
    "get_diatonic(octave=3, descending=True)"
   ]
  },
  {
   "cell_type": "code",
   "execution_count": null,
   "metadata": {
    "collapsed": true,
    "deletable": true,
    "editable": true,
    "run_control": {
     "frozen": false,
     "read_only": false
    }
   },
   "outputs": [],
   "source": []
  }
 ],
 "metadata": {
  "kernelspec": {
   "display_name": "Python 3",
   "language": "python",
   "name": "python3"
  },
  "language_info": {
   "codemirror_mode": {
    "name": "ipython",
    "version": 3
   },
   "file_extension": ".py",
   "mimetype": "text/x-python",
   "name": "python",
   "nbconvert_exporter": "python",
   "pygments_lexer": "ipython3",
   "version": "3.6.0"
  }
 },
 "nbformat": 4,
 "nbformat_minor": 2
}
