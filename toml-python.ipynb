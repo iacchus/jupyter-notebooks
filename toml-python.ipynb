{
 "cells": [
  {
   "cell_type": "markdown",
   "metadata": {
    "run_control": {
     "frozen": false,
     "read_only": true
    }
   },
   "source": [
    "# TOML + Python\n",
    "\n",
    "We are currently working on a GitHub hosted Awesome List on free and open sources resources for musicians music (see here: [Awesome Sheet Music](https://iacchus.github.io/awesome-sheet-music)) and want to automate the markdown and html generation, so we will be sing toml to handle the data and use a python script to generate the output.\n",
    "\n",
    "Pythons Toml side-by-side with the official toml 0.4.0 documentation to achieve our objectives.\n",
    "\n",
    "Toml elements we'll be using:\n",
    "\n",
    "* [table](https://github.com/toml-lang/toml#table)\n",
    "* [key-value pair](https://github.com/toml-lang/toml#keyvalue-pair)\n",
    "* [string](https://github.com/toml-lang/toml#string)\n",
    "* [array](https://github.com/toml-lang/toml#array)\n",
    "* [inline table](https://github.com/toml-lang/toml#inline-table)\n",
    "* [array of tables](https://github.com/toml-lang/toml#array-of-tables)\n",
    "\n",
    "In this we will be generating 2 types of models: for the *items* on the list and for the *sections and subsections* of the list."
   ]
  },
  {
   "cell_type": "code",
   "execution_count": 1,
   "metadata": {
    "collapsed": true,
    "run_control": {
     "frozen": false,
     "read_only": false
    }
   },
   "outputs": [],
   "source": [
    "from toml import loads # load from string\n",
    "\n",
    "from pprint import pprint"
   ]
  },
  {
   "cell_type": "markdown",
   "metadata": {
    "run_control": {
     "frozen": false,
     "read_only": false
    }
   },
   "source": [
    "First we see what an empty table generates"
   ]
  },
  {
   "cell_type": "code",
   "execution_count": 2,
   "metadata": {
    "collapsed": true,
    "run_control": {
     "frozen": false,
     "read_only": false
    }
   },
   "outputs": [],
   "source": [
    "entry = \"\"\"\n",
    "[table]\n",
    "\"\"\""
   ]
  },
  {
   "cell_type": "code",
   "execution_count": 5,
   "metadata": {
    "run_control": {
     "frozen": false,
     "read_only": false
    },
    "scrolled": true
   },
   "outputs": [
    {
     "data": {
      "text/plain": [
       "{'table': {}}"
      ]
     },
     "execution_count": 5,
     "metadata": {},
     "output_type": "execute_result"
    }
   ],
   "source": [
    "loads(entry)"
   ]
  },
  {
   "cell_type": "markdown",
   "metadata": {
    "run_control": {
     "frozen": false,
     "read_only": false
    }
   },
   "source": [
    "Then let's generate, to give shape to an entry as we will need in our application"
   ]
  },
  {
   "cell_type": "code",
   "execution_count": 17,
   "metadata": {
    "collapsed": true,
    "run_control": {
     "frozen": false,
     "read_only": false
    }
   },
   "outputs": [],
   "source": [
    "entry2 = \"\"\"\n",
    "[table.test]\n",
    "title = 'birdears'\n",
    "section = \"Ear Training/Software\" # this can be string or list of strings\n",
    "url = \"\"\n",
    "\"\"\""
   ]
  },
  {
   "cell_type": "code",
   "execution_count": 18,
   "metadata": {
    "run_control": {
     "frozen": false,
     "read_only": false
    }
   },
   "outputs": [],
   "source": [
    "a=loads(entry2)"
   ]
  },
  {
   "cell_type": "code",
   "execution_count": 19,
   "metadata": {},
   "outputs": [
    {
     "name": "stdout",
     "output_type": "stream",
     "text": [
      "{'table': {'test': {'section': 'Ear Training/Software',\n",
      "                    'title': 'birdears',\n",
      "                    'url': ''}}}\n"
     ]
    }
   ],
   "source": [
    "pprint(a)"
   ]
  },
  {
   "cell_type": "code",
   "execution_count": null,
   "metadata": {
    "collapsed": true
   },
   "outputs": [],
   "source": []
  }
 ],
 "metadata": {
  "kernelspec": {
   "display_name": "Python 3",
   "language": "python",
   "name": "python3"
  },
  "language_info": {
   "codemirror_mode": {
    "name": "ipython",
    "version": 3
   },
   "file_extension": ".py",
   "mimetype": "text/x-python",
   "name": "python",
   "nbconvert_exporter": "python",
   "pygments_lexer": "ipython3",
   "version": "3.6.1"
  }
 },
 "nbformat": 4,
 "nbformat_minor": 2
}
