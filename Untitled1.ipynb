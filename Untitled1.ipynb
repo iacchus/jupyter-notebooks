{
 "cells": [
  {
   "cell_type": "code",
   "execution_count": 1,
   "metadata": {
    "collapsed": true,
    "run_control": {
     "frozen": false,
     "read_only": false
    }
   },
   "outputs": [],
   "source": [
    "import MidiFile3"
   ]
  },
  {
   "cell_type": "code",
   "execution_count": 2,
   "metadata": {
    "collapsed": false
   },
   "outputs": [
    {
     "data": {
      "text/plain": [
       "['GenericEvent',\n",
       " 'MIDIEvent',\n",
       " 'MIDIFile',\n",
       " 'MIDIHeader',\n",
       " 'MIDITrack',\n",
       " 'TICKSPERBEAT',\n",
       " '__builtins__',\n",
       " '__cached__',\n",
       " '__doc__',\n",
       " '__file__',\n",
       " '__loader__',\n",
       " '__name__',\n",
       " '__package__',\n",
       " '__spec__',\n",
       " 'controllerEventTypes',\n",
       " 'frequencyTransform',\n",
       " 'math',\n",
       " 'readVarLength',\n",
       " 'returnFrequency',\n",
       " 'struct',\n",
       " 'sys',\n",
       " 'writeVarLength']"
      ]
     },
     "execution_count": 2,
     "metadata": {},
     "output_type": "execute_result"
    }
   ],
   "source": [
    "dir(MidiFile3)"
   ]
  },
  {
   "cell_type": "code",
   "execution_count": 7,
   "metadata": {
    "collapsed": false
   },
   "outputs": [],
   "source": [
    "MyMIDI = MidiFile3.MIDIFile(1)\n",
    "track = 0\n",
    "channel = 0\n",
    "pitch = 60\n",
    "time = 0\n",
    "duration = 10\n",
    "volume = 100\n",
    "MyMIDI.addNote(track,channel,pitch,time,duration,volume)"
   ]
  },
  {
   "cell_type": "code",
   "execution_count": null,
   "metadata": {
    "collapsed": true
   },
   "outputs": [],
   "source": []
  }
 ],
 "metadata": {
  "kernelspec": {
   "display_name": "Python 3",
   "language": "python",
   "name": "python3"
  },
  "language_info": {
   "codemirror_mode": {
    "name": "ipython",
    "version": 3
   },
   "file_extension": ".py",
   "mimetype": "text/x-python",
   "name": "python",
   "nbconvert_exporter": "python",
   "pygments_lexer": "ipython3",
   "version": "3.5.2"
  }
 },
 "nbformat": 4,
 "nbformat_minor": 1
}
