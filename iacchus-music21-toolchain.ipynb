{
 "cells": [
  {
   "cell_type": "code",
   "execution_count": 1,
   "metadata": {
    "collapsed": true
   },
   "outputs": [],
   "source": [
    "from music21 import *"
   ]
  },
  {
   "cell_type": "code",
   "execution_count": 17,
   "metadata": {
    "collapsed": true
   },
   "outputs": [],
   "source": [
    "from IPython.display import Image, Audio, HTML"
   ]
  },
  {
   "cell_type": "code",
   "execution_count": 2,
   "metadata": {
    "collapsed": true
   },
   "outputs": [],
   "source": [
    "greekModes = [ 'ionian', 'dorian', 'phrygian',\n",
    "'lydian', 'mixolydian', 'aeolian', 'locrian' ]"
   ]
  },
  {
   "cell_type": "code",
   "execution_count": 3,
   "metadata": {
    "collapsed": true
   },
   "outputs": [],
   "source": [
    "def circleOfFifths():\n",
    "    fifths = []\n",
    "\n",
    "    fifthsScale = scale.CyclicalScale('c4', 'p5')\n",
    "    \n",
    "    for p in fifthsScale.getPitches('c4', 'c11'):\n",
    "        \n",
    "        MAJOR = str(p.simplifyEnharmonic().name)\n",
    "        MAJOR_EN = str(p.getEnharmonic().simplifyEnharmonic().name)\n",
    "        MINOR = str(key.Key(MAJOR, 'major').relative.tonic.simplifyEnharmonic().name).lower()\n",
    "        MINOR_EN = str(key.Key(MAJOR_EN, 'major').relative.tonic.simplifyEnharmonic().name).lower()\n",
    "\n",
    "        if MAJOR == MAJOR_EN:\n",
    "            major = MAJOR\n",
    "        else:\n",
    "            major = \"{0} or {1}\".format(MAJOR, MAJOR_EN)\n",
    "            \n",
    "        if MINOR == MINOR_EN:\n",
    "            minor = MINOR\n",
    "        else:\n",
    "            minor = \"{0} or {1}\".format(MINOR, MINOR_EN)\n",
    "        fifths.append( [ major, minor ] )\n",
    "\n",
    "        #fifths.append(p.simplifyEnharmonic())\n",
    "        \n",
    "    return fifths"
   ]
  },
  {
   "cell_type": "code",
   "execution_count": 4,
   "metadata": {
    "collapsed": true
   },
   "outputs": [],
   "source": [
    "def returnScale(tonic='c', mode='major', ownKey = False):\n",
    "    \n",
    "    modes = [ 'ionian','dorian','phrygian',\n",
    "              'lydian','mixolydian','aeolian',\n",
    "              'locrian','major','minor']\n",
    "    \n",
    "    if mode in modes:\n",
    "        if mode == 'ionian':\n",
    "            mode = 'major'\n",
    "        elif mode == 'aeolian':\n",
    "            mode = 'minor'\n",
    "    else:\n",
    "        mymode = 'major'\n",
    "        \n",
    "    myfunc = eval(\"scale.{0}Scale\".format(mode.capitalize()))\n",
    "    pitches = myfunc(tonic).getPitches()\n",
    "\n",
    "    scaleSharps = key.pitchToSharps(tonic, mode)\n",
    "    myKeySig = key.KeySignature(scaleSharps)\n",
    "    \n",
    "    mystream = stream.Stream()\n",
    "    \n",
    "    if ownKey:\n",
    "        mystream.append(myKeySig)\n",
    "\n",
    "    for x in range(0, len(pitches)):\n",
    "        mynote = note.Note(pitches[x])\n",
    "\n",
    "        mynote.addLyric(interval.notesToInterval(pitches[0], mynote).directedName)\n",
    "        mynote.addLyric(interval.notesToInterval(pitches[(x-1 if x>0 else 0)], mynote).directedName)\n",
    "        \n",
    "        mystream.append(mynote)\n",
    "        \n",
    "    return mystream"
   ]
  },
  {
   "cell_type": "code",
   "execution_count": 9,
   "metadata": {
    "collapsed": true
   },
   "outputs": [],
   "source": [
    "def returnTriads(tonic='c', mode='major', ownKey = False):\n",
    "    \n",
    "    modes = [ 'ionian','dorian','phrygian',\n",
    "              'lydian','mixolydian','aeolian',\n",
    "              'locrian','major','minor']\n",
    "    \n",
    "    if mode in modes:\n",
    "        if mode == 'ionian':\n",
    "            mode = 'major'\n",
    "        elif mode == 'aeolian':\n",
    "            mode = 'minor'\n",
    "    else:\n",
    "        mymode = 'major'\n",
    "        \n",
    "    myfunc = eval(\"scale.{0}Scale\".format(mode.capitalize()))\n",
    "    #pitches = myfunc(tonic).getPitches()\n",
    "\n",
    "    pitches = myfunc(tonic).getChord(tonic+\"4\",tonic+\"6\").pitches\n",
    "    scaleSharps = key.pitchToSharps(tonic, mode)\n",
    "    myKeySig = key.KeySignature(scaleSharps)\n",
    "    \n",
    "    mystream = stream.Stream()\n",
    "    \n",
    "    myduration = duration.Duration(\"whole\")\n",
    "    \n",
    "    if ownKey:\n",
    "        mystream.append(myKeySig)\n",
    "        \n",
    "    for x in range(0,8):\n",
    "        mychord = chord.Chord([ pitches[x], pitches[x+2], pitches[x+4] ], duration=myduration)\n",
    "        mychord.addLyric(roman.romanNumeralFromChord(mychord,key.Key(tonic,mode)).figure)\n",
    "        mychord.addLyric(harmony.chordSymbolFigureFromChord(mychord))\n",
    "        \n",
    "        mystream.append(mychord)\n",
    "        \n",
    "    return mystream"
   ]
  },
  {
   "cell_type": "code",
   "execution_count": 7,
   "metadata": {
    "collapsed": true
   },
   "outputs": [],
   "source": [
    "def midiStream(mystream):\n",
    "\n",
    "    try:\n",
    "        if myAudio:\n",
    "            pass\n",
    "    except:\n",
    "        from IPython.display import Audio as myAudio\n",
    "    \n",
    "    mymidi_filename = mystream.write('midi')\n",
    "    \n",
    "    return myAudio(filename=mymidi_filename)"
   ]
  },
  {
   "cell_type": "code",
   "execution_count": 10,
   "metadata": {
    "collapsed": false
   },
   "outputs": [
    {
     "data": {
      "text/plain": [
       "[['C', 'a'],\n",
       " ['G', 'e'],\n",
       " ['D', 'b'],\n",
       " ['A', 'f#'],\n",
       " ['E', 'c#'],\n",
       " ['B', 'g#'],\n",
       " ['F# or G-', 'd# or e-'],\n",
       " ['C# or D-', 'a# or b-'],\n",
       " ['G# or A-', 'f'],\n",
       " ['D# or E-', 'c'],\n",
       " ['A# or B-', 'g'],\n",
       " ['F', 'd'],\n",
       " ['C', 'a']]"
      ]
     },
     "execution_count": 10,
     "metadata": {},
     "output_type": "execute_result"
    }
   ],
   "source": [
    "circleOfFifths()"
   ]
  },
  {
   "cell_type": "code",
   "execution_count": 19,
   "metadata": {
    "collapsed": false
   },
   "outputs": [
    {
     "data": {
      "image/png": "[encoded data removed]",
      "text/plain": [
       "<IPython.core.display.Image object>"
      ]
     },
     "execution_count": 19,
     "metadata": {},
     "output_type": "execute_result"
    }
   ],
   "source": [
    "triads = returnTriads('D','aeolian',True).write()\n",
    "Image(filename=triads)"
   ]
  },
  {
   "cell_type": "code",
   "execution_count": 15,
   "metadata": {
    "collapsed": false
   },
   "outputs": [],
   "source": []
  },
  {
   "cell_type": "code",
   "execution_count": null,
   "metadata": {
    "collapsed": true
   },
   "outputs": [],
   "source": []
  }
 ],
 "metadata": {
  "kernelspec": {
   "display_name": "Python 3",
   "language": "python",
   "name": "python3"
  },
  "language_info": {
   "codemirror_mode": {
    "name": "ipython",
    "version": 3
   },
   "file_extension": ".py",
   "mimetype": "text/x-python",
   "name": "python",
   "nbconvert_exporter": "python",
   "pygments_lexer": "ipython3",
   "version": "3.5.2"
  }
 },
 "nbformat": 4,
 "nbformat_minor": 1
}
