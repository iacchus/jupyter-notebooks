{
 "cells": [
  {
   "cell_type": "code",
   "execution_count": 11,
   "metadata": {
    "collapsed": true,
    "deletable": true,
    "editable": true,
    "run_control": {
     "frozen": false,
     "read_only": false
    }
   },
   "outputs": [],
   "source": [
    "from music21 import *\n",
    "from pprint import pprint"
   ]
  },
  {
   "cell_type": "code",
   "execution_count": 12,
   "metadata": {
    "collapsed": true,
    "deletable": true,
    "editable": true,
    "run_control": {
     "frozen": false,
     "read_only": false
    }
   },
   "outputs": [],
   "source": [
    "c = scale.ChromaticScale('c')"
   ]
  },
  {
   "cell_type": "code",
   "execution_count": 13,
   "metadata": {
    "collapsed": false,
    "deletable": true,
    "editable": true,
    "run_control": {
     "frozen": false,
     "read_only": false
    }
   },
   "outputs": [
    {
     "name": "stdout",
     "output_type": "stream",
     "text": [
      "['C', 'C#', 'D', 'Eb', 'E', 'F', 'F#', 'G', 'Ab', 'A', 'Bb', 'B', 'C']\n"
     ]
    }
   ],
   "source": [
    "tones = [p.name.replace('-','b') for p in c.pitches]\n",
    "\n",
    "pprint(tones)"
   ]
  },
  {
   "cell_type": "code",
   "execution_count": 14,
   "metadata": {
    "collapsed": false,
    "deletable": true,
    "editable": true,
    "run_control": {
     "frozen": false,
     "read_only": false
    }
   },
   "outputs": [
    {
     "name": "stdout",
     "output_type": "stream",
     "text": [
      "['C', 'C#', 'D', 'E-', 'E', 'F', 'F#', 'G', 'A-', 'A', 'B-', 'B', 'C']\n"
     ]
    }
   ],
   "source": [
    "tones21 = [p.name for p in c.pitches]\n",
    "\n",
    "pprint(tones21)"
   ]
  },
  {
   "cell_type": "code",
   "execution_count": 15,
   "metadata": {
    "collapsed": false,
    "deletable": true,
    "editable": true,
    "run_control": {
     "frozen": false,
     "read_only": false
    }
   },
   "outputs": [
    {
     "name": "stdout",
     "output_type": "stream",
     "text": [
      "{'A': ['A', 'B', 'C#', 'D', 'E', 'F#', 'G#', 'A'],\n",
      " 'Ab': ['Ab', 'Bb', 'C', 'Db', 'Eb', 'F', 'G', 'Ab'],\n",
      " 'B': ['B', 'C#', 'D#', 'E', 'F#', 'G#', 'A#', 'B'],\n",
      " 'Bb': ['Bb', 'C', 'D', 'Eb', 'F', 'G', 'A', 'Bb'],\n",
      " 'C': ['C', 'D', 'E', 'F', 'G', 'A', 'B', 'C'],\n",
      " 'C#': ['C#', 'D#', 'E#', 'F#', 'G#', 'A#', 'B#', 'C#'],\n",
      " 'D': ['D', 'E', 'F#', 'G', 'A', 'B', 'C#', 'D'],\n",
      " 'E': ['E', 'F#', 'G#', 'A', 'B', 'C#', 'D#', 'E'],\n",
      " 'Eb': ['Eb', 'F', 'G', 'Ab', 'Bb', 'C', 'D', 'Eb'],\n",
      " 'F': ['F', 'G', 'A', 'Bb', 'C', 'D', 'E', 'F'],\n",
      " 'F#': ['F#', 'G#', 'A#', 'B', 'C#', 'D#', 'E#', 'F#'],\n",
      " 'G': ['G', 'A', 'B', 'C', 'D', 'E', 'F#', 'G']}\n"
     ]
    }
   ],
   "source": [
    "majors = {}\n",
    "\n",
    "for tonic in tones21:\n",
    "    maj_sc = scale.MajorScale(tonic)\n",
    "    majors.update({tonic.replace('-','b'):[p.name.replace('-','b') for p in maj_sc.pitches]})\n",
    "    \n",
    "pprint(majors)"
   ]
  },
  {
   "cell_type": "code",
   "execution_count": 16,
   "metadata": {
    "collapsed": false,
    "deletable": true,
    "editable": true,
    "run_control": {
     "frozen": false,
     "read_only": false
    }
   },
   "outputs": [
    {
     "name": "stdout",
     "output_type": "stream",
     "text": [
      "{'A': ['A', 'B', 'C', 'D', 'E', 'F', 'G', 'A'],\n",
      " 'Ab': ['Ab', 'Bb', 'Cb', 'Db', 'Eb', 'Fb', 'Gb', 'Ab'],\n",
      " 'B': ['B', 'C#', 'D', 'E', 'F#', 'G', 'A', 'B'],\n",
      " 'Bb': ['Bb', 'C', 'Db', 'Eb', 'F', 'Gb', 'Ab', 'Bb'],\n",
      " 'C': ['C', 'D', 'Eb', 'F', 'G', 'Ab', 'Bb', 'C'],\n",
      " 'C#': ['C#', 'D#', 'E', 'F#', 'G#', 'A', 'B', 'C#'],\n",
      " 'D': ['D', 'E', 'F', 'G', 'A', 'Bb', 'C', 'D'],\n",
      " 'E': ['E', 'F#', 'G', 'A', 'B', 'C', 'D', 'E'],\n",
      " 'Eb': ['Eb', 'F', 'Gb', 'Ab', 'Bb', 'Cb', 'Db', 'Eb'],\n",
      " 'F': ['F', 'G', 'Ab', 'Bb', 'C', 'Db', 'Eb', 'F'],\n",
      " 'F#': ['F#', 'G#', 'A', 'B', 'C#', 'D', 'E', 'F#'],\n",
      " 'G': ['G', 'A', 'Bb', 'C', 'D', 'Eb', 'F', 'G']}\n"
     ]
    }
   ],
   "source": [
    "minors = {}\n",
    "\n",
    "for tonic in tones21:\n",
    "    min_sc = scale.MinorScale(tonic)\n",
    "    minors.update({tonic.replace('-','b'):[p.name.replace('-','b') for p in min_sc.pitches]})\n",
    "    \n",
    "pprint(minors)"
   ]
  },
  {
   "cell_type": "code",
   "execution_count": 17,
   "metadata": {
    "collapsed": false,
    "deletable": true,
    "editable": true,
    "run_control": {
     "frozen": false,
     "read_only": false
    },
    "scrolled": true
   },
   "outputs": [
    {
     "name": "stdout",
     "output_type": "stream",
     "text": [
      "{'A': ['A', 'Bb', 'B', 'C', 'C#', 'D', 'Eb', 'E', 'F', 'F#', 'G', 'Ab', 'A'],\n",
      " 'Ab': ['Ab', 'A', 'Bb', 'B', 'C', 'C#', 'D', 'Eb', 'E', 'F', 'F#', 'G', 'Ab'],\n",
      " 'B': ['B', 'C', 'C#', 'D', 'Eb', 'E', 'F', 'F#', 'G', 'Ab', 'A', 'Bb', 'B'],\n",
      " 'Bb': ['Bb', 'B', 'C', 'C#', 'D', 'Eb', 'E', 'F', 'F#', 'G', 'Ab', 'A', 'Bb'],\n",
      " 'C': ['C', 'C#', 'D', 'Eb', 'E', 'F', 'F#', 'G', 'Ab', 'A', 'Bb', 'B', 'C'],\n",
      " 'C#': ['C#', 'D', 'Eb', 'E', 'F', 'F#', 'G', 'Ab', 'A', 'Bb', 'B', 'C', 'C#'],\n",
      " 'D': ['D', 'Eb', 'E', 'F', 'F#', 'G', 'Ab', 'A', 'Bb', 'B', 'C', 'C#', 'D'],\n",
      " 'E': ['E', 'F', 'F#', 'G', 'Ab', 'A', 'Bb', 'B', 'C', 'C#', 'D', 'Eb', 'E'],\n",
      " 'Eb': ['Eb', 'E', 'F', 'F#', 'G', 'Ab', 'A', 'Bb', 'B', 'C', 'C#', 'D', 'Eb'],\n",
      " 'F': ['F', 'F#', 'G', 'Ab', 'A', 'Bb', 'B', 'C', 'C#', 'D', 'Eb', 'E', 'F'],\n",
      " 'F#': ['F#', 'G', 'Ab', 'A', 'Bb', 'B', 'C', 'C#', 'D', 'Eb', 'E', 'F', 'F#'],\n",
      " 'G': ['G', 'Ab', 'A', 'Bb', 'B', 'C', 'C#', 'D', 'Eb', 'E', 'F', 'F#', 'G']}\n"
     ]
    }
   ],
   "source": [
    "chromatics = {}\n",
    "\n",
    "for tonic in tones21:\n",
    "    chrm_sc = scale.ChromaticScale(tonic)\n",
    "    chromatics.update({tonic.replace('-','b'):[p.name.replace('-','b') for p in chrm_sc.pitches]})\n",
    "    \n",
    "pprint(chromatics)"
   ]
  },
  {
   "cell_type": "code",
   "execution_count": 45,
   "metadata": {
    "collapsed": false,
    "deletable": true,
    "editable": true,
    "run_control": {
     "frozen": false,
     "read_only": false
    }
   },
   "outputs": [],
   "source": [
    "#c.intervalBetweenDegrees(c.pitches[0],c.pitches[-1])\n",
    "\n",
    "intv = interval.notesToInterval(c.pitches[0],c.pitches[-3])"
   ]
  },
  {
   "cell_type": "code",
   "execution_count": 52,
   "metadata": {
    "collapsed": false
   },
   "outputs": [
    {
     "data": {
      "text/plain": [
       "10"
      ]
     },
     "execution_count": 52,
     "metadata": {},
     "output_type": "execute_result"
    }
   ],
   "source": [
    "intv.semitones\n"
   ]
  },
  {
   "cell_type": "code",
   "execution_count": 54,
   "metadata": {
    "collapsed": false
   },
   "outputs": [
    {
     "name": "stdout",
     "output_type": "stream",
     "text": [
      "{0: [0, 'P1', 'Perfect Unison'],\n",
      " 1: [1, 'A1', 'Augmented Unison'],\n",
      " 2: [2, 'M2', 'Major Second'],\n",
      " 3: [3, 'm3', 'Minor Third'],\n",
      " 4: [4, 'M3', 'Major Third'],\n",
      " 5: [5, 'P4', 'Perfect Fourth'],\n",
      " 6: [6, 'A4', 'Augmented Fourth'],\n",
      " 7: [7, 'P5', 'Perfect Fifth'],\n",
      " 8: [8, 'm6', 'Minor Sixth'],\n",
      " 9: [9, 'M6', 'Major Sixth'],\n",
      " 10: [10, 'm7', 'Minor Seventh'],\n",
      " 11: [11, 'M7', 'Major Seventh'],\n",
      " 12: [12, 'P8', 'Perfect Octave']}\n"
     ]
    }
   ],
   "source": [
    "#intervals = [(interval.notesToInterval(c.pitches[0],pitch).directedNiceName) for pitch in c.pitches]\n",
    "intervals = {}\n",
    "\n",
    "for pitch in c.pitches:\n",
    "    ival = interval.notesToInterval(c.pitches[0], pitch)\n",
    "    \n",
    "    intervals.update({ival.semitones: [ival.semitones, ival.name, ival.niceName]})\n",
    "    \n",
    "pprint(intervals)"
   ]
  },
  {
   "cell_type": "code",
   "execution_count": null,
   "metadata": {
    "collapsed": true
   },
   "outputs": [],
   "source": []
  }
 ],
 "metadata": {
  "kernelspec": {
   "display_name": "Python 3",
   "language": "python",
   "name": "python3"
  },
  "language_info": {
   "codemirror_mode": {
    "name": "ipython",
    "version": 3
   },
   "file_extension": ".py",
   "mimetype": "text/x-python",
   "name": "python",
   "nbconvert_exporter": "python",
   "pygments_lexer": "ipython3",
   "version": "3.6.0"
  }
 },
 "nbformat": 4,
 "nbformat_minor": 2
}
