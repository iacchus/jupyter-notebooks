{
 "cells": [
  {
   "cell_type": "code",
   "execution_count": 5,
   "metadata": {
    "collapsed": true,
    "deletable": true,
    "editable": true,
    "run_control": {
     "frozen": false,
     "read_only": false
    }
   },
   "outputs": [],
   "source": [
    "from music21 import *\n",
    "from pprint import pprint"
   ]
  },
  {
   "cell_type": "code",
   "execution_count": 19,
   "metadata": {
    "collapsed": false,
    "deletable": true,
    "editable": true,
    "run_control": {
     "frozen": false,
     "read_only": false
    },
    "scrolled": false
   },
   "outputs": [
    {
     "name": "stdout",
     "output_type": "stream",
     "text": [
      "[(0, 'P1', 'Perfect Unison'),\n",
      " (1, 'A1', 'Augmented Unison'),\n",
      " (2, 'M2', 'Major Second'),\n",
      " (3, 'm3', 'Minor Third'),\n",
      " (4, 'M3', 'Major Third'),\n",
      " (5, 'P4', 'Perfect Fourth'),\n",
      " (6, 'A4', 'Augmented Fourth'),\n",
      " (7, 'P5', 'Perfect Fifth'),\n",
      " (8, 'm6', 'Minor Sixth'),\n",
      " (9, 'M6', 'Major Sixth'),\n",
      " (10, 'm7', 'Minor Seventh'),\n",
      " (11, 'M7', 'Major Seventh'),\n",
      " (12, 'P8', 'Perfect Octave'),\n",
      " (13, 'A8', 'Augmented Octave'),\n",
      " (14, 'M9', 'Major Ninth'),\n",
      " (15, 'm10', 'Minor Tenth'),\n",
      " (16, 'M10', 'Major Tenth'),\n",
      " (17, 'P11', 'Perfect Eleventh'),\n",
      " (18, 'A11', 'Augmented Eleventh'),\n",
      " (19, 'P12', 'Perfect Twelfth'),\n",
      " (20, 'm13', 'Minor Thirteenth'),\n",
      " (21, 'M13', 'Major Thirteenth'),\n",
      " (22, 'm14', 'Minor Fourteenth'),\n",
      " (23, 'M14', 'Major Fourteenth'),\n",
      " (24, 'P15', 'Perfect Double-octave'),\n",
      " (25, 'A15', 'Augmented Double-octave'),\n",
      " (26, 'M16', 'Major Sixteenth'),\n",
      " (27, 'm17', 'Minor Seventeenth'),\n",
      " (28, 'M17', 'Major Seventeenth'),\n",
      " (29, 'P18', 'Perfect Eighteenth'),\n",
      " (30, 'A18', 'Augmented Eighteenth'),\n",
      " (31, 'P19', 'Perfect Nineteenth'),\n",
      " (32, 'm20', 'Minor Twentieth'),\n",
      " (33, 'M20', 'Major Twentieth'),\n",
      " (34, 'm21', 'Minor Twenty-first'),\n",
      " (35, 'M21', 'Major Twenty-first'),\n",
      " (36, 'P22', 'Perfect Triple-octave'),\n",
      " (37, 'A22', 'Augmented Triple-octave'),\n",
      " (38, 'M23', 'Major 23'),\n",
      " (39, 'm24', 'Minor 24'),\n",
      " (40, 'M24', 'Major 24'),\n",
      " (41, 'P25', 'Perfect 25'),\n",
      " (42, 'A25', 'Augmented 25'),\n",
      " (43, 'P26', 'Perfect 26'),\n",
      " (44, 'm27', 'Minor 27'),\n",
      " (45, 'M27', 'Major 27'),\n",
      " (46, 'm28', 'Minor 28'),\n",
      " (47, 'M28', 'Major 28'),\n",
      " (48, 'P29', 'Perfect 29'),\n",
      " (49, 'A29', 'Augmented 29'),\n",
      " (50, 'M30', 'Major 30'),\n",
      " (51, 'm31', 'Minor 31'),\n",
      " (52, 'M31', 'Major 31'),\n",
      " (53, 'P32', 'Perfect 32'),\n",
      " (54, 'A32', 'Augmented 32'),\n",
      " (55, 'P33', 'Perfect 33'),\n",
      " (56, 'm34', 'Minor 34'),\n",
      " (57, 'M34', 'Major 34'),\n",
      " (58, 'm35', 'Minor 35'),\n",
      " (59, 'M35', 'Major 35'),\n",
      " (60, 'P36', 'Perfect 36')]\n"
     ]
    }
   ],
   "source": [
    "c = scale.ChromaticScale('c')\n",
    "#intervals = [(interval.notesToInterval(c.pitches[0],pitch).directedNiceName) for pitch in c.pitches]\n",
    "intervals = []\n",
    "\n",
    "for pitch in c.getPitches('c4','c9'):\n",
    "    ival = interval.notesToInterval(c.pitches[0], pitch)\n",
    "    \n",
    "    intervals.append((ival.semitones, ival.name, ival.niceName))\n",
    "    \n",
    "pprint(intervals)"
   ]
  },
  {
   "cell_type": "code",
   "execution_count": 15,
   "metadata": {
    "collapsed": false
   },
   "outputs": [
    {
     "ename": "AttributeError",
     "evalue": "'list' object has no attribute 'octave'",
     "output_type": "error",
     "traceback": [
      "\u001b[0;31m---------------------------------------------------------------------------\u001b[0m",
      "\u001b[0;31mAttributeError\u001b[0m                            Traceback (most recent call last)",
      "\u001b[0;32m<ipython-input-15-d8e1553639ab>\u001b[0m in \u001b[0;36m<module>\u001b[0;34m()\u001b[0m\n\u001b[0;32m----> 1\u001b[0;31m \u001b[0mc\u001b[0m\u001b[0;34m.\u001b[0m\u001b[0mgetPitches\u001b[0m\u001b[0;34m(\u001b[0m\u001b[0;34m)\u001b[0m\u001b[0;34m\u001b[0m\u001b[0m\n\u001b[0m",
      "\u001b[0;32m/home/iacchus/git-stuff/jupyter-venv/venv/lib/python3.6/site-packages/music21/scale/__init__.py\u001b[0m in \u001b[0;36mgetPitches\u001b[0;34m(self, minPitch, maxPitch, direction)\u001b[0m\n\u001b[1;32m   1551\u001b[0m                                                  \u001b[0mmaxPitch\u001b[0m\u001b[0;34m=\u001b[0m\u001b[0mmaxPitch\u001b[0m\u001b[0;34m,\u001b[0m\u001b[0;34m\u001b[0m\u001b[0m\n\u001b[1;32m   1552\u001b[0m                                                  \u001b[0mdirection\u001b[0m\u001b[0;34m=\u001b[0m\u001b[0mdirection\u001b[0m\u001b[0;34m,\u001b[0m\u001b[0;34m\u001b[0m\u001b[0m\n\u001b[0;32m-> 1553\u001b[0;31m                                                  reverse=reverse)\n\u001b[0m\u001b[1;32m   1554\u001b[0m         \u001b[0;32melse\u001b[0m\u001b[0;34m:\u001b[0m\u001b[0;34m\u001b[0m\u001b[0m\n\u001b[1;32m   1555\u001b[0m             \u001b[0;32mreturn\u001b[0m \u001b[0;34m[\u001b[0m\u001b[0;34m]\u001b[0m\u001b[0;34m\u001b[0m\u001b[0m\n",
      "\u001b[0;32m/home/iacchus/git-stuff/jupyter-venv/venv/lib/python3.6/site-packages/music21/scale/__init__.py\u001b[0m in \u001b[0;36mgetRealization\u001b[0;34m(self, pitchObj, stepOfPitch, minPitch, maxPitch, direction, reverse)\u001b[0m\n\u001b[1;32m    411\u001b[0m                                       \u001b[0malteredDegrees\u001b[0m\u001b[0;34m=\u001b[0m\u001b[0mself\u001b[0m\u001b[0;34m.\u001b[0m\u001b[0m_alteredDegrees\u001b[0m\u001b[0;34m,\u001b[0m\u001b[0;34m\u001b[0m\u001b[0m\n\u001b[1;32m    412\u001b[0m                                       \u001b[0mdirection\u001b[0m\u001b[0;34m=\u001b[0m\u001b[0mdirection\u001b[0m\u001b[0;34m,\u001b[0m\u001b[0;34m\u001b[0m\u001b[0m\n\u001b[0;32m--> 413\u001b[0;31m                                       reverse=reverse)\n\u001b[0m\u001b[1;32m    414\u001b[0m         \u001b[0;31m# here, we copy the list of pitches so as not to allow editing of\u001b[0m\u001b[0;34m\u001b[0m\u001b[0;34m\u001b[0m\u001b[0m\n\u001b[1;32m    415\u001b[0m         \u001b[0;31m# cached pitch values later\u001b[0m\u001b[0;34m\u001b[0m\u001b[0;34m\u001b[0m\u001b[0m\n",
      "\u001b[0;32m/home/iacchus/git-stuff/jupyter-venv/venv/lib/python3.6/site-packages/music21/scale/intervalNetwork.py\u001b[0m in \u001b[0;36mrealizePitch\u001b[0;34m(self, pitchReference, nodeId, minPitch, maxPitch, direction, alteredDegrees, reverse)\u001b[0m\n\u001b[1;32m   1905\u001b[0m                             \u001b[0mdirection\u001b[0m\u001b[0;34m=\u001b[0m\u001b[0mdirection\u001b[0m\u001b[0;34m,\u001b[0m\u001b[0;34m\u001b[0m\u001b[0m\n\u001b[1;32m   1906\u001b[0m                             \u001b[0malteredDegrees\u001b[0m\u001b[0;34m=\u001b[0m\u001b[0malteredDegrees\u001b[0m\u001b[0;34m,\u001b[0m\u001b[0;34m\u001b[0m\u001b[0m\n\u001b[0;32m-> 1907\u001b[0;31m                             reverse=reverse)\n\u001b[0m\u001b[1;32m   1908\u001b[0m         \u001b[0;32mreturn\u001b[0m \u001b[0mcomponents\u001b[0m\u001b[0;34m[\u001b[0m\u001b[0;36m0\u001b[0m\u001b[0;34m]\u001b[0m \u001b[0;31m# just return first component\u001b[0m\u001b[0;34m\u001b[0m\u001b[0m\n\u001b[1;32m   1909\u001b[0m \u001b[0;34m\u001b[0m\u001b[0m\n",
      "\u001b[0;32m/home/iacchus/git-stuff/jupyter-venv/venv/lib/python3.6/site-packages/music21/scale/intervalNetwork.py\u001b[0m in \u001b[0;36mrealize\u001b[0;34m(self, pitchReference, nodeId, minPitch, maxPitch, direction, alteredDegrees, reverse)\u001b[0m\n\u001b[1;32m   1713\u001b[0m             \u001b[0;32mraise\u001b[0m \u001b[0mIntervalNetworkException\u001b[0m\u001b[0;34m(\u001b[0m\u001b[0;34m'pitchReference cannot be None'\u001b[0m\u001b[0;34m)\u001b[0m\u001b[0;34m\u001b[0m\u001b[0m\n\u001b[1;32m   1714\u001b[0m         \u001b[0;31m# must set an octave for pitch reference, even if not given\u001b[0m\u001b[0;34m\u001b[0m\u001b[0;34m\u001b[0m\u001b[0m\n\u001b[0;32m-> 1715\u001b[0;31m         \u001b[0;32mif\u001b[0m \u001b[0mpitchReference\u001b[0m\u001b[0;34m.\u001b[0m\u001b[0moctave\u001b[0m \u001b[0;32mis\u001b[0m \u001b[0;32mNone\u001b[0m\u001b[0;34m:\u001b[0m\u001b[0;34m\u001b[0m\u001b[0m\n\u001b[0m\u001b[1;32m   1716\u001b[0m             \u001b[0mpitchReference\u001b[0m\u001b[0;34m.\u001b[0m\u001b[0moctave\u001b[0m \u001b[0;34m=\u001b[0m \u001b[0mpitchReference\u001b[0m\u001b[0;34m.\u001b[0m\u001b[0mimplicitOctave\u001b[0m\u001b[0;34m\u001b[0m\u001b[0m\n\u001b[1;32m   1717\u001b[0m \u001b[0;34m\u001b[0m\u001b[0m\n",
      "\u001b[0;31mAttributeError\u001b[0m: 'list' object has no attribute 'octave'"
     ]
    }
   ],
   "source": [
    "c.getPitches()"
   ]
  },
  {
   "cell_type": "code",
   "execution_count": 7,
   "metadata": {
    "collapsed": false,
    "deletable": true,
    "editable": true,
    "run_control": {
     "frozen": false,
     "read_only": false
    }
   },
   "outputs": [
    {
     "ename": "AttributeError",
     "evalue": "'list' object has no attribute 'octave'",
     "output_type": "error",
     "traceback": [
      "\u001b[0;31m---------------------------------------------------------------------------\u001b[0m",
      "\u001b[0;31mAttributeError\u001b[0m                            Traceback (most recent call last)",
      "\u001b[0;32m<ipython-input-7-5c818464f94b>\u001b[0m in \u001b[0;36m<module>\u001b[0;34m()\u001b[0m\n\u001b[0;32m----> 1\u001b[0;31m \u001b[0mtones\u001b[0m \u001b[0;34m=\u001b[0m \u001b[0;34m[\u001b[0m\u001b[0mp\u001b[0m\u001b[0;34m.\u001b[0m\u001b[0mname\u001b[0m\u001b[0;34m.\u001b[0m\u001b[0mreplace\u001b[0m\u001b[0;34m(\u001b[0m\u001b[0;34m'-'\u001b[0m\u001b[0;34m,\u001b[0m\u001b[0;34m'b'\u001b[0m\u001b[0;34m)\u001b[0m \u001b[0;32mfor\u001b[0m \u001b[0mp\u001b[0m \u001b[0;32min\u001b[0m \u001b[0mc\u001b[0m\u001b[0;34m.\u001b[0m\u001b[0mpitches\u001b[0m\u001b[0;34m]\u001b[0m\u001b[0;34m\u001b[0m\u001b[0m\n\u001b[0m\u001b[1;32m      2\u001b[0m \u001b[0;34m\u001b[0m\u001b[0m\n\u001b[1;32m      3\u001b[0m \u001b[0mpprint\u001b[0m\u001b[0;34m(\u001b[0m\u001b[0mtones\u001b[0m\u001b[0;34m)\u001b[0m\u001b[0;34m\u001b[0m\u001b[0m\n",
      "\u001b[0;32m/home/iacchus/git-stuff/jupyter-venv/venv/lib/python3.6/site-packages/music21/scale/__init__.py\u001b[0m in \u001b[0;36mgetPitches\u001b[0;34m(self, minPitch, maxPitch, direction)\u001b[0m\n\u001b[1;32m   1551\u001b[0m                                                  \u001b[0mmaxPitch\u001b[0m\u001b[0;34m=\u001b[0m\u001b[0mmaxPitch\u001b[0m\u001b[0;34m,\u001b[0m\u001b[0;34m\u001b[0m\u001b[0m\n\u001b[1;32m   1552\u001b[0m                                                  \u001b[0mdirection\u001b[0m\u001b[0;34m=\u001b[0m\u001b[0mdirection\u001b[0m\u001b[0;34m,\u001b[0m\u001b[0;34m\u001b[0m\u001b[0m\n\u001b[0;32m-> 1553\u001b[0;31m                                                  reverse=reverse)\n\u001b[0m\u001b[1;32m   1554\u001b[0m         \u001b[0;32melse\u001b[0m\u001b[0;34m:\u001b[0m\u001b[0;34m\u001b[0m\u001b[0m\n\u001b[1;32m   1555\u001b[0m             \u001b[0;32mreturn\u001b[0m \u001b[0;34m[\u001b[0m\u001b[0;34m]\u001b[0m\u001b[0;34m\u001b[0m\u001b[0m\n",
      "\u001b[0;32m/home/iacchus/git-stuff/jupyter-venv/venv/lib/python3.6/site-packages/music21/scale/__init__.py\u001b[0m in \u001b[0;36mgetRealization\u001b[0;34m(self, pitchObj, stepOfPitch, minPitch, maxPitch, direction, reverse)\u001b[0m\n\u001b[1;32m    411\u001b[0m                                       \u001b[0malteredDegrees\u001b[0m\u001b[0;34m=\u001b[0m\u001b[0mself\u001b[0m\u001b[0;34m.\u001b[0m\u001b[0m_alteredDegrees\u001b[0m\u001b[0;34m,\u001b[0m\u001b[0;34m\u001b[0m\u001b[0m\n\u001b[1;32m    412\u001b[0m                                       \u001b[0mdirection\u001b[0m\u001b[0;34m=\u001b[0m\u001b[0mdirection\u001b[0m\u001b[0;34m,\u001b[0m\u001b[0;34m\u001b[0m\u001b[0m\n\u001b[0;32m--> 413\u001b[0;31m                                       reverse=reverse)\n\u001b[0m\u001b[1;32m    414\u001b[0m         \u001b[0;31m# here, we copy the list of pitches so as not to allow editing of\u001b[0m\u001b[0;34m\u001b[0m\u001b[0;34m\u001b[0m\u001b[0m\n\u001b[1;32m    415\u001b[0m         \u001b[0;31m# cached pitch values later\u001b[0m\u001b[0;34m\u001b[0m\u001b[0;34m\u001b[0m\u001b[0m\n",
      "\u001b[0;32m/home/iacchus/git-stuff/jupyter-venv/venv/lib/python3.6/site-packages/music21/scale/intervalNetwork.py\u001b[0m in \u001b[0;36mrealizePitch\u001b[0;34m(self, pitchReference, nodeId, minPitch, maxPitch, direction, alteredDegrees, reverse)\u001b[0m\n\u001b[1;32m   1905\u001b[0m                             \u001b[0mdirection\u001b[0m\u001b[0;34m=\u001b[0m\u001b[0mdirection\u001b[0m\u001b[0;34m,\u001b[0m\u001b[0;34m\u001b[0m\u001b[0m\n\u001b[1;32m   1906\u001b[0m                             \u001b[0malteredDegrees\u001b[0m\u001b[0;34m=\u001b[0m\u001b[0malteredDegrees\u001b[0m\u001b[0;34m,\u001b[0m\u001b[0;34m\u001b[0m\u001b[0m\n\u001b[0;32m-> 1907\u001b[0;31m                             reverse=reverse)\n\u001b[0m\u001b[1;32m   1908\u001b[0m         \u001b[0;32mreturn\u001b[0m \u001b[0mcomponents\u001b[0m\u001b[0;34m[\u001b[0m\u001b[0;36m0\u001b[0m\u001b[0;34m]\u001b[0m \u001b[0;31m# just return first component\u001b[0m\u001b[0;34m\u001b[0m\u001b[0m\n\u001b[1;32m   1909\u001b[0m \u001b[0;34m\u001b[0m\u001b[0m\n",
      "\u001b[0;32m/home/iacchus/git-stuff/jupyter-venv/venv/lib/python3.6/site-packages/music21/scale/intervalNetwork.py\u001b[0m in \u001b[0;36mrealize\u001b[0;34m(self, pitchReference, nodeId, minPitch, maxPitch, direction, alteredDegrees, reverse)\u001b[0m\n\u001b[1;32m   1713\u001b[0m             \u001b[0;32mraise\u001b[0m \u001b[0mIntervalNetworkException\u001b[0m\u001b[0;34m(\u001b[0m\u001b[0;34m'pitchReference cannot be None'\u001b[0m\u001b[0;34m)\u001b[0m\u001b[0;34m\u001b[0m\u001b[0m\n\u001b[1;32m   1714\u001b[0m         \u001b[0;31m# must set an octave for pitch reference, even if not given\u001b[0m\u001b[0;34m\u001b[0m\u001b[0;34m\u001b[0m\u001b[0m\n\u001b[0;32m-> 1715\u001b[0;31m         \u001b[0;32mif\u001b[0m \u001b[0mpitchReference\u001b[0m\u001b[0;34m.\u001b[0m\u001b[0moctave\u001b[0m \u001b[0;32mis\u001b[0m \u001b[0;32mNone\u001b[0m\u001b[0;34m:\u001b[0m\u001b[0;34m\u001b[0m\u001b[0m\n\u001b[0m\u001b[1;32m   1716\u001b[0m             \u001b[0mpitchReference\u001b[0m\u001b[0;34m.\u001b[0m\u001b[0moctave\u001b[0m \u001b[0;34m=\u001b[0m \u001b[0mpitchReference\u001b[0m\u001b[0;34m.\u001b[0m\u001b[0mimplicitOctave\u001b[0m\u001b[0;34m\u001b[0m\u001b[0m\n\u001b[1;32m   1717\u001b[0m \u001b[0;34m\u001b[0m\u001b[0m\n",
      "\u001b[0;31mAttributeError\u001b[0m: 'list' object has no attribute 'octave'"
     ]
    }
   ],
   "source": [
    "tones = [p.name.replace('-','b') for p in c.pitches]\n",
    "\n",
    "pprint(tones)"
   ]
  },
  {
   "cell_type": "code",
   "execution_count": null,
   "metadata": {
    "collapsed": false,
    "deletable": true,
    "editable": true,
    "run_control": {
     "frozen": false,
     "read_only": false
    }
   },
   "outputs": [],
   "source": [
    "tones21 = [p.name for p in c.pitches]\n",
    "\n",
    "pprint(tones21)"
   ]
  },
  {
   "cell_type": "code",
   "execution_count": null,
   "metadata": {
    "collapsed": false,
    "deletable": true,
    "editable": true,
    "run_control": {
     "frozen": false,
     "read_only": false
    }
   },
   "outputs": [],
   "source": [
    "majors = {}\n",
    "\n",
    "for tonic in tones21:\n",
    "    maj_sc = scale.MajorScale(tonic)\n",
    "    majors.update({tonic.replace('-','b'):[p.name.replace('-','b') for p in maj_sc.pitches]})\n",
    "    \n",
    "pprint(majors)"
   ]
  },
  {
   "cell_type": "code",
   "execution_count": null,
   "metadata": {
    "collapsed": false,
    "deletable": true,
    "editable": true,
    "run_control": {
     "frozen": false,
     "read_only": false
    }
   },
   "outputs": [],
   "source": [
    "minors = {}\n",
    "\n",
    "for tonic in tones21:\n",
    "    min_sc = scale.MinorScale(tonic)\n",
    "    minors.update({tonic.replace('-','b'):[p.name.replace('-','b') for p in min_sc.pitches]})\n",
    "    \n",
    "pprint(minors)"
   ]
  },
  {
   "cell_type": "code",
   "execution_count": null,
   "metadata": {
    "collapsed": false,
    "deletable": true,
    "editable": true,
    "run_control": {
     "frozen": false,
     "read_only": false
    },
    "scrolled": true
   },
   "outputs": [],
   "source": [
    "chromatics = {}\n",
    "\n",
    "for tonic in tones21:\n",
    "    chrm_sc = scale.ChromaticScale(tonic)\n",
    "    chromatics.update({tonic.replace('-','b'):[p.name.replace('-','b') for p in chrm_sc.pitches]})\n",
    "    \n",
    "pprint(chromatics)"
   ]
  },
  {
   "cell_type": "code",
   "execution_count": null,
   "metadata": {
    "collapsed": false,
    "deletable": true,
    "editable": true,
    "run_control": {
     "frozen": false,
     "read_only": false
    }
   },
   "outputs": [],
   "source": [
    "#c.intervalBetweenDegrees(c.pitches[0],c.pitches[-1])\n",
    "\n",
    "intv = interval.notesToInterval(c.pitches[0],c.pitches[-3])"
   ]
  },
  {
   "cell_type": "code",
   "execution_count": null,
   "metadata": {
    "collapsed": false,
    "deletable": true,
    "editable": true,
    "run_control": {
     "frozen": false,
     "read_only": false
    }
   },
   "outputs": [],
   "source": [
    "intv.semitones\n"
   ]
  },
  {
   "cell_type": "code",
   "execution_count": null,
   "metadata": {
    "collapsed": false,
    "deletable": true,
    "editable": true,
    "run_control": {
     "frozen": false,
     "read_only": false
    }
   },
   "outputs": [],
   "source": [
    "#intervals = [(interval.notesToInterval(c.pitches[0],pitch).directedNiceName) for pitch in c.pitches]\n",
    "intervals = {}\n",
    "\n",
    "for pitch in c.pitches:\n",
    "    ival = interval.notesToInterval(c.pitches[0], pitch)\n",
    "    \n",
    "    intervals.update({ival.semitones: [ival.semitones, ival.name, ival.niceName]})\n",
    "    \n",
    "pprint(intervals)"
   ]
  },
  {
   "cell_type": "code",
   "execution_count": null,
   "metadata": {
    "collapsed": true,
    "deletable": true,
    "editable": true,
    "run_control": {
     "frozen": false,
     "read_only": false
    }
   },
   "outputs": [],
   "source": []
  }
 ],
 "metadata": {
  "kernelspec": {
   "display_name": "Python 3",
   "language": "python",
   "name": "python3"
  },
  "language_info": {
   "codemirror_mode": {
    "name": "ipython",
    "version": 3
   },
   "file_extension": ".py",
   "mimetype": "text/x-python",
   "name": "python",
   "nbconvert_exporter": "python",
   "pygments_lexer": "ipython3",
   "version": "3.6.0"
  }
 },
 "nbformat": 4,
 "nbformat_minor": 2
}
