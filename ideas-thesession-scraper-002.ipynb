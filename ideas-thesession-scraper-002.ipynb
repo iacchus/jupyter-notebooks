{
 "cells": [
  {
   "cell_type": "markdown",
   "metadata": {
    "run_control": {
     "frozen": false,
     "read_only": false
    }
   },
   "source": [
    "# The Session Scraper\n",
    "\n",
    "* [The Session](https://thesession.org/)\n",
    "* [HTML Scraping—The Hitchhiker's Guide to Python](http://docs.python-guide.org/en/latest/scenarios/scrape/)"
   ]
  },
  {
   "cell_type": "code",
   "execution_count": 1,
   "metadata": {
    "collapsed": false,
    "run_control": {
     "frozen": false,
     "read_only": false
    }
   },
   "outputs": [],
   "source": [
    "from lxml import html\n",
    "import requests\n",
    "\n",
    "from IPython.display import display, HTML"
   ]
  },
  {
   "cell_type": "markdown",
   "metadata": {},
   "source": [
    "## Search\n",
    "\n",
    "### Xpaths:\n",
    "\n",
    "Result links: `//div[@id=\"results\"]/ol/li/a`"
   ]
  },
  {
   "cell_type": "code",
   "execution_count": 2,
   "metadata": {
    "collapsed": false,
    "run_control": {
     "frozen": false,
     "read_only": false
    }
   },
   "outputs": [
    {
     "data": {
      "text/plain": [
       "['James Morrisons',\n",
       " '(An Tri Is A Rian)',\n",
       " 'Morrison’s',\n",
       " 'Morrison’s Favourite',\n",
       " 'Ian Morrison’s',\n",
       " 'Tom Morrison’s Maggie']"
      ]
     },
     "execution_count": 2,
     "metadata": {},
     "output_type": "execute_result"
    }
   ],
   "source": [
    "# https://thesession.org/tunes/search?type=jig&mode=Eminor&q=butterfly\n",
    "#xpaths\n",
    "\n",
    "def get_search(sc_name='butterfly', sc_type='', sc_mode=''):\n",
    "    #makeuri = \"https://thesession.org/tunes/search?type={0}&mode={1}&q={2}\".format(sc_type, sc_mode, sc_name)\n",
    "    makeuri = \"https://thesession.org/tunes/search?type={0}&mode={1}&q={2}\".format(sc_type, sc_mode, sc_name)\n",
    "    \n",
    "    return requests.get(makeuri)\n",
    "\n",
    "page = get_search('morrisons')\n",
    "tree = html.fromstring(page.content)\n",
    "\n",
    "tree.xpath('//div[@id=\"results\"]/ol/li/a/text()')"
   ]
  },
  {
   "cell_type": "markdown",
   "metadata": {},
   "source": [
    "## Tunes"
   ]
  },
  {
   "cell_type": "code",
   "execution_count": 3,
   "metadata": {
    "collapsed": true,
    "run_control": {
     "frozen": false,
     "read_only": false
    }
   },
   "outputs": [],
   "source": [
    "# https://thesession.org/tunes/10\n",
    "\n",
    "def get_tune(tune_id):\n",
    "    makeuri = \"https://thesession.org/tunes/{}\".format(tune_id)\n",
    "    \n",
    "    return requests.get(makeuri)"
   ]
  },
  {
   "cell_type": "code",
   "execution_count": 4,
   "metadata": {
    "collapsed": false,
    "run_control": {
     "frozen": false,
     "read_only": false
    }
   },
   "outputs": [],
   "source": [
    "page = get_tune('10')\n",
    "tree = html.fromstring(page.content)"
   ]
  },
  {
   "cell_type": "code",
   "execution_count": 5,
   "metadata": {
    "collapsed": false,
    "run_control": {
     "frozen": false,
     "read_only": false
    }
   },
   "outputs": [
    {
     "data": {
      "text/plain": [
       "<Element html at 0x7f0a7894c778>"
      ]
     },
     "execution_count": 5,
     "metadata": {},
     "output_type": "execute_result"
    }
   ],
   "source": [
    "tree"
   ]
  },
  {
   "cell_type": "code",
   "execution_count": 12,
   "metadata": {
    "collapsed": false,
    "run_control": {
     "frozen": false,
     "read_only": false
    }
   },
   "outputs": [
    {
     "data": {
      "text/plain": [
       "[<Element div at 0x7f0a78924278>,\n",
       " <Element div at 0x7f0a78924318>,\n",
       " <Element div at 0x7f0a789242c8>,\n",
       " <Element div at 0x7f0a78924368>,\n",
       " <Element div at 0x7f0a789243b8>,\n",
       " <Element div at 0x7f0a78924408>]"
      ]
     },
     "execution_count": 12,
     "metadata": {},
     "output_type": "execute_result"
    }
   ],
   "source": [
    "nds = tree.xpath('//*[@class=\"notes\"]')\n",
    "\n",
    "nds"
   ]
  },
  {
   "cell_type": "code",
   "execution_count": 15,
   "metadata": {
    "collapsed": false,
    "run_control": {
     "frozen": false,
     "read_only": false
    }
   },
   "outputs": [
    {
     "data": {
      "text/plain": [
       "'\\nX: 1\\nT: The Butterfly\\nR: slip jig\\n\\nM: 9/8\\nL: 1/8\\nK: Emin\\n|:B2E G2E F3|B2E G2E FED|B2E G2E F3|B2d d2B AFD:|\\r|:B2d e2f g3|B2d g2e dBA|B2d e2f g2a|b2a g2e dBA:|\\r|:B3 B2A G2A|B3 BAB dBA|B3 B2A G2A|B2d g2e dBA:|\\n\\n'"
      ]
     },
     "execution_count": 15,
     "metadata": {},
     "output_type": "execute_result"
    }
   ],
   "source": [
    "nds[0].text_content()"
   ]
  },
  {
   "cell_type": "code",
   "execution_count": 16,
   "metadata": {
    "collapsed": true,
    "run_control": {
     "frozen": false,
     "read_only": false
    }
   },
   "outputs": [],
   "source": [
    "str=\"oi\\n\\nola\\noila\""
   ]
  },
  {
   "cell_type": "code",
   "execution_count": 31,
   "metadata": {
    "collapsed": false,
    "run_control": {
     "frozen": false,
     "read_only": false
    }
   },
   "outputs": [],
   "source": [
    "def remove_empty(teh_string):\n",
    "    newlist=list()\n",
    "    the_list = teh_string.split('\\n')\n",
    "    \n",
    "    for nonempty in the_list: \n",
    "        if nonempty:\n",
    "            newlist.append(nonempty)\n",
    "    \n",
    "    return \"\\n\".join(newlist)"
   ]
  },
  {
   "cell_type": "code",
   "execution_count": 35,
   "metadata": {
    "collapsed": false,
    "run_control": {
     "frozen": false,
     "read_only": false
    }
   },
   "outputs": [
    {
     "data": {
      "text/plain": [
       "'\\nX: 1\\nT: The Butterfly\\nR: slip jig\\n\\nM: 9/8\\nL: 1/8\\nK: Emin\\n|:B2E G2E F3|B2E G2E FED|B2E G2E F3|B2d d2B AFD:|\\r|:B2d e2f g3|B2d g2e dBA|B2d e2f g2a|b2a g2e dBA:|\\r|:B3 B2A G2A|B3 BAB dBA|B3 B2A G2A|B2d g2e dBA:|\\n\\n'"
      ]
     },
     "execution_count": 35,
     "metadata": {},
     "output_type": "execute_result"
    }
   ],
   "source": [
    "nds[0].text_content()"
   ]
  },
  {
   "cell_type": "code",
   "execution_count": 2,
   "metadata": {
    "collapsed": false,
    "run_control": {
     "frozen": false,
     "read_only": false
    }
   },
   "outputs": [
    {
     "name": "stdout",
     "output_type": "stream",
     "text": [
      "{'count': 10, 'tunes': [\"X: 1\\nT: Cooley's\\nR: reel\\nM: 4/4\\nL: 1/8\\nK: Edor\\n|:D2|EBBA B2 EB|B2 AB dBAG|FDAD BDAD|FDAD dAFD|\\nEBBA B2 EB|B2 AB defg|afec dBAF|DEFD E2:|\\n|:gf|eB B2 efge|eB B2 gedB|A2 FA DAFA|A2 FA defg|\\neB B2 eBgB|eB B2 defg|afec dBAF|DEFD E2:|\", \"X: 2\\nT: Cooley's\\nR: reel\\nM: 4/4\\nL: 1/8\\nK: Emin\\n|:F|CGGC G2 CG|G2 FG BGFE|(3DCB, FB, GB,FB,|DB,DF BFDB,|\\rCGGC G2 CG|G2 FG Bcde|fdcd BGFB|B,CDF C3:|\\r|:d|cG ~G2 cede| cG ~G2 ecBG|(3FGF DF B,FDF|GFDF Bcde|\\rcG ~G2 cede| cG ~G2 Bcde| fdcd BGFB| B,CDF C3:|\", \"X: 3\\nT: Cooley's\\nR: reel\\nM: 4/4\\nL: 1/8\\nK: Emin\\n|:D2|EBBA B2 EB|B2 AB dBAG|FDAD BDAD|FDAD dAFD|\\rEBBA B2 EB|B2 AB defg|afef dBAF|DEFD E2:|\\r|:gf|eB ~B2 eBgB|eB ~B2 {a}gedB|A2 FA DFAB|BA FA defg|\\reB ~B2 eBgB|eB B2 defg|afef dBAF|DEFD E2:|\", 'X: 4\\nT: Cooley\\'s\\nR: reel\\nM: 4/4\\nL: 1/8\\nK: Edor\\nD |: EBBA \"slide\"B3 B | B2 AB dBAD | (3FED AD BDAD | (3FED A=c BAFD |\\nEBBA \"slide\" B3 B | B2 AB defg | afec dBAF |1 EGFD E3 D :|2 EGFD E3 d ||\\n|: eB (3BBB efgf | eB (3BBB fedB | (3ABA FB (3ABA FB | ADFA Bcdf |\\neB (3BBB efgf | eB (3BBB fedB | (3ABA FB dfec | dBAF EFGB :|\\n|: eB (3BBB eBfB | eB (3BBB fedc | BE (3EEE BEdE | BE (3BBB BAFB |\\neB (3BBB eBfB | eB (3BBB fecA | d3 e fdec | dBAF EFGB :|', \"X: 5\\nT: Cooley's\\nR: reel\\nM: 4/4\\nL: 1/8\\nK: Edor\\neBBA ~B2B2|~B2AB dBAG|FDAD BDAD|EDFA BAFB|\\neBBA ~B2Bc|B2AB defA|~A2eA dBAF|1DEFD ~E2E2:|2DEFD ~e2e2||\\neB~B2 eBgB|eB~B2 gedB|A2FA DAFA|~A2FA Beed|\\ne2~A2 eage|dBAB defA|~A2e2 dBAF|1DEfd ~e2e2:|2DEFD ~E2E2||\", \"X: 6\\nT: Cooley's\\nR: reel\\nM: 4/4\\nL: 1/8\\nK: Emin\\nA | EBBE B2 EB | ~B2 AB dBAG | (3FED AD BDAD | FDFA dAFD |\\nEBBE B2 EB | ~B2 AB defg | afef dBAd | DEFA E3 :|\\nf | eB ~B2 egfg | eB ~B2 gedB | (3ABA FA DAFA | BAFA defg |\\neB ~B2 egfg | eB ~B2 defg | afef dBAd | DEFA E3 :|\", 'X: 7\\nT: Cooley\\'s\\nR: reel\\nM: 4/4\\nL: 1/8\\nK: Edor\\nD|\"Em\"EB{=c}BA B2 EB|\"Em\"{=c}B2 AB dBAG|\"D\"F/E/D AD BDAD|\"D\"F/E/D AD {=c}BAGF|\\n\"Em\"EB{=c}BA B2 EB|\"Em\"{=c}B2 AB defg|\"D\"{b}afec dBAF|[1\"D\"DEFD \"Em\"E3:|[2\"D\"DEFD \"Em\"E2||\\n|gf|\"Em\"eB {B/d/B/A/}B2 eBgf|\"Em\"eB {B/d/B/A/}B2 gedB|\"D\"A/A/A FA DAFA|\"D\"A/A/A FA defg|\\n\"Em\"eB {B/d/B/A/}B2 eBgf|\"Em\"eB {B/d/B/A/}B2 defg|\"D\"{b}afec dBAF|[1\"D\"DEFD \"Em\"E2:|[2\"D\"DEFD \"Em\"E3|]', \"X: 8\\nT: Cooley's\\nR: reel\\nM: 4/4\\nL: 1/8\\nK: Edor\\n|: D |EBBA B2- BA | ~B2 AB dBAG | FDAD BDAG | F/E/D FA dAFD |\\nEB-BA B2 BA | B/c/B AB defg | afef dBAF | DEFD E3 :|\\n|: f |eB ~B2 eBfB | eB ~B2 gedB | A/B/A FA DAFA | ~A2 FA defd |\\neB B/c/B eBgf | eB ~B2 defg | afef dBAF | DE F/E/D E3 :|\", \"X: 9\\nT: Cooley's\\nR: reel\\nM: 4/4\\nL: 1/8\\nK: Edor\\n|:D2|EBBA B2 EB|B2 AB dBAG|FED AD BDAD|FEDAD BAGF|\\nEBBA B2 EB|B2 AB defg|afec dBAF|DEFD E2:|\\n|:gf|eB B2 efge|eB B2 gedB|A2 FA DAFA|A2 FA defg|\\neB B2 eBgF|eB B2 defg|afec dBAF|DEFD E2:|\", \"X: 10\\nT: Cooley's\\nR: reel\\nM: 4/4\\nL: 1/8\\nK: Edor\\n|:D2|EBBA B2 EB|B2 AB dBAF|DF F2 A3B|AF F2 dBAF|\\nEBBA B2 EB|B2 AB defg|afec dBAF|DEFD E2:|\\n|:gf|eB B2 egfg|eB B2 gedB|A2 FA DAFA|A2 FA defg|\\neB B2 egfg|eB B2 defg|afec dBAF|DEFD E2:|\"]}\n"
     ]
    }
   ],
   "source": [
    "from lxml import html\n",
    "import requests\n",
    "\n",
    "from IPython.display import display, HTML\n",
    "\n",
    "def remove_empty(teh_string):\n",
    "    newlist=list()\n",
    "    the_list = teh_string.split('\\n')\n",
    "    \n",
    "    for nonempty in the_list: \n",
    "        if nonempty:\n",
    "            newlist.append(nonempty)\n",
    "    \n",
    "    return \"\\n\".join(newlist)\n",
    "\n",
    "def get_tune(tune_id):\n",
    "    makeuri = \"https://thesession.org/tunes/{}\".format(tune_id)\n",
    "    \n",
    "    page = requests.get(makeuri)\n",
    "    tree = html.fromstring(page.content)\n",
    "    nds = tree.xpath('//*[@class=\"notes\"]')\n",
    "\n",
    "    tune_list = list()\n",
    "    for tune in nds:\n",
    "        tune_list.append(remove_empty(tune.text_content()))\n",
    "        \n",
    "    return { 'tunes':tune_list, 'count': len(tune_list) }\n",
    "\n",
    "HEY = get_tune(1)\n",
    "print(HEY)"
   ]
  },
  {
   "cell_type": "code",
   "execution_count": null,
   "metadata": {
    "collapsed": true
   },
   "outputs": [],
   "source": []
  }
 ],
 "metadata": {
  "kernelspec": {
   "display_name": "Python 3",
   "language": "python",
   "name": "python3"
  },
  "language_info": {
   "codemirror_mode": {
    "name": "ipython",
    "version": 3
   },
   "file_extension": ".py",
   "mimetype": "text/x-python",
   "name": "python",
   "nbconvert_exporter": "python",
   "pygments_lexer": "ipython3",
   "version": "3.5.2"
  }
 },
 "nbformat": 4,
 "nbformat_minor": 1
}
