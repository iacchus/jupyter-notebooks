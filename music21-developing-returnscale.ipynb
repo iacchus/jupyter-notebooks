{
 "cells": [
  {
   "cell_type": "code",
   "execution_count": 1,
   "metadata": {
    "collapsed": true
   },
   "outputs": [],
   "source": [
    "from music21 import *\n",
    "from IPython.display import display, HTML, Image, Audio\n",
    "import plim\n",
    "import base64\n",
    "#from music21.common.pathTools import relativepath as m21_jupyter_relpath"
   ]
  },
  {
   "cell_type": "code",
   "execution_count": 2,
   "metadata": {
    "collapsed": true
   },
   "outputs": [],
   "source": [
    "def circleOfFifths():\n",
    "    fifths = []\n",
    "\n",
    "    fifthsScale = scale.CyclicalScale('c4', 'p5')\n",
    "    \n",
    "    for p in fifthsScale.getPitches('c4', 'c11'):\n",
    "        \n",
    "        if key.pitchToSharps(p,'major') <= 7:\n",
    "            MAJOR = str(p.simplifyEnharmonic().name)\n",
    "            MINOR = str(key.Key(MAJOR, 'major').relative.tonic.simplifyEnharmonic().name).lower()\n",
    "\n",
    "        else:\n",
    "            MAJOR = str(p.getEnharmonic().simplifyEnharmonic().name)\n",
    "            MINOR = str(key.Key(MAJOR, 'major').relative.tonic.simplifyEnharmonic().name).lower()\n",
    "        \n",
    "        fifths.append( [ MAJOR, MINOR ] )\n",
    "\n",
    "        #fifths.append(p.simplifyEnharmonic())\n",
    "        \n",
    "    return fifths"
   ]
  },
  {
   "cell_type": "code",
   "execution_count": 3,
   "metadata": {
    "collapsed": false
   },
   "outputs": [],
   "source": [
    "sc = scale.MajorScale('c')"
   ]
  },
  {
   "cell_type": "code",
   "execution_count": 4,
   "metadata": {
    "collapsed": false
   },
   "outputs": [],
   "source": [
    "pitches = sc.getPitches()"
   ]
  },
  {
   "cell_type": "code",
   "execution_count": 5,
   "metadata": {
    "collapsed": false
   },
   "outputs": [
    {
     "data": {
      "text/plain": [
       "[<music21.pitch.Pitch C4>,\n",
       " <music21.pitch.Pitch D4>,\n",
       " <music21.pitch.Pitch E4>,\n",
       " <music21.pitch.Pitch F4>,\n",
       " <music21.pitch.Pitch G4>,\n",
       " <music21.pitch.Pitch A4>,\n",
       " <music21.pitch.Pitch B4>,\n",
       " <music21.pitch.Pitch C5>]"
      ]
     },
     "execution_count": 5,
     "metadata": {},
     "output_type": "execute_result"
    }
   ],
   "source": [
    "pitches"
   ]
  },
  {
   "cell_type": "code",
   "execution_count": 44,
   "metadata": {
    "collapsed": false
   },
   "outputs": [],
   "source": [
    "def returnScale2(tonic='c', mode='major', ownKey = False):\n",
    "    \n",
    "    modes = [ 'ionian','dorian','phrygian',\n",
    "              'lydian','mixolydian','aeolian',\n",
    "              'locrian','major','minor']\n",
    "    \n",
    "    if not mode in modes: mode = 'major'\n",
    "        \n",
    "    if mode == 'ionian': mode = 'major'\n",
    "    if mode == 'aeolian': mode = 'minor'\n",
    "\n",
    "    tonic_pitch = pitch.Pitch(tonic)\n",
    "    #key_enharmonic = tonic_pitch.getEnharmonic().simplifyEnharmonic().name\n",
    "    key_enharmonic = tonic_pitch\n",
    "    scale_sharps = key.pitchToSharps(key_enharmonic, mode)\n",
    "\n",
    "    #    myfunc = eval(\"scale.{0}Scale\".format(mode.capitalize()))\n",
    "    scale_func = getattr(scale, \"{0}Scale\".format(mode.capitalize()))\n",
    "    real_scale = scale_func(key_enharmonic)\n",
    "    pitches = real_scale.getPitches()\n",
    "\n",
    "    scale_name = real_scale.name\n",
    "    absolute_intervals = []\n",
    "    relative_intervals = []\n",
    "    myKeySig = key.KeySignature(scale_sharps)\n",
    "    \n",
    "    mystream = stream.Stream()\n",
    "    \n",
    "    if ownKey:\n",
    "        mystream.append(myKeySig)\n",
    "\n",
    "    for cur_pitch in pitches:\n",
    "        mynote = note.Note(cur_pitch)\n",
    "\n",
    "        cur_degree = real_scale.getScaleDegreeFromPitch(cur_pitch)\n",
    "        \n",
    "        #previous_or_tonic = real_scale.next(cur_pitch, 'descending') if cur_pitch != real_scale.tonic else real_scale.tonic\n",
    "\n",
    "        #absolute_interval = interval.notesToInterval(cur_pitch, mynote).directedName\n",
    "        #relative_interval = interval.notesToInterval(pitches[(x-1 if x>0 else 0)], mynote).directedName\n",
    "        #relative_interval = interval.notesToInterval(previous_or_tonic, mynote).directedName\n",
    "\n",
    "        absolute_interval = real_scale.intervalBetweenDegrees(1,cur_degree).name\n",
    "        relative_interval = real_scale.intervalBetweenDegrees((cur_degree-1 if cur_degree>1else 1), cur_degree).name\n",
    "        \n",
    "        absolute_intervals.append(absolute_interval)\n",
    "        relative_intervals.append(relative_interval)\n",
    "        \n",
    "        mynote.addLyric(absolute_interval)\n",
    "        mynote.addLyric(relative_interval)\n",
    "        \n",
    "        mystream.append(mynote)\n",
    "        \n",
    "    filename = mystream.write()\n",
    "        \n",
    "    return {\n",
    "        'scalename': scale_name,\n",
    "        'stream' : mystream,\n",
    "        'filename': filename,\n",
    "        'ai' : absolute_intervals,\n",
    "        'ri' : relative_intervals\n",
    "    }"
   ]
  },
  {
   "cell_type": "code",
   "execution_count": 45,
   "metadata": {
    "collapsed": false
   },
   "outputs": [
    {
     "data": {
      "text/plain": [
       "{'ai': ['P1', 'M2', 'M3', 'P4', 'P5', 'M6', 'M7', 'P1'],\n",
       " 'filename': '/home/iacchus/git-stuff/jupyter-venv/scratchdir/tmp1jz02i8r.ly.png',\n",
       " 'ri': ['P1', 'M2', 'M2', 'm2', 'M2', 'M2', 'M2', 'P1'],\n",
       " 'scalename': 'C major',\n",
       " 'stream': <music21.stream.Stream 0x7fd21beb31d0>}"
      ]
     },
     "execution_count": 45,
     "metadata": {},
     "output_type": "execute_result"
    }
   ],
   "source": [
    "returnScale2()"
   ]
  },
  {
   "cell_type": "code",
   "execution_count": 36,
   "metadata": {
    "collapsed": true
   },
   "outputs": [],
   "source": [
    "sc = scale.MajorScale('c')"
   ]
  },
  {
   "cell_type": "code",
   "execution_count": 37,
   "metadata": {
    "collapsed": false
   },
   "outputs": [
    {
     "data": {
      "text/plain": [
       "6"
      ]
     },
     "execution_count": 37,
     "metadata": {},
     "output_type": "execute_result"
    }
   ],
   "source": [
    "sc.getScaleDegreeFromPitch('a5')\n"
   ]
  },
  {
   "cell_type": "code",
   "execution_count": 38,
   "metadata": {
    "collapsed": false
   },
   "outputs": [
    {
     "data": {
      "text/plain": [
       "<music21.interval.Interval P4>"
      ]
     },
     "execution_count": 38,
     "metadata": {},
     "output_type": "execute_result"
    }
   ],
   "source": [
    "sc.intervalBetweenDegrees(1,4)"
   ]
  },
  {
   "cell_type": "code",
   "execution_count": null,
   "metadata": {
    "collapsed": true
   },
   "outputs": [],
   "source": []
  }
 ],
 "metadata": {
  "kernelspec": {
   "display_name": "Python 3",
   "language": "python",
   "name": "python3"
  },
  "language_info": {
   "codemirror_mode": {
    "name": "ipython",
    "version": 3
   },
   "file_extension": ".py",
   "mimetype": "text/x-python",
   "name": "python",
   "nbconvert_exporter": "python",
   "pygments_lexer": "ipython3",
   "version": "3.5.2"
  }
 },
 "nbformat": 4,
 "nbformat_minor": 1
}
