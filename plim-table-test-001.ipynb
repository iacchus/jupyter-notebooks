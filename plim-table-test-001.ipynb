{
 "cells": [
  {
   "cell_type": "code",
   "execution_count": 33,
   "metadata": {
    "collapsed": true
   },
   "outputs": [],
   "source": [
    "import plim\n",
    "\n",
    "from IPython.display import display, HTML\n",
    "\n"
   ]
  },
  {
   "cell_type": "code",
   "execution_count": 2,
   "metadata": {
    "collapsed": false
   },
   "outputs": [
    {
     "data": {
      "text/html": [
       "<table><tr><th>um</th><th>dois</th><th>tres</th></tr><tr><td>first one</td><td>second one</td><td>third one</td></tr><tr><td>second row</td><td>second row too</td><td>also second row</td></tr></table>"
      ],
      "text/plain": [
       "<IPython.core.display.HTML object>"
      ]
     },
     "execution_count": 2,
     "metadata": {},
     "output_type": "execute_result"
    }
   ],
   "source": [
    "\n",
    "table_slim = \"\"\"\n",
    "table\n",
    "    tr\n",
    "        th um\n",
    "        th dois\n",
    "        th tres\n",
    "    tr\n",
    "        td first one\n",
    "        td second one\n",
    "        td third one\n",
    "    tr\n",
    "        td second row\n",
    "        td second row too\n",
    "        td also second row\n",
    "\"\"\"\n",
    "\n",
    "\n",
    "table_html = plim.preprocessor(table_slim)\n",
    "\n",
    "HTML(table_html)"
   ]
  },
  {
   "cell_type": "code",
   "execution_count": 3,
   "metadata": {
    "collapsed": true
   },
   "outputs": [],
   "source": [
    "my_array = [\n",
    "    ['C Major Scale'],\n",
    "    ['[IMG GOES HERE]'],\n",
    "    ['I','II','III','IV','V','VI','VII'],\n",
    "    ['a','b','c','d','e','f','g'],\n",
    "]"
   ]
  },
  {
   "cell_type": "code",
   "execution_count": 9,
   "metadata": {
    "collapsed": false
   },
   "outputs": [],
   "source": [
    "t2_slim = \"\"\"\n",
    "table\n",
    "\"\"\"\n",
    "\n",
    "for row in my_array:\n",
    "    t2_slim += \"\\ttr\\n\"\n",
    "    for column in row:\n",
    "        t2_slim += \"\\t\\ttd {}\\n\".format(column)\n",
    "        \n",
    "table2_html = plim.preprocessor(t2_slim)"
   ]
  },
  {
   "cell_type": "code",
   "execution_count": 10,
   "metadata": {
    "collapsed": false
   },
   "outputs": [
    {
     "name": "stdout",
     "output_type": "stream",
     "text": [
      "\n",
      "table\n",
      "\ttr\n",
      "\t\ttd C Major Scale\n",
      "\ttr\n",
      "\t\ttd [IMG GOES HERE]\n",
      "\ttr\n",
      "\t\ttd I\n",
      "\t\ttd II\n",
      "\t\ttd III\n",
      "\t\ttd IV\n",
      "\t\ttd V\n",
      "\t\ttd VI\n",
      "\t\ttd VII\n",
      "\ttr\n",
      "\t\ttd a\n",
      "\t\ttd b\n",
      "\t\ttd c\n",
      "\t\ttd d\n",
      "\t\ttd e\n",
      "\t\ttd f\n",
      "\t\ttd g\n",
      "\n"
     ]
    }
   ],
   "source": [
    "print(t2_slim)"
   ]
  },
  {
   "cell_type": "code",
   "execution_count": 11,
   "metadata": {
    "collapsed": false
   },
   "outputs": [
    {
     "data": {
      "text/html": [
       "<table><tr><td>C Major Scale</td></tr><tr><td>[IMG GOES HERE]</td></tr><tr><td>I</td><td>II</td><td>III</td><td>IV</td><td>V</td><td>VI</td><td>VII</td></tr><tr><td>a</td><td>b</td><td>c</td><td>d</td><td>e</td><td>f</td><td>g</td></tr></table>"
      ],
      "text/plain": [
       "<IPython.core.display.HTML object>"
      ]
     },
     "execution_count": 11,
     "metadata": {},
     "output_type": "execute_result"
    }
   ],
   "source": [
    "HTML(table2_html)"
   ]
  },
  {
   "cell_type": "code",
   "execution_count": 36,
   "metadata": {
    "collapsed": false
   },
   "outputs": [
    {
     "data": {
      "text/html": [
       "<table><thead><caption>C Major Scale</caption></thead><tr><caption>[IMG GOES HERE]</caption></tr><tr><td>I</td><td>II</td><td>III</td><td>IV</td><td>V</td><td>VI</td><td>VII</td></tr><tr><td>a</td><td>b</td><td>c</td><td>d</td><td>e</td><td>f</td><td>g</td></tr></table>"
      ],
      "text/plain": [
       "<IPython.core.display.HTML object>"
      ]
     },
     "execution_count": 36,
     "metadata": {},
     "output_type": "execute_result"
    }
   ],
   "source": [
    "t3_slim = \"\"\"\n",
    "table\n",
    "    thead\n",
    "        caption C Major Scale\n",
    "    tr\n",
    "        caption [IMG GOES HERE]\n",
    "    tr\n",
    "        td I\n",
    "        td II\n",
    "        td III\n",
    "        td IV\n",
    "        td V\n",
    "        td VI\n",
    "        td VII\n",
    "    tr\n",
    "        td a\n",
    "        td b\n",
    "        td c\n",
    "        td d\n",
    "        td e\n",
    "        td f\n",
    "        td g\n",
    "\"\"\"\n",
    "\n",
    "table3_html = plim.preprocessor(t3_slim)\n",
    "HTML(table3_html)"
   ]
  },
  {
   "cell_type": "code",
   "execution_count": 42,
   "metadata": {
    "collapsed": false
   },
   "outputs": [
    {
     "data": {
      "text/html": [
       "<table width=\"300\"><tr><caption style=\"font-weight: normal;\">C Major Scale</caption></tr><tr><caption style=\"font-weight: normal;\">[IMG GOES HERE]</caption></tr><tr><td>I</td><td>II</td><td>III</td><td>IV</td><td>V</td><td>VI</td><td>VII</td></tr><tr><td>a</td><td>b</td><td>c</td><td>d</td><td>e</td><td>f</td><td>g</td></tr></table>"
      ],
      "text/plain": [
       "<IPython.core.display.HTML object>"
      ]
     },
     "execution_count": 42,
     "metadata": {},
     "output_type": "execute_result"
    }
   ],
   "source": [
    "t4_slim = \"\"\"\n",
    "table width=\"300\"\n",
    "    tr\n",
    "        caption style=\"font-weight: normal;\" C Major Scale\n",
    "    tr\n",
    "        caption style=\"font-weight: normal;\" [IMG GOES HERE]\n",
    "    tr\n",
    "        td I\n",
    "        td II\n",
    "        td III\n",
    "        td IV\n",
    "        td V\n",
    "        td VI\n",
    "        td VII\n",
    "    tr\n",
    "        td a\n",
    "        td b\n",
    "        td c\n",
    "        td d\n",
    "        td e\n",
    "        td f\n",
    "        td g\n",
    "\"\"\"\n",
    "\n",
    "table4_html = plim.preprocessor(t4_slim)\n",
    "HTML(table4_html)"
   ]
  },
  {
   "cell_type": "code",
   "execution_count": null,
   "metadata": {
    "collapsed": true
   },
   "outputs": [],
   "source": []
  }
 ],
 "metadata": {
  "kernelspec": {
   "display_name": "Python 3",
   "language": "python",
   "name": "python3"
  },
  "language_info": {
   "codemirror_mode": {
    "name": "ipython",
    "version": 3
   },
   "file_extension": ".py",
   "mimetype": "text/x-python",
   "name": "python",
   "nbconvert_exporter": "python",
   "pygments_lexer": "ipython3",
   "version": "3.5.2"
  }
 },
 "nbformat": 4,
 "nbformat_minor": 1
}
