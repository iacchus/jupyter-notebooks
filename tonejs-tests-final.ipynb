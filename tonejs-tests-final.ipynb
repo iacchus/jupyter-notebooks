{
 "cells": [
  {
   "cell_type": "markdown",
   "metadata": {},
   "source": [
    "# Tone.js\n",
    "\n",
    "This is how to include [`tone.js`](https://github.com/Tonejs/Tone.js) in an jupyter notebook."
   ]
  },
  {
   "cell_type": "code",
   "execution_count": 9,
   "metadata": {
    "collapsed": false
   },
   "outputs": [
    {
     "data": {
      "application/javascript": [
       "\n",
       "require.config({\n",
       "    paths : {\n",
       "        \"Tone\" : \"http://cdn.tonejs.org/latest/Tone\",\n",
       "    }\n",
       "});\n",
       "\n",
       "require(['Tone'],function(Tone){window.Tone = Tone;})"
      ],
      "text/plain": [
       "<IPython.core.display.Javascript object>"
      ]
     },
     "metadata": {},
     "output_type": "display_data"
    }
   ],
   "source": [
    "%%js\n",
    "\n",
    "require.config({\n",
    "    paths : {\n",
    "        \"Tone\" : \"http://cdn.tonejs.org/latest/Tone\",\n",
    "    }\n",
    "});\n",
    "\n",
    "require(['Tone'],function(Tone){window.Tone = Tone;})"
   ]
  },
  {
   "cell_type": "code",
   "execution_count": 8,
   "metadata": {
    "collapsed": false
   },
   "outputs": [
    {
     "data": {
      "application/javascript": [
       "\n",
       "//create a synth and connect it to the master output (your speakers)\n",
       "var synth = new Tone.Synth().toMaster();\n",
       "\n",
       "//play a middle 'C' for the duration of an 8th note\n",
       "synth.triggerAttackRelease(\"C4\", \"8n\");"
      ],
      "text/plain": [
       "<IPython.core.display.Javascript object>"
      ]
     },
     "metadata": {},
     "output_type": "display_data"
    }
   ],
   "source": [
    "%%js\n",
    "\n",
    "//create a synth and connect it to the master output (your speakers)\n",
    "var synth = new Tone.Synth().toMaster();\n",
    "\n",
    "//play a middle 'C' for the duration of an 8th note\n",
    "synth.triggerAttackRelease(\"C4\", \"8n\");"
   ]
  },
  {
   "cell_type": "code",
   "execution_count": null,
   "metadata": {
    "collapsed": false
   },
   "outputs": [],
   "source": []
  }
 ],
 "metadata": {
  "kernelspec": {
   "display_name": "Python 3",
   "language": "python",
   "name": "python3"
  },
  "language_info": {
   "codemirror_mode": {
    "name": "ipython",
    "version": 3
   },
   "file_extension": ".py",
   "mimetype": "text/x-python",
   "name": "python",
   "nbconvert_exporter": "python",
   "pygments_lexer": "ipython3",
   "version": "3.5.2"
  }
 },
 "nbformat": 4,
 "nbformat_minor": 1
}
