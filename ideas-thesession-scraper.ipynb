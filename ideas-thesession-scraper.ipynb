{
 "cells": [
  {
   "cell_type": "markdown",
   "metadata": {
    "run_control": {
     "frozen": false,
     "read_only": false
    }
   },
   "source": [
    "# The Session Scraper\n",
    "\n",
    "* [The Session](https://thesession.org/)\n",
    "* [HTML Scraping—The Hitchhiker's Guide to Python](http://docs.python-guide.org/en/latest/scenarios/scrape/)"
   ]
  },
  {
   "cell_type": "code",
   "execution_count": 8,
   "metadata": {
    "collapsed": false,
    "run_control": {
     "frozen": false,
     "read_only": false
    }
   },
   "outputs": [],
   "source": [
    "from lxml import html\n",
    "import requests\n",
    "\n",
    "from IPython.display import display, HTML"
   ]
  },
  {
   "cell_type": "markdown",
   "metadata": {},
   "source": [
    "## Search\n",
    "\n",
    "### Xpaths:\n",
    "\n",
    "Result links: `//div[@id=\"results\"]/ol/li/a`"
   ]
  },
  {
   "cell_type": "code",
   "execution_count": 9,
   "metadata": {
    "collapsed": false,
    "run_control": {
     "frozen": false,
     "read_only": false
    }
   },
   "outputs": [
    {
     "data": {
      "text/plain": [
       "['James Morrisons',\n",
       " '(An Tri Is A Rian)',\n",
       " 'Morrison’s',\n",
       " 'Morrison’s Favourite',\n",
       " 'Ian Morrison’s',\n",
       " 'Tom Morrison’s Maggie']"
      ]
     },
     "execution_count": 9,
     "metadata": {},
     "output_type": "execute_result"
    }
   ],
   "source": [
    "# https://thesession.org/tunes/search?type=jig&mode=Eminor&q=butterfly\n",
    "#xpaths\n",
    "\n",
    "def get_search(sc_name='butterfly', sc_type='', sc_mode=''):\n",
    "    #makeuri = \"https://thesession.org/tunes/search?type={0}&mode={1}&q={2}\".format(sc_type, sc_mode, sc_name)\n",
    "    makeuri = \"https://thesession.org/tunes/search?type={0}&mode={1}&q={2}\".format(sc_type, sc_mode, sc_name)\n",
    "    \n",
    "    return requests.get(makeuri)\n",
    "\n",
    "page = get_search('morrisons')\n",
    "tree = html.fromstring(page.content)\n",
    "\n",
    "tree.xpath('//div[@id=\"results\"]/ol/li/a/text()')"
   ]
  },
  {
   "cell_type": "code",
   "execution_count": null,
   "metadata": {
    "collapsed": true,
    "run_control": {
     "frozen": false,
     "read_only": false
    }
   },
   "outputs": [],
   "source": []
  },
  {
   "cell_type": "markdown",
   "metadata": {},
   "source": [
    "## Tunes"
   ]
  },
  {
   "cell_type": "code",
   "execution_count": 10,
   "metadata": {
    "collapsed": true,
    "run_control": {
     "frozen": false,
     "read_only": false
    }
   },
   "outputs": [],
   "source": [
    "# https://thesession.org/tunes/10\n",
    "\n",
    "def get_tune(tune_id):\n",
    "    makeuri = \"https://thesession.org/tunes/{}\".format(tune_id)\n",
    "    \n",
    "    return requests.get(makeuri)"
   ]
  },
  {
   "cell_type": "code",
   "execution_count": 11,
   "metadata": {
    "collapsed": false,
    "run_control": {
     "frozen": false,
     "read_only": false
    }
   },
   "outputs": [],
   "source": [
    "page = get_tune('10')\n",
    "tree = html.fromstring(page.content)"
   ]
  },
  {
   "cell_type": "code",
   "execution_count": 42,
   "metadata": {
    "collapsed": false,
    "run_control": {
     "frozen": false,
     "read_only": false
    }
   },
   "outputs": [
    {
     "data": {
      "text/plain": [
       "['\\nM: 9/8',\n",
       " '\\nL: 1/8',\n",
       " '\\nK: Emin',\n",
       " '\\n|:B2E G2E F3|B2E G2E FED|B2E G2E F3|B2d d2B AFD:|',\n",
       " '\\r|:B2d e2f g3|B2d g2e dBA|B2d e2f g2a|b2a g2e dBA:|',\n",
       " '\\r|:B3 B2A G2A|B3 BAB dBA|B3 B2A G2A|B2d g2e dBA:|\\n',\n",
       " '\\nM: 9/8',\n",
       " '\\nL: 1/8',\n",
       " '\\nK: Emin',\n",
       " '\\n|: B2 E G2 E F3 | B2 E G2 E FF/G/A | B2 E G2 E F3 | B2 d d2 B AFD :|',\n",
       " '\\r|: B2 d e2 f g2 d | B2 d g2 e dBA | B2 d dd/e/f g2 a | b2 a g2 e dBA :|',\n",
       " '\\r|: B3- B2 A G2 A | B3 B^AB dB=A | BcB B2 A G2 A | Bcd g2 e dB^A :|\\n',\n",
       " '\\nM: 9/8',\n",
       " '\\nL: 1/8',\n",
       " '\\nK: Emin',\n",
       " '\\n|: B3 G3 F3 | B3 G3 E3 | B3 G3 F3 | B3 d3 F3 :|',\n",
       " '\\r|: B3 e3 g3 | B3 g3 A3 | B3 e3 g3 | b3 g3 A3 :|',\n",
       " '\\r|: B3 B3 G3 | B3 B3 d3 | B3 B3 G3 | B3 g3 A3 :|\\n',\n",
       " '\\nM: 9/8',\n",
       " '\\nL: 1/8',\n",
       " '\\nK: Emin',\n",
       " '\\n|: B2 E G2 E FED | B2 E G2 E FGA | B2 E G2 E F3 | B2 d- d2 B AFD :|',\n",
       " '\\r|: B2 c e2 f g3 | B2 ^c g2 e dBA | B2 d e2 f g2 a | b2 a g2 e dBA :|',\n",
       " '\\r|: B3 B2 A G2 A | B3 B^AB dB=A | BcB B2 A G2 A | B2 d g2 e dBA :|',\n",
       " '\\r|: B2 c e2 f g2 c | BB/c/d g2 e dB^A | B2 c e2 f g3 | baf gfe dB^A :|',\n",
       " '\\r|: B2 ^c e2 f g2 A | B2 ^c gec d2 A | B2 ^c e2 f g2 a | b2 a g2 e dBA :|',\n",
       " '\\r|: B2 d e2 f g3 | B2 d g2 e dBA | B2 d e2 f g2 a | b3 ag/f/e dBA :|',\n",
       " '\\r|: *B3 e2 f g3 | *B3 g2 e dBA | *B3 e2 f g3 | b2 a g2 e dBA :|\\n',\n",
       " '\\nM: 9/8',\n",
       " '\\nL: 1/8',\n",
       " '\\nK: Gmaj',\n",
       " '\\n|:\"Em\"B2E G2E \"D\"F3|\"Em\"B2E G2E \"D\"FED|\"Em\"B2E G2E \"D\"F3|\"G\"B2d d2B \"D\"AFD:|',\n",
       " '\\n|:\"Em\"B2d e2f g3|B2d g2e \"D\"dBA|\"Em\"B2d e2f g2a|\"G\"b2a g2e \"D\"dBA:|',\n",
       " '\\n|:\"Em\"B3 B2A G2A|B3 BAB \"D\"dBA|\"Em\"B3 B2A G2A|\"G\"B2d g2e \"D\"dBA:|\\n',\n",
       " '\\nM: 9/8',\n",
       " '\\nL: 1/8',\n",
       " '\\nK: Emin',\n",
       " '\\n|:B2E G2E F3|B2E G2E FGA|B2E G2E F3|B2c d2B AFD:|',\n",
       " '\\n|:B2d e2f g3|B2d g2e dBA|B2d e2f g2a|b2a g2e dBA:|',\n",
       " '\\n|:B3 B2A G2A|B3 BAB dBA|B3 B2A G2A|B2d g2e dBA:|\\n']"
      ]
     },
     "execution_count": 42,
     "metadata": {},
     "output_type": "execute_result"
    }
   ],
   "source": [
    "tree.xpath(\"//div[@class='notes']/child::*/text()\")"
   ]
  },
  {
   "cell_type": "code",
   "execution_count": 37,
   "metadata": {
    "collapsed": false,
    "run_control": {
     "frozen": false,
     "read_only": false
    }
   },
   "outputs": [
    {
     "data": {
      "text/html": [
       "<pre style='border:1px solid #aaa;'>\n",
       "M: 9/8</pre>"
      ],
      "text/plain": [
       "<IPython.core.display.HTML object>"
      ]
     },
     "metadata": {},
     "output_type": "display_data"
    },
    {
     "data": {
      "text/html": [
       "<pre style='border:1px solid #aaa;'></pre>"
      ],
      "text/plain": [
       "<IPython.core.display.HTML object>"
      ]
     },
     "metadata": {},
     "output_type": "display_data"
    },
    {
     "data": {
      "text/html": [
       "<pre style='border:1px solid #aaa;'>\n",
       "L: 1/8</pre>"
      ],
      "text/plain": [
       "<IPython.core.display.HTML object>"
      ]
     },
     "metadata": {},
     "output_type": "display_data"
    },
    {
     "data": {
      "text/html": [
       "<pre style='border:1px solid #aaa;'></pre>"
      ],
      "text/plain": [
       "<IPython.core.display.HTML object>"
      ]
     },
     "metadata": {},
     "output_type": "display_data"
    },
    {
     "data": {
      "text/html": [
       "<pre style='border:1px solid #aaa;'>\n",
       "K: Emin</pre>"
      ],
      "text/plain": [
       "<IPython.core.display.HTML object>"
      ]
     },
     "metadata": {},
     "output_type": "display_data"
    },
    {
     "data": {
      "text/html": [
       "<pre style='border:1px solid #aaa;'></pre>"
      ],
      "text/plain": [
       "<IPython.core.display.HTML object>"
      ]
     },
     "metadata": {},
     "output_type": "display_data"
    },
    {
     "data": {
      "text/html": [
       "<pre style='border:1px solid #aaa;'>\n",
       "|:B2E G2E F3|B2E G2E FED|B2E G2E F3|B2d d2B AFD:|</pre>"
      ],
      "text/plain": [
       "<IPython.core.display.HTML object>"
      ]
     },
     "metadata": {},
     "output_type": "display_data"
    },
    {
     "data": {
      "text/html": [
       "<pre style='border:1px solid #aaa;'></pre>"
      ],
      "text/plain": [
       "<IPython.core.display.HTML object>"
      ]
     },
     "metadata": {},
     "output_type": "display_data"
    },
    {
     "data": {
      "text/html": [
       "<pre style='border:1px solid #aaa;'>\r",
       "|:B2d e2f g3|B2d g2e dBA|B2d e2f g2a|b2a g2e dBA:|</pre>"
      ],
      "text/plain": [
       "<IPython.core.display.HTML object>"
      ]
     },
     "metadata": {},
     "output_type": "display_data"
    },
    {
     "data": {
      "text/html": [
       "<pre style='border:1px solid #aaa;'></pre>"
      ],
      "text/plain": [
       "<IPython.core.display.HTML object>"
      ]
     },
     "metadata": {},
     "output_type": "display_data"
    },
    {
     "data": {
      "text/html": [
       "<pre style='border:1px solid #aaa;'>\r",
       "|:B3 B2A G2A|B3 BAB dBA|B3 B2A G2A|B2d g2e dBA:|\n",
       "</pre>"
      ],
      "text/plain": [
       "<IPython.core.display.HTML object>"
      ]
     },
     "metadata": {},
     "output_type": "display_data"
    },
    {
     "data": {
      "text/html": [
       "<pre style='border:1px solid #aaa;'>\n",
       "M: 9/8</pre>"
      ],
      "text/plain": [
       "<IPython.core.display.HTML object>"
      ]
     },
     "metadata": {},
     "output_type": "display_data"
    },
    {
     "data": {
      "text/html": [
       "<pre style='border:1px solid #aaa;'></pre>"
      ],
      "text/plain": [
       "<IPython.core.display.HTML object>"
      ]
     },
     "metadata": {},
     "output_type": "display_data"
    },
    {
     "data": {
      "text/html": [
       "<pre style='border:1px solid #aaa;'>\n",
       "L: 1/8</pre>"
      ],
      "text/plain": [
       "<IPython.core.display.HTML object>"
      ]
     },
     "metadata": {},
     "output_type": "display_data"
    },
    {
     "data": {
      "text/html": [
       "<pre style='border:1px solid #aaa;'></pre>"
      ],
      "text/plain": [
       "<IPython.core.display.HTML object>"
      ]
     },
     "metadata": {},
     "output_type": "display_data"
    },
    {
     "data": {
      "text/html": [
       "<pre style='border:1px solid #aaa;'>\n",
       "K: Emin</pre>"
      ],
      "text/plain": [
       "<IPython.core.display.HTML object>"
      ]
     },
     "metadata": {},
     "output_type": "display_data"
    },
    {
     "data": {
      "text/html": [
       "<pre style='border:1px solid #aaa;'></pre>"
      ],
      "text/plain": [
       "<IPython.core.display.HTML object>"
      ]
     },
     "metadata": {},
     "output_type": "display_data"
    },
    {
     "data": {
      "text/html": [
       "<pre style='border:1px solid #aaa;'>\n",
       "|: B2 E G2 E F3 | B2 E G2 E FF/G/A | B2 E G2 E F3 | B2 d d2 B AFD :|</pre>"
      ],
      "text/plain": [
       "<IPython.core.display.HTML object>"
      ]
     },
     "metadata": {},
     "output_type": "display_data"
    },
    {
     "data": {
      "text/html": [
       "<pre style='border:1px solid #aaa;'></pre>"
      ],
      "text/plain": [
       "<IPython.core.display.HTML object>"
      ]
     },
     "metadata": {},
     "output_type": "display_data"
    },
    {
     "data": {
      "text/html": [
       "<pre style='border:1px solid #aaa;'>\r",
       "|: B2 d e2 f g2 d | B2 d g2 e dBA | B2 d dd/e/f g2 a | b2 a g2 e dBA :|</pre>"
      ],
      "text/plain": [
       "<IPython.core.display.HTML object>"
      ]
     },
     "metadata": {},
     "output_type": "display_data"
    },
    {
     "data": {
      "text/html": [
       "<pre style='border:1px solid #aaa;'></pre>"
      ],
      "text/plain": [
       "<IPython.core.display.HTML object>"
      ]
     },
     "metadata": {},
     "output_type": "display_data"
    },
    {
     "data": {
      "text/html": [
       "<pre style='border:1px solid #aaa;'>\r",
       "|: B3- B2 A G2 A | B3 B^AB dB=A | BcB B2 A G2 A | Bcd g2 e dB^A :|\n",
       "</pre>"
      ],
      "text/plain": [
       "<IPython.core.display.HTML object>"
      ]
     },
     "metadata": {},
     "output_type": "display_data"
    },
    {
     "data": {
      "text/html": [
       "<pre style='border:1px solid #aaa;'>\n",
       "M: 9/8</pre>"
      ],
      "text/plain": [
       "<IPython.core.display.HTML object>"
      ]
     },
     "metadata": {},
     "output_type": "display_data"
    },
    {
     "data": {
      "text/html": [
       "<pre style='border:1px solid #aaa;'></pre>"
      ],
      "text/plain": [
       "<IPython.core.display.HTML object>"
      ]
     },
     "metadata": {},
     "output_type": "display_data"
    },
    {
     "data": {
      "text/html": [
       "<pre style='border:1px solid #aaa;'>\n",
       "L: 1/8</pre>"
      ],
      "text/plain": [
       "<IPython.core.display.HTML object>"
      ]
     },
     "metadata": {},
     "output_type": "display_data"
    },
    {
     "data": {
      "text/html": [
       "<pre style='border:1px solid #aaa;'></pre>"
      ],
      "text/plain": [
       "<IPython.core.display.HTML object>"
      ]
     },
     "metadata": {},
     "output_type": "display_data"
    },
    {
     "data": {
      "text/html": [
       "<pre style='border:1px solid #aaa;'>\n",
       "K: Emin</pre>"
      ],
      "text/plain": [
       "<IPython.core.display.HTML object>"
      ]
     },
     "metadata": {},
     "output_type": "display_data"
    },
    {
     "data": {
      "text/html": [
       "<pre style='border:1px solid #aaa;'></pre>"
      ],
      "text/plain": [
       "<IPython.core.display.HTML object>"
      ]
     },
     "metadata": {},
     "output_type": "display_data"
    },
    {
     "data": {
      "text/html": [
       "<pre style='border:1px solid #aaa;'>\n",
       "|: B3 G3 F3 | B3 G3 E3 | B3 G3 F3 | B3 d3 F3 :|</pre>"
      ],
      "text/plain": [
       "<IPython.core.display.HTML object>"
      ]
     },
     "metadata": {},
     "output_type": "display_data"
    },
    {
     "data": {
      "text/html": [
       "<pre style='border:1px solid #aaa;'></pre>"
      ],
      "text/plain": [
       "<IPython.core.display.HTML object>"
      ]
     },
     "metadata": {},
     "output_type": "display_data"
    },
    {
     "data": {
      "text/html": [
       "<pre style='border:1px solid #aaa;'>\r",
       "|: B3 e3 g3 | B3 g3 A3 | B3 e3 g3 | b3 g3 A3 :|</pre>"
      ],
      "text/plain": [
       "<IPython.core.display.HTML object>"
      ]
     },
     "metadata": {},
     "output_type": "display_data"
    },
    {
     "data": {
      "text/html": [
       "<pre style='border:1px solid #aaa;'></pre>"
      ],
      "text/plain": [
       "<IPython.core.display.HTML object>"
      ]
     },
     "metadata": {},
     "output_type": "display_data"
    },
    {
     "data": {
      "text/html": [
       "<pre style='border:1px solid #aaa;'>\r",
       "|: B3 B3 G3 | B3 B3 d3 | B3 B3 G3 | B3 g3 A3 :|\n",
       "</pre>"
      ],
      "text/plain": [
       "<IPython.core.display.HTML object>"
      ]
     },
     "metadata": {},
     "output_type": "display_data"
    },
    {
     "data": {
      "text/html": [
       "<pre style='border:1px solid #aaa;'>\n",
       "M: 9/8</pre>"
      ],
      "text/plain": [
       "<IPython.core.display.HTML object>"
      ]
     },
     "metadata": {},
     "output_type": "display_data"
    },
    {
     "data": {
      "text/html": [
       "<pre style='border:1px solid #aaa;'></pre>"
      ],
      "text/plain": [
       "<IPython.core.display.HTML object>"
      ]
     },
     "metadata": {},
     "output_type": "display_data"
    },
    {
     "data": {
      "text/html": [
       "<pre style='border:1px solid #aaa;'>\n",
       "L: 1/8</pre>"
      ],
      "text/plain": [
       "<IPython.core.display.HTML object>"
      ]
     },
     "metadata": {},
     "output_type": "display_data"
    },
    {
     "data": {
      "text/html": [
       "<pre style='border:1px solid #aaa;'></pre>"
      ],
      "text/plain": [
       "<IPython.core.display.HTML object>"
      ]
     },
     "metadata": {},
     "output_type": "display_data"
    },
    {
     "data": {
      "text/html": [
       "<pre style='border:1px solid #aaa;'>\n",
       "K: Emin</pre>"
      ],
      "text/plain": [
       "<IPython.core.display.HTML object>"
      ]
     },
     "metadata": {},
     "output_type": "display_data"
    },
    {
     "data": {
      "text/html": [
       "<pre style='border:1px solid #aaa;'></pre>"
      ],
      "text/plain": [
       "<IPython.core.display.HTML object>"
      ]
     },
     "metadata": {},
     "output_type": "display_data"
    },
    {
     "data": {
      "text/html": [
       "<pre style='border:1px solid #aaa;'>\n",
       "|: B2 E G2 E FED | B2 E G2 E FGA | B2 E G2 E F3 | B2 d- d2 B AFD :|</pre>"
      ],
      "text/plain": [
       "<IPython.core.display.HTML object>"
      ]
     },
     "metadata": {},
     "output_type": "display_data"
    },
    {
     "data": {
      "text/html": [
       "<pre style='border:1px solid #aaa;'></pre>"
      ],
      "text/plain": [
       "<IPython.core.display.HTML object>"
      ]
     },
     "metadata": {},
     "output_type": "display_data"
    },
    {
     "data": {
      "text/html": [
       "<pre style='border:1px solid #aaa;'>\r",
       "|: B2 c e2 f g3 | B2 ^c g2 e dBA | B2 d e2 f g2 a | b2 a g2 e dBA :|</pre>"
      ],
      "text/plain": [
       "<IPython.core.display.HTML object>"
      ]
     },
     "metadata": {},
     "output_type": "display_data"
    },
    {
     "data": {
      "text/html": [
       "<pre style='border:1px solid #aaa;'></pre>"
      ],
      "text/plain": [
       "<IPython.core.display.HTML object>"
      ]
     },
     "metadata": {},
     "output_type": "display_data"
    },
    {
     "data": {
      "text/html": [
       "<pre style='border:1px solid #aaa;'>\r",
       "|: B3 B2 A G2 A | B3 B^AB dB=A | BcB B2 A G2 A | B2 d g2 e dBA :|</pre>"
      ],
      "text/plain": [
       "<IPython.core.display.HTML object>"
      ]
     },
     "metadata": {},
     "output_type": "display_data"
    },
    {
     "data": {
      "text/html": [
       "<pre style='border:1px solid #aaa;'></pre>"
      ],
      "text/plain": [
       "<IPython.core.display.HTML object>"
      ]
     },
     "metadata": {},
     "output_type": "display_data"
    },
    {
     "data": {
      "text/html": [
       "<pre style='border:1px solid #aaa;'>\r",
       "|: B2 c e2 f g2 c | BB/c/d g2 e dB^A | B2 c e2 f g3 | baf gfe dB^A :|</pre>"
      ],
      "text/plain": [
       "<IPython.core.display.HTML object>"
      ]
     },
     "metadata": {},
     "output_type": "display_data"
    },
    {
     "data": {
      "text/html": [
       "<pre style='border:1px solid #aaa;'></pre>"
      ],
      "text/plain": [
       "<IPython.core.display.HTML object>"
      ]
     },
     "metadata": {},
     "output_type": "display_data"
    },
    {
     "data": {
      "text/html": [
       "<pre style='border:1px solid #aaa;'>\r",
       "|: B2 ^c e2 f g2 A | B2 ^c gec d2 A | B2 ^c e2 f g2 a | b2 a g2 e dBA :|</pre>"
      ],
      "text/plain": [
       "<IPython.core.display.HTML object>"
      ]
     },
     "metadata": {},
     "output_type": "display_data"
    },
    {
     "data": {
      "text/html": [
       "<pre style='border:1px solid #aaa;'></pre>"
      ],
      "text/plain": [
       "<IPython.core.display.HTML object>"
      ]
     },
     "metadata": {},
     "output_type": "display_data"
    },
    {
     "data": {
      "text/html": [
       "<pre style='border:1px solid #aaa;'>\r",
       "|: B2 d e2 f g3 | B2 d g2 e dBA | B2 d e2 f g2 a | b3 ag/f/e dBA :|</pre>"
      ],
      "text/plain": [
       "<IPython.core.display.HTML object>"
      ]
     },
     "metadata": {},
     "output_type": "display_data"
    },
    {
     "data": {
      "text/html": [
       "<pre style='border:1px solid #aaa;'></pre>"
      ],
      "text/plain": [
       "<IPython.core.display.HTML object>"
      ]
     },
     "metadata": {},
     "output_type": "display_data"
    },
    {
     "data": {
      "text/html": [
       "<pre style='border:1px solid #aaa;'>\r",
       "|: *B3 e2 f g3 | *B3 g2 e dBA | *B3 e2 f g3 | b2 a g2 e dBA :|\n",
       "</pre>"
      ],
      "text/plain": [
       "<IPython.core.display.HTML object>"
      ]
     },
     "metadata": {},
     "output_type": "display_data"
    },
    {
     "data": {
      "text/html": [
       "<pre style='border:1px solid #aaa;'>\n",
       "M: 9/8</pre>"
      ],
      "text/plain": [
       "<IPython.core.display.HTML object>"
      ]
     },
     "metadata": {},
     "output_type": "display_data"
    },
    {
     "data": {
      "text/html": [
       "<pre style='border:1px solid #aaa;'></pre>"
      ],
      "text/plain": [
       "<IPython.core.display.HTML object>"
      ]
     },
     "metadata": {},
     "output_type": "display_data"
    },
    {
     "data": {
      "text/html": [
       "<pre style='border:1px solid #aaa;'>\n",
       "L: 1/8</pre>"
      ],
      "text/plain": [
       "<IPython.core.display.HTML object>"
      ]
     },
     "metadata": {},
     "output_type": "display_data"
    },
    {
     "data": {
      "text/html": [
       "<pre style='border:1px solid #aaa;'></pre>"
      ],
      "text/plain": [
       "<IPython.core.display.HTML object>"
      ]
     },
     "metadata": {},
     "output_type": "display_data"
    },
    {
     "data": {
      "text/html": [
       "<pre style='border:1px solid #aaa;'>\n",
       "K: Gmaj</pre>"
      ],
      "text/plain": [
       "<IPython.core.display.HTML object>"
      ]
     },
     "metadata": {},
     "output_type": "display_data"
    },
    {
     "data": {
      "text/html": [
       "<pre style='border:1px solid #aaa;'></pre>"
      ],
      "text/plain": [
       "<IPython.core.display.HTML object>"
      ]
     },
     "metadata": {},
     "output_type": "display_data"
    },
    {
     "data": {
      "text/html": [
       "<pre style='border:1px solid #aaa;'>\n",
       "|:\"Em\"B2E G2E \"D\"F3|\"Em\"B2E G2E \"D\"FED|\"Em\"B2E G2E \"D\"F3|\"G\"B2d d2B \"D\"AFD:|</pre>"
      ],
      "text/plain": [
       "<IPython.core.display.HTML object>"
      ]
     },
     "metadata": {},
     "output_type": "display_data"
    },
    {
     "data": {
      "text/html": [
       "<pre style='border:1px solid #aaa;'></pre>"
      ],
      "text/plain": [
       "<IPython.core.display.HTML object>"
      ]
     },
     "metadata": {},
     "output_type": "display_data"
    },
    {
     "data": {
      "text/html": [
       "<pre style='border:1px solid #aaa;'>\n",
       "|:\"Em\"B2d e2f g3|B2d g2e \"D\"dBA|\"Em\"B2d e2f g2a|\"G\"b2a g2e \"D\"dBA:|</pre>"
      ],
      "text/plain": [
       "<IPython.core.display.HTML object>"
      ]
     },
     "metadata": {},
     "output_type": "display_data"
    },
    {
     "data": {
      "text/html": [
       "<pre style='border:1px solid #aaa;'></pre>"
      ],
      "text/plain": [
       "<IPython.core.display.HTML object>"
      ]
     },
     "metadata": {},
     "output_type": "display_data"
    },
    {
     "data": {
      "text/html": [
       "<pre style='border:1px solid #aaa;'>\n",
       "|:\"Em\"B3 B2A G2A|B3 BAB \"D\"dBA|\"Em\"B3 B2A G2A|\"G\"B2d g2e \"D\"dBA:|\n",
       "</pre>"
      ],
      "text/plain": [
       "<IPython.core.display.HTML object>"
      ]
     },
     "metadata": {},
     "output_type": "display_data"
    },
    {
     "data": {
      "text/html": [
       "<pre style='border:1px solid #aaa;'>\n",
       "M: 9/8</pre>"
      ],
      "text/plain": [
       "<IPython.core.display.HTML object>"
      ]
     },
     "metadata": {},
     "output_type": "display_data"
    },
    {
     "data": {
      "text/html": [
       "<pre style='border:1px solid #aaa;'></pre>"
      ],
      "text/plain": [
       "<IPython.core.display.HTML object>"
      ]
     },
     "metadata": {},
     "output_type": "display_data"
    },
    {
     "data": {
      "text/html": [
       "<pre style='border:1px solid #aaa;'>\n",
       "L: 1/8</pre>"
      ],
      "text/plain": [
       "<IPython.core.display.HTML object>"
      ]
     },
     "metadata": {},
     "output_type": "display_data"
    },
    {
     "data": {
      "text/html": [
       "<pre style='border:1px solid #aaa;'></pre>"
      ],
      "text/plain": [
       "<IPython.core.display.HTML object>"
      ]
     },
     "metadata": {},
     "output_type": "display_data"
    },
    {
     "data": {
      "text/html": [
       "<pre style='border:1px solid #aaa;'>\n",
       "K: Emin</pre>"
      ],
      "text/plain": [
       "<IPython.core.display.HTML object>"
      ]
     },
     "metadata": {},
     "output_type": "display_data"
    },
    {
     "data": {
      "text/html": [
       "<pre style='border:1px solid #aaa;'></pre>"
      ],
      "text/plain": [
       "<IPython.core.display.HTML object>"
      ]
     },
     "metadata": {},
     "output_type": "display_data"
    },
    {
     "data": {
      "text/html": [
       "<pre style='border:1px solid #aaa;'>\n",
       "|:B2E G2E F3|B2E G2E FGA|B2E G2E F3|B2c d2B AFD:|</pre>"
      ],
      "text/plain": [
       "<IPython.core.display.HTML object>"
      ]
     },
     "metadata": {},
     "output_type": "display_data"
    },
    {
     "data": {
      "text/html": [
       "<pre style='border:1px solid #aaa;'></pre>"
      ],
      "text/plain": [
       "<IPython.core.display.HTML object>"
      ]
     },
     "metadata": {},
     "output_type": "display_data"
    },
    {
     "data": {
      "text/html": [
       "<pre style='border:1px solid #aaa;'>\n",
       "|:B2d e2f g3|B2d g2e dBA|B2d e2f g2a|b2a g2e dBA:|</pre>"
      ],
      "text/plain": [
       "<IPython.core.display.HTML object>"
      ]
     },
     "metadata": {},
     "output_type": "display_data"
    },
    {
     "data": {
      "text/html": [
       "<pre style='border:1px solid #aaa;'></pre>"
      ],
      "text/plain": [
       "<IPython.core.display.HTML object>"
      ]
     },
     "metadata": {},
     "output_type": "display_data"
    },
    {
     "data": {
      "text/html": [
       "<pre style='border:1px solid #aaa;'>\n",
       "|:B3 B2A G2A|B3 BAB dBA|B3 B2A G2A|B2d g2e dBA:|\n",
       "</pre>"
      ],
      "text/plain": [
       "<IPython.core.display.HTML object>"
      ]
     },
     "metadata": {},
     "output_type": "display_data"
    }
   ],
   "source": [
    "for item in tree.xpath(\"//div[@class='notes']/child::*/node()\"):\n",
    "    html=\"<pre style='border:1px solid #aaa;'>{}</pre>\".format(\"\".join(item))\n",
    "    \n",
    "    display(HTML(html))"
   ]
  },
  {
   "cell_type": "code",
   "execution_count": null,
   "metadata": {
    "collapsed": true
   },
   "outputs": [],
   "source": []
  }
 ],
 "metadata": {
  "kernelspec": {
   "display_name": "Python 3",
   "language": "python",
   "name": "python3"
  },
  "language_info": {
   "codemirror_mode": {
    "name": "ipython",
    "version": 3
   },
   "file_extension": ".py",
   "mimetype": "text/x-python",
   "name": "python",
   "nbconvert_exporter": "python",
   "pygments_lexer": "ipython3",
   "version": "3.5.2"
  }
 },
 "nbformat": 4,
 "nbformat_minor": 1
}
