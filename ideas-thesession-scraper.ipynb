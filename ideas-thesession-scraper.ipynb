{
 "cells": [
  {
   "cell_type": "markdown",
   "metadata": {
    "run_control": {
     "frozen": false,
     "read_only": false
    }
   },
   "source": [
    "# The Session Scraper\n",
    "\n",
    "* [The Session](https://thesession.org/)\n",
    "* [HTML Scraping—The Hitchhiker's Guide to Python](http://docs.python-guide.org/en/latest/scenarios/scrape/)"
   ]
  },
  {
   "cell_type": "code",
   "execution_count": 1,
   "metadata": {
    "collapsed": false,
    "run_control": {
     "frozen": false,
     "read_only": false
    }
   },
   "outputs": [],
   "source": [
    "from lxml import html\n",
    "import requests\n",
    "\n",
    "from IPython.display import display, HTML"
   ]
  },
  {
   "cell_type": "markdown",
   "metadata": {},
   "source": [
    "## Search\n",
    "\n",
    "### Xpaths:\n",
    "\n",
    "Result links: `//div[@id=\"results\"]/ol/li/a`"
   ]
  },
  {
   "cell_type": "code",
   "execution_count": 2,
   "metadata": {
    "collapsed": false,
    "run_control": {
     "frozen": false,
     "read_only": false
    }
   },
   "outputs": [
    {
     "data": {
      "text/plain": [
       "['James Morrisons',\n",
       " '(An Tri Is A Rian)',\n",
       " 'Morrison’s',\n",
       " 'Morrison’s Favourite',\n",
       " 'Ian Morrison’s',\n",
       " 'Tom Morrison’s Maggie']"
      ]
     },
     "execution_count": 2,
     "metadata": {},
     "output_type": "execute_result"
    }
   ],
   "source": [
    "# https://thesession.org/tunes/search?type=jig&mode=Eminor&q=butterfly\n",
    "#xpaths\n",
    "\n",
    "def get_search(sc_name='butterfly', sc_type='', sc_mode=''):\n",
    "    #makeuri = \"https://thesession.org/tunes/search?type={0}&mode={1}&q={2}\".format(sc_type, sc_mode, sc_name)\n",
    "    makeuri = \"https://thesession.org/tunes/search?type={0}&mode={1}&q={2}\".format(sc_type, sc_mode, sc_name)\n",
    "    \n",
    "    return requests.get(makeuri)\n",
    "\n",
    "page = get_search('morrisons')\n",
    "tree = html.fromstring(page.content)\n",
    "\n",
    "tree.xpath('//div[@id=\"results\"]/ol/li/a/text()')"
   ]
  },
  {
   "cell_type": "markdown",
   "metadata": {},
   "source": [
    "## Tunes"
   ]
  },
  {
   "cell_type": "code",
   "execution_count": 3,
   "metadata": {
    "collapsed": true,
    "run_control": {
     "frozen": false,
     "read_only": false
    }
   },
   "outputs": [],
   "source": [
    "# https://thesession.org/tunes/10\n",
    "\n",
    "def get_tune(tune_id):\n",
    "    makeuri = \"https://thesession.org/tunes/{}\".format(tune_id)\n",
    "    \n",
    "    return requests.get(makeuri)"
   ]
  },
  {
   "cell_type": "code",
   "execution_count": 4,
   "metadata": {
    "collapsed": false,
    "run_control": {
     "frozen": false,
     "read_only": false
    }
   },
   "outputs": [],
   "source": [
    "page = get_tune('10')\n",
    "tree = html.fromstring(page.content)"
   ]
  },
  {
   "cell_type": "code",
   "execution_count": 5,
   "metadata": {
    "collapsed": false,
    "run_control": {
     "frozen": false,
     "read_only": false
    }
   },
   "outputs": [
    {
     "data": {
      "text/plain": [
       "<Element html at 0x7f982a862ea8>"
      ]
     },
     "execution_count": 5,
     "metadata": {},
     "output_type": "execute_result"
    }
   ],
   "source": [
    "tree"
   ]
  },
  {
   "cell_type": "code",
   "execution_count": 14,
   "metadata": {
    "collapsed": false,
    "run_control": {
     "frozen": false,
     "read_only": false
    }
   },
   "outputs": [
    {
     "data": {
      "text/plain": [
       "[<Element div at 0x7f982a849958>,\n",
       " <Element div at 0x7f982a8787c8>,\n",
       " <Element div at 0x7f982a8784a8>,\n",
       " <Element div at 0x7f982a878688>,\n",
       " <Element div at 0x7f982a878408>,\n",
       " <Element div at 0x7f982a8786d8>]"
      ]
     },
     "execution_count": 14,
     "metadata": {},
     "output_type": "execute_result"
    }
   ],
   "source": [
    "nds = tree.xpath('//*[@class=\"setting\"]')\n",
    "\n",
    "nds"
   ]
  },
  {
   "cell_type": "code",
   "execution_count": 20,
   "metadata": {
    "collapsed": false,
    "run_control": {
     "frozen": false,
     "read_only": false
    }
   },
   "outputs": [
    {
     "data": {
      "text/plain": [
       "<Element div at 0x7f982a849958>"
      ]
     },
     "execution_count": 20,
     "metadata": {},
     "output_type": "execute_result"
    }
   ],
   "source": [
    "nds[0].findall(path='//*[@class=\"abc\"]/text()')"
   ]
  },
  {
   "cell_type": "code",
   "execution_count": null,
   "metadata": {
    "collapsed": false,
    "run_control": {
     "frozen": false,
     "read_only": false
    }
   },
   "outputs": [
    {
     "name": "stdout",
     "output_type": "stream",
     "text": [
      "Collecting scrapy\n",
      "  Downloading Scrapy-1.2.0-py2.py3-none-any.whl (294kB)\n",
      "\u001b[K    100% |████████████████████████████████| 296kB 160kB/s \n",
      "\u001b[?25hCollecting queuelib (from scrapy)\n",
      "  Downloading queuelib-1.4.2-py2.py3-none-any.whl\n",
      "Requirement already satisfied (use --upgrade to upgrade): six>=1.5.2 in ./venv/lib/python3.5/site-packages (from scrapy)\n",
      "Collecting w3lib>=1.15.0 (from scrapy)\n",
      "  Downloading w3lib-1.15.0-py2.py3-none-any.whl\n",
      "Collecting Twisted>=10.0.0 (from scrapy)\n",
      "  Downloading Twisted-16.4.1.tar.bz2 (3.0MB)\n",
      "\u001b[K    100% |████████████████████████████████| 3.0MB 58kB/s \n",
      "\u001b[?25hCollecting PyDispatcher>=2.0.5 (from scrapy)\n",
      "  Downloading PyDispatcher-2.0.5.tar.gz\n",
      "Requirement already satisfied (use --upgrade to upgrade): lxml in ./venv/lib/python3.5/site-packages (from scrapy)\n",
      "Collecting cssselect>=0.9 (from scrapy)\n",
      "  Downloading cssselect-0.9.2-py2.py3-none-any.whl\n",
      "Collecting pyOpenSSL (from scrapy)\n",
      "  Downloading pyOpenSSL-16.2.0-py2.py3-none-any.whl (43kB)\n",
      "\u001b[K    100% |████████████████████████████████| 51kB 204kB/s \n",
      "\u001b[?25hCollecting parsel>=0.9.3 (from scrapy)\n",
      "  Downloading parsel-1.0.3-py2.py3-none-any.whl\n",
      "Collecting service-identity (from scrapy)\n",
      "  Downloading service_identity-16.0.0-py2.py3-none-any.whl\n",
      "Collecting zope.interface>=4.0.2 (from Twisted>=10.0.0->scrapy)\n",
      "  Downloading zope.interface-4.3.2.tar.gz (143kB)\n",
      "\u001b[K    100% |████████████████████████████████| 143kB 208kB/s \n",
      "\u001b[?25hCollecting cryptography>=1.3.4 (from pyOpenSSL->scrapy)\n",
      "  Downloading cryptography-1.5.2.tar.gz (400kB)\n",
      "\u001b[K    38% |████████████▎                   | 153kB 319kB/s eta 0:00:01"
     ]
    }
   ],
   "source": [
    "! pip install scrapy"
   ]
  },
  {
   "cell_type": "code",
   "execution_count": null,
   "metadata": {
    "collapsed": true
   },
   "outputs": [],
   "source": []
  }
 ],
 "metadata": {
  "kernelspec": {
   "display_name": "Python 3",
   "language": "python",
   "name": "python3"
  },
  "language_info": {
   "codemirror_mode": {
    "name": "ipython",
    "version": 3
   },
   "file_extension": ".py",
   "mimetype": "text/x-python",
   "name": "python",
   "nbconvert_exporter": "python",
   "pygments_lexer": "ipython3",
   "version": "3.5.2"
  }
 },
 "nbformat": 4,
 "nbformat_minor": 1
}
