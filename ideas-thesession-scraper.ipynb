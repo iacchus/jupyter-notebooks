{
 "cells": [
  {
   "cell_type": "markdown",
   "metadata": {
    "run_control": {
     "frozen": false,
     "read_only": false
    }
   },
   "source": [
    "# The Session Scraper\n",
    "\n",
    "* [The Session](https://thesession.org/)\n",
    "* [HTML Scraping—The Hitchhiker's Guide to Python](http://docs.python-guide.org/en/latest/scenarios/scrape/)"
   ]
  },
  {
   "cell_type": "code",
   "execution_count": 2,
   "metadata": {
    "collapsed": false,
    "run_control": {
     "frozen": false,
     "read_only": false
    }
   },
   "outputs": [],
   "source": [
    "from lxml import html\n",
    "import requests\n",
    "\n",
    "from IPython.display import display, HTML"
   ]
  },
  {
   "cell_type": "markdown",
   "metadata": {},
   "source": [
    "## Search\n",
    "\n",
    "### Xpaths:\n",
    "\n",
    "Result links: `//div[@id=\"results\"]/ol/li/a`"
   ]
  },
  {
   "cell_type": "code",
   "execution_count": 3,
   "metadata": {
    "collapsed": false,
    "run_control": {
     "frozen": false,
     "read_only": false
    }
   },
   "outputs": [
    {
     "data": {
      "text/plain": [
       "['James Morrisons',\n",
       " '(An Tri Is A Rian)',\n",
       " 'Morrison’s',\n",
       " 'Morrison’s Favourite',\n",
       " 'Ian Morrison’s',\n",
       " 'Tom Morrison’s Maggie']"
      ]
     },
     "execution_count": 3,
     "metadata": {},
     "output_type": "execute_result"
    }
   ],
   "source": [
    "# https://thesession.org/tunes/search?type=jig&mode=Eminor&q=butterfly\n",
    "#xpaths\n",
    "\n",
    "def get_search(sc_name='butterfly', sc_type='', sc_mode=''):\n",
    "    #makeuri = \"https://thesession.org/tunes/search?type={0}&mode={1}&q={2}\".format(sc_type, sc_mode, sc_name)\n",
    "    makeuri = \"https://thesession.org/tunes/search?type={0}&mode={1}&q={2}\".format(sc_type, sc_mode, sc_name)\n",
    "    \n",
    "    return requests.get(makeuri)\n",
    "\n",
    "page = get_search('morrisons')\n",
    "tree = html.fromstring(page.content)\n",
    "\n",
    "tree.xpath('//div[@id=\"results\"]/ol/li/a/text()')"
   ]
  },
  {
   "cell_type": "markdown",
   "metadata": {},
   "source": [
    "## Tunes"
   ]
  },
  {
   "cell_type": "code",
   "execution_count": 4,
   "metadata": {
    "collapsed": true,
    "run_control": {
     "frozen": false,
     "read_only": false
    }
   },
   "outputs": [],
   "source": [
    "# https://thesession.org/tunes/10\n",
    "\n",
    "def get_tune(tune_id):\n",
    "    makeuri = \"https://thesession.org/tunes/{}\".format(tune_id)\n",
    "    \n",
    "    return requests.get(makeuri)"
   ]
  },
  {
   "cell_type": "code",
   "execution_count": 5,
   "metadata": {
    "collapsed": false,
    "run_control": {
     "frozen": false,
     "read_only": false
    }
   },
   "outputs": [],
   "source": [
    "page = get_tune('10')\n",
    "tree = html.fromstring(page.content)"
   ]
  },
  {
   "cell_type": "code",
   "execution_count": null,
   "metadata": {
    "collapsed": true
   },
   "outputs": [],
   "source": []
  }
 ],
 "metadata": {
  "kernelspec": {
   "display_name": "Python 3",
   "language": "python",
   "name": "python3"
  },
  "language_info": {
   "codemirror_mode": {
    "name": "ipython",
    "version": 3
   },
   "file_extension": ".py",
   "mimetype": "text/x-python",
   "name": "python",
   "nbconvert_exporter": "python",
   "pygments_lexer": "ipython3",
   "version": "3.5.2"
  }
 },
 "nbformat": 4,
 "nbformat_minor": 1
}
