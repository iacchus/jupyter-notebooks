{
 "cells": [
  {
   "cell_type": "code",
   "execution_count": 1,
   "metadata": {
    "collapsed": true
   },
   "outputs": [],
   "source": [
    "from music21 import *"
   ]
  },
  {
   "cell_type": "code",
   "execution_count": 3,
   "metadata": {
    "collapsed": false
   },
   "outputs": [
    {
     "ename": "StreamPlayerException",
     "evalue": "Could not play music file <_io.BytesIO object at 0x7fe971039ca8> because: /etc/timidity.cfg: No such file or directory",
     "output_type": "error",
     "traceback": [
      "\u001b[0;31m---------------------------------------------------------------------------\u001b[0m",
      "\u001b[0;31merror\u001b[0m                                     Traceback (most recent call last)",
      "\u001b[0;32m/home/iacchus/git-stuff/jupyter-venv/venv/lib/python3.5/site-packages/music21/midi/realtime.py\u001b[0m in \u001b[0;36mplayStringIOFile\u001b[0;34m(self, stringIOFile, busyFunction, busyArgs, endFunction, endArgs, busyWaitMilliseconds)\u001b[0m\n\u001b[1;32m    129\u001b[0m         \u001b[0;32mtry\u001b[0m\u001b[0;34m:\u001b[0m\u001b[0;34m\u001b[0m\u001b[0m\n\u001b[0;32m--> 130\u001b[0;31m             \u001b[0mself\u001b[0m\u001b[0;34m.\u001b[0m\u001b[0mpygame\u001b[0m\u001b[0;34m.\u001b[0m\u001b[0mmixer\u001b[0m\u001b[0;34m.\u001b[0m\u001b[0mmusic\u001b[0m\u001b[0;34m.\u001b[0m\u001b[0mload\u001b[0m\u001b[0;34m(\u001b[0m\u001b[0mstringIOFile\u001b[0m\u001b[0;34m)\u001b[0m\u001b[0;34m\u001b[0m\u001b[0m\n\u001b[0m\u001b[1;32m    131\u001b[0m         \u001b[0;32mexcept\u001b[0m \u001b[0mself\u001b[0m\u001b[0;34m.\u001b[0m\u001b[0mpygame\u001b[0m\u001b[0;34m.\u001b[0m\u001b[0merror\u001b[0m\u001b[0;34m:\u001b[0m\u001b[0;34m\u001b[0m\u001b[0m\n",
      "\u001b[0;31merror\u001b[0m: /etc/timidity.cfg: No such file or directory",
      "\nDuring handling of the above exception, another exception occurred:\n",
      "\u001b[0;31mStreamPlayerException\u001b[0m                     Traceback (most recent call last)",
      "\u001b[0;32m<ipython-input-3-cf7d937479cb>\u001b[0m in \u001b[0;36m<module>\u001b[0;34m()\u001b[0m\n\u001b[1;32m     12\u001b[0m \u001b[0;34m\u001b[0m\u001b[0m\n\u001b[1;32m     13\u001b[0m \u001b[0msp\u001b[0m \u001b[0;34m=\u001b[0m \u001b[0mmidi\u001b[0m\u001b[0;34m.\u001b[0m\u001b[0mrealtime\u001b[0m\u001b[0;34m.\u001b[0m\u001b[0mStreamPlayer\u001b[0m\u001b[0;34m(\u001b[0m\u001b[0mb\u001b[0m\u001b[0;34m)\u001b[0m\u001b[0;34m\u001b[0m\u001b[0m\n\u001b[0;32m---> 14\u001b[0;31m \u001b[0msp\u001b[0m\u001b[0;34m.\u001b[0m\u001b[0mplay\u001b[0m\u001b[0;34m(\u001b[0m\u001b[0;34m)\u001b[0m\u001b[0;34m\u001b[0m\u001b[0m\n\u001b[0m",
      "\u001b[0;32m/home/iacchus/git-stuff/jupyter-venv/venv/lib/python3.5/site-packages/music21/midi/realtime.py\u001b[0m in \u001b[0;36mplay\u001b[0;34m(self, busyFunction, busyArgs, endFunction, endArgs, busyWaitMilliseconds)\u001b[0m\n\u001b[1;32m    117\u001b[0m         \u001b[0mstreamStringIOFile\u001b[0m \u001b[0;34m=\u001b[0m \u001b[0mself\u001b[0m\u001b[0;34m.\u001b[0m\u001b[0mgetStringOrBytesIOFile\u001b[0m\u001b[0;34m(\u001b[0m\u001b[0;34m)\u001b[0m\u001b[0;34m\u001b[0m\u001b[0m\n\u001b[1;32m    118\u001b[0m         self.playStringIOFile(streamStringIOFile, busyFunction, busyArgs, \n\u001b[0;32m--> 119\u001b[0;31m                               endFunction, endArgs, busyWaitMilliseconds)\n\u001b[0m\u001b[1;32m    120\u001b[0m \u001b[0;34m\u001b[0m\u001b[0m\n\u001b[1;32m    121\u001b[0m     \u001b[0;32mdef\u001b[0m \u001b[0mgetStringOrBytesIOFile\u001b[0m\u001b[0;34m(\u001b[0m\u001b[0mself\u001b[0m\u001b[0;34m)\u001b[0m\u001b[0;34m:\u001b[0m\u001b[0;34m\u001b[0m\u001b[0m\n",
      "\u001b[0;32m/home/iacchus/git-stuff/jupyter-venv/venv/lib/python3.5/site-packages/music21/midi/realtime.py\u001b[0m in \u001b[0;36mplayStringIOFile\u001b[0;34m(self, stringIOFile, busyFunction, busyArgs, endFunction, endArgs, busyWaitMilliseconds)\u001b[0m\n\u001b[1;32m    132\u001b[0m             raise StreamPlayerException(\n\u001b[1;32m    133\u001b[0m                 \"Could not play music file %s because: %s\" % (stringIOFile, \n\u001b[0;32m--> 134\u001b[0;31m                                                               self.pygame.get_error()))\n\u001b[0m\u001b[1;32m    135\u001b[0m         \u001b[0mself\u001b[0m\u001b[0;34m.\u001b[0m\u001b[0mpygame\u001b[0m\u001b[0;34m.\u001b[0m\u001b[0mmixer\u001b[0m\u001b[0;34m.\u001b[0m\u001b[0mmusic\u001b[0m\u001b[0;34m.\u001b[0m\u001b[0mplay\u001b[0m\u001b[0;34m(\u001b[0m\u001b[0;34m)\u001b[0m\u001b[0;34m\u001b[0m\u001b[0m\n\u001b[1;32m    136\u001b[0m         \u001b[0mframerate\u001b[0m \u001b[0;34m=\u001b[0m \u001b[0mint\u001b[0m\u001b[0;34m(\u001b[0m\u001b[0;36m1000\u001b[0m\u001b[0;34m/\u001b[0m\u001b[0mbusyWaitMilliseconds\u001b[0m\u001b[0;34m)\u001b[0m \u001b[0;31m# coerce into int even if given a float.\u001b[0m\u001b[0;34m\u001b[0m\u001b[0m\n",
      "\u001b[0;31mStreamPlayerException\u001b[0m: Could not play music file <_io.BytesIO object at 0x7fe971039ca8> because: /etc/timidity.cfg: No such file or directory"
     ]
    }
   ],
   "source": [
    "import random\n",
    "\n",
    "keyDetune = []\n",
    "\n",
    "for i in range(0, 127):\n",
    "    keyDetune.append(random.randint(-30, 30))\n",
    "    \n",
    "b = corpus.parse('bwv66.6')\n",
    "\n",
    "for n in b.flat.notes:\n",
    "    n.microtone = keyDetune[n.midi]\n",
    "    \n",
    "sp = midi.realtime.StreamPlayer(b)\n",
    "sp.play()"
   ]
  },
  {
   "cell_type": "code",
   "execution_count": null,
   "metadata": {
    "collapsed": true
   },
   "outputs": [],
   "source": []
  }
 ],
 "metadata": {
  "kernelspec": {
   "display_name": "Python 3",
   "language": "python",
   "name": "python3"
  },
  "language_info": {
   "codemirror_mode": {
    "name": "ipython",
    "version": 3
   },
   "file_extension": ".py",
   "mimetype": "text/x-python",
   "name": "python",
   "nbconvert_exporter": "python",
   "pygments_lexer": "ipython3",
   "version": "3.5.2"
  }
 },
 "nbformat": 4,
 "nbformat_minor": 1
}
