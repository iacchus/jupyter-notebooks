{
 "cells": [
  {
   "cell_type": "code",
   "execution_count": 2,
   "metadata": {
    "collapsed": false
   },
   "outputs": [
    {
     "name": "stdout",
     "output_type": "stream",
     "text": [
      "Requirement already satisfied (use --upgrade to upgrade): toml in ./venv/lib/python3.5/site-packages\n",
      "Collecting configobj\n",
      "  Downloading configobj-5.0.6.tar.gz\n",
      "Collecting tablib\n",
      "  Downloading tablib-0.11.2-py2.py3-none-any.whl (905kB)\n",
      "\u001b[K    100% |████████████████████████████████| 911kB 139kB/s \n",
      "\u001b[?25hRequirement already satisfied (use --upgrade to upgrade): six in ./venv/lib/python3.5/site-packages (from configobj)\n",
      "Building wheels for collected packages: configobj\n",
      "  Running setup.py bdist_wheel for configobj ... \u001b[?25l-\b \b\\\b \b|\b \b/\b \b-\b \b\\\b \bdone\n",
      "\u001b[?25h  Stored in directory: /home/iacchus/.cache/pip/wheels/87/76/48/1564f8466fbd36402af5ac4972ffb56a6ef7f143892ef57fe5\n",
      "Successfully built configobj\n",
      "Installing collected packages: configobj, tablib\n",
      "Successfully installed configobj-5.0.6 tablib-0.11.2\n"
     ]
    }
   ],
   "source": [
    "#!pip install toml configobj tablib"
   ]
  },
  {
   "cell_type": "code",
   "execution_count": 3,
   "metadata": {
    "collapsed": true
   },
   "outputs": [],
   "source": [
    "import toml"
   ]
  },
  {
   "cell_type": "code",
   "execution_count": 6,
   "metadata": {
    "collapsed": false
   },
   "outputs": [],
   "source": [
    "my_dict = {\n",
    "    'listen':'127.0.0.1',\n",
    "    'port':41345,\n",
    "\n",
    "    'instance1':{\n",
    "        'name':'My Forum',\n",
    "        'boards':['board 1','another board']\n",
    "    },\n",
    "    \n",
    "    'instance2':{\n",
    "        'name':'My other BBS',\n",
    "        'boards':{'board 1':'this is our first board','another board':'this is the desc. of our other board'}\n",
    "    }\n",
    "}"
   ]
  },
  {
   "cell_type": "code",
   "execution_count": 7,
   "metadata": {
    "collapsed": false
   },
   "outputs": [
    {
     "data": {
      "text/plain": [
       "{'instance1': {'boards': ['board 1', 'another board'], 'name': 'My Forum'},\n",
       " 'instance2': {'boards': {'another board': 'this is the desc. of our other board',\n",
       "   'board 1': 'this is our first board'},\n",
       "  'name': 'My other BBS'},\n",
       " 'listen': '127.0.0.1',\n",
       " 'port': 41345}"
      ]
     },
     "execution_count": 7,
     "metadata": {},
     "output_type": "execute_result"
    }
   ],
   "source": [
    "my_dict"
   ]
  },
  {
   "cell_type": "code",
   "execution_count": 9,
   "metadata": {
    "collapsed": false
   },
   "outputs": [
    {
     "name": "stdout",
     "output_type": "stream",
     "text": [
      "port = 41345\n",
      "listen = \"127.0.0.1\"\n",
      "[instance2]\n",
      "name = \"My other BBS\"\n",
      "[instance1]\n",
      "name = \"My Forum\"\n",
      "boards = [ \"board 1\", \"another board\",]\n",
      "[instance2.boards]\n",
      "\"board 1\" = \"this is our first board\"\n",
      "\"another board\" = \"this is the desc. of our other board\"\n",
      "\n"
     ]
    }
   ],
   "source": [
    "print(toml.dumps(my_dict))"
   ]
  },
  {
   "cell_type": "code",
   "execution_count": 10,
   "metadata": {
    "collapsed": true
   },
   "outputs": [],
   "source": [
    "from configobj import ConfigObj"
   ]
  },
  {
   "cell_type": "code",
   "execution_count": 19,
   "metadata": {
    "collapsed": false
   },
   "outputs": [
    {
     "name": "stdout",
     "output_type": "stream",
     "text": [
      "port = 41345\n",
      "listen = 127.0.0.1\n",
      "[instance2]\n",
      "    name = My other BBS\n",
      "    [[boards]]\n",
      "        board 1 = this is our first board\n",
      "        another board = this is the desc. of our other board\n",
      "[instance1]\n",
      "    name = My Forum\n",
      "    boards = board 1, another board\n"
     ]
    }
   ],
   "source": [
    "print(\"\\n\".join(ConfigObj(my_dict).write()))"
   ]
  },
  {
   "cell_type": "code",
   "execution_count": null,
   "metadata": {
    "collapsed": true
   },
   "outputs": [],
   "source": []
  }
 ],
 "metadata": {
  "kernelspec": {
   "display_name": "Python 3",
   "language": "python",
   "name": "python3"
  },
  "language_info": {
   "codemirror_mode": {
    "name": "ipython",
    "version": 3
   },
   "file_extension": ".py",
   "mimetype": "text/x-python",
   "name": "python",
   "nbconvert_exporter": "python",
   "pygments_lexer": "ipython3",
   "version": "3.5.2"
  }
 },
 "nbformat": 4,
 "nbformat_minor": 1
}
