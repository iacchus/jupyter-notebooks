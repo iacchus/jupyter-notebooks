{
 "cells": [
  {
   "cell_type": "markdown",
   "metadata": {},
   "source": [
    "# Plim (Python Slim) Table test\n",
    "\n",
    "We are trying methods of programatically create HTML tables, some use python loops, d3.js library. Here we are trying to implement `plim`.\n",
    "\n",
    "http://plim.readthedocs.io/en/latest/"
   ]
  },
  {
   "cell_type": "code",
   "execution_count": 6,
   "metadata": {
    "collapsed": false
   },
   "outputs": [],
   "source": [
    "import plim\n",
    "\n",
    "from IPython.display import display, HTML"
   ]
  },
  {
   "cell_type": "code",
   "execution_count": 8,
   "metadata": {
    "collapsed": true
   },
   "outputs": [],
   "source": [
    "table_slim = \"\"\"\n",
    "table\n",
    "    tr\n",
    "        th um\n",
    "        th dois\n",
    "        th tres\n",
    "    tr\n",
    "        td first one\n",
    "        td second one\n",
    "        td third one\n",
    "    tr\n",
    "        td second row\n",
    "        td second row too\n",
    "        td also second row\n",
    "\"\"\""
   ]
  },
  {
   "cell_type": "code",
   "execution_count": 9,
   "metadata": {
    "collapsed": false
   },
   "outputs": [
    {
     "data": {
      "text/plain": [
       "'<table><tr><th>um</th><th>dois</th><th>tres</th></tr><tr><td>first one</td><td>second one</td><td>third one</td></tr><tr><td>second row</td><td>second row too</td><td>also second row</td></tr></table>'"
      ]
     },
     "execution_count": 9,
     "metadata": {},
     "output_type": "execute_result"
    }
   ],
   "source": [
    "plim.preprocessor(table_slim)"
   ]
  },
  {
   "cell_type": "code",
   "execution_count": 11,
   "metadata": {
    "collapsed": false
   },
   "outputs": [
    {
     "data": {
      "text/html": [
       "<table><tr><th>um</th><th>dois</th><th>tres</th></tr><tr><td>first one</td><td>second one</td><td>third one</td></tr><tr><td>second row</td><td>second row too</td><td>also second row</td></tr></table>"
      ],
      "text/plain": [
       "<IPython.core.display.HTML object>"
      ]
     },
     "execution_count": 11,
     "metadata": {},
     "output_type": "execute_result"
    }
   ],
   "source": [
    "table_html = plim.preprocessor(table_slim)\n",
    "\n",
    "HTML(table_html)"
   ]
  },
  {
   "cell_type": "code",
   "execution_count": null,
   "metadata": {
    "collapsed": true
   },
   "outputs": [],
   "source": [
    "import plim\n",
    "\n",
    "from IPython.display import display, HTML\n",
    "\n",
    "\n",
    "table_slim = \"\"\"\n",
    "table\n",
    "    tr\n",
    "        th um\n",
    "        th dois\n",
    "        th tres\n",
    "    tr\n",
    "        td first one\n",
    "        td second one\n",
    "        td third one\n",
    "    tr\n",
    "        td second row\n",
    "        td second row too\n",
    "        td also second row\n",
    "\"\"\"\n",
    "\n",
    "\n",
    "table_html = plim.preprocessor(table_slim)\n",
    "\n",
    "HTML(table_html)"
   ]
  }
 ],
 "metadata": {
  "kernelspec": {
   "display_name": "Python 3",
   "language": "python",
   "name": "python3"
  },
  "language_info": {
   "codemirror_mode": {
    "name": "ipython",
    "version": 3
   },
   "file_extension": ".py",
   "mimetype": "text/x-python",
   "name": "python",
   "nbconvert_exporter": "python",
   "pygments_lexer": "ipython3",
   "version": "3.5.2"
  }
 },
 "nbformat": 4,
 "nbformat_minor": 1
}
