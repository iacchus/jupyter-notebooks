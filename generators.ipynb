{
 "cells": [
  {
   "cell_type": "markdown",
   "metadata": {
    "run_control": {
     "frozen": false,
     "read_only": false
    }
   },
   "source": [
    "# Python3: generators\n",
    "\n",
    "Neste jupyter nb pretendemos falar um pouco de forma simples e compreensível o que são geradores (*generators*) em python."
   ]
  },
  {
   "cell_type": "markdown",
   "metadata": {},
   "source": [
    "## 0. List comprehensions\n",
    "\n",
    "Vamos começar falando de um simples conceito, o de *list comprehensions*"
   ]
  },
  {
   "cell_type": "code",
   "execution_count": 1,
   "metadata": {},
   "outputs": [
    {
     "data": {
      "text/plain": [
       "[0, 1, 2, 3, 4]"
      ]
     },
     "execution_count": 1,
     "metadata": {},
     "output_type": "execute_result"
    }
   ],
   "source": [
    "# Isto é uma list comprehension\n",
    "\n",
    "a = [x for x in range(5)]\n",
    "a"
   ]
  },
  {
   "cell_type": "markdown",
   "metadata": {},
   "source": [
    "No exemplo acima, criamos uma *list comprehension*. Ela começa do 0, para facilmente interarmos como indices.\n",
    "\n",
    "No caso, a variável `a` possui **todos os seus elementos** estocados na memória RAM. Eles já foram calculados pelo processador e simplesmente estão estocados."
   ]
  },
  {
   "cell_type": "markdown",
   "metadata": {},
   "source": [
    "## 1. Generator comprehensions\n",
    "\n",
    "Agora sobre o conceito de *generator comprehensions*, uma forma simplificada de criar generators, análogo ao caso acima."
   ]
  },
  {
   "cell_type": "code",
   "execution_count": 2,
   "metadata": {},
   "outputs": [
    {
     "data": {
      "text/plain": [
       "<generator object <genexpr> at 0x7f9ee42eaf10>"
      ]
     },
     "execution_count": 2,
     "metadata": {},
     "output_type": "execute_result"
    }
   ],
   "source": [
    "# Isto é um generator comprehension\n",
    "\n",
    "b = (x for x in range(5))\n",
    "b"
   ]
  },
  {
   "cell_type": "markdown",
   "metadata": {},
   "source": [
    "Vemos que `b` é um objeto `generator`. Nele, os elementos **não** estão estocados na memória."
   ]
  },
  {
   "cell_type": "code",
   "execution_count": 3,
   "metadata": {},
   "outputs": [
    {
     "data": {
      "text/plain": [
       "0"
      ]
     },
     "execution_count": 3,
     "metadata": {},
     "output_type": "execute_result"
    }
   ],
   "source": [
    "next(b)"
   ]
  },
  {
   "cell_type": "code",
   "execution_count": 4,
   "metadata": {},
   "outputs": [
    {
     "data": {
      "text/plain": [
       "1"
      ]
     },
     "execution_count": 4,
     "metadata": {},
     "output_type": "execute_result"
    }
   ],
   "source": [
    "next(b)"
   ]
  },
  {
   "cell_type": "code",
   "execution_count": 5,
   "metadata": {},
   "outputs": [
    {
     "data": {
      "text/plain": [
       "2"
      ]
     },
     "execution_count": 5,
     "metadata": {},
     "output_type": "execute_result"
    }
   ],
   "source": [
    "next(b)"
   ]
  },
  {
   "cell_type": "markdown",
   "metadata": {},
   "source": [
    "Nós sabemos que o próximo elemento gerado será o 3, no entanto, ele não está estocado em memória.\n",
    "\n",
    "Um gerador possui **apenas o estado atual estocado em memoria, assim como sua função para gerar o próximo elemento**."
   ]
  },
  {
   "cell_type": "code",
   "execution_count": 6,
   "metadata": {},
   "outputs": [
    {
     "data": {
      "text/plain": [
       "3"
      ]
     },
     "execution_count": 6,
     "metadata": {},
     "output_type": "execute_result"
    }
   ],
   "source": [
    "next(b)"
   ]
  },
  {
   "cell_type": "markdown",
   "metadata": {},
   "source": [
    "### 1.1 Geradores são objetos iteráveis\n",
    "\n",
    "Geradores são objetos iteráveis. Iteráveis em Python3 são classes que possuem o método especial `__iter__` ou seja, sabem como lidar quando recebem a necessidade de iteração.\n",
    "\n",
    "Por exemplo, a função `list()` recebe um iterável como elemento. Como os geradores são iteráveis, nós podemos utilizá-los como entrada para a criação de uma lista."
   ]
  },
  {
   "cell_type": "code",
   "execution_count": 7,
   "metadata": {},
   "outputs": [
    {
     "data": {
      "text/plain": [
       "[0, 1, 2, 3, 4]"
      ]
     },
     "execution_count": 7,
     "metadata": {},
     "output_type": "execute_result"
    }
   ],
   "source": [
    "# Isto é um generator comprehension\n",
    "\n",
    "c = (x for x in range(5))\n",
    "\n",
    "# Aqui a função list() cria uma lista, ou seja, faz com que a iteração do gerador aloque os valores gerados na memória\n",
    "d = list(c)\n",
    "d"
   ]
  },
  {
   "cell_type": "code",
   "execution_count": 8,
   "metadata": {},
   "outputs": [
    {
     "data": {
      "text/plain": [
       "[0, 1, 2, 3, 4]"
      ]
     },
     "execution_count": 8,
     "metadata": {},
     "output_type": "execute_result"
    }
   ],
   "source": [
    "d"
   ]
  },
  {
   "cell_type": "markdown",
   "metadata": {},
   "source": [
    "## 2. `yield` vs `return`\n",
    "\n",
    "Um gerador pode ser definido como uma função que usa `yield` (fornecer) ao invés de `return`."
   ]
  },
  {
   "cell_type": "code",
   "execution_count": 9,
   "metadata": {},
   "outputs": [
    {
     "data": {
      "text/plain": [
       "<generator object my_generat3rs at 0x7f9ee4379200>"
      ]
     },
     "execution_count": 9,
     "metadata": {},
     "output_type": "execute_result"
    }
   ],
   "source": [
    "def my_generat3rs(x):\n",
    "    for i in range(x):\n",
    "        yield i\n",
    "        \n",
    "fr3ak_n0 = my_generat3rs(3)\n",
    "fr3ak_n0"
   ]
  },
  {
   "cell_type": "code",
   "execution_count": 10,
   "metadata": {},
   "outputs": [
    {
     "data": {
      "text/plain": [
       "0"
      ]
     },
     "execution_count": 10,
     "metadata": {},
     "output_type": "execute_result"
    }
   ],
   "source": [
    "next(fr3ak_n0)"
   ]
  },
  {
   "cell_type": "code",
   "execution_count": 11,
   "metadata": {},
   "outputs": [
    {
     "data": {
      "text/plain": [
       "1"
      ]
     },
     "execution_count": 11,
     "metadata": {},
     "output_type": "execute_result"
    }
   ],
   "source": [
    "next(fr3ak_n0)"
   ]
  },
  {
   "cell_type": "code",
   "execution_count": 12,
   "metadata": {},
   "outputs": [
    {
     "data": {
      "text/plain": [
       "2"
      ]
     },
     "execution_count": 12,
     "metadata": {},
     "output_type": "execute_result"
    }
   ],
   "source": [
    "next(fr3ak_n0)"
   ]
  },
  {
   "cell_type": "code",
   "execution_count": 13,
   "metadata": {},
   "outputs": [
    {
     "ename": "StopIteration",
     "evalue": "",
     "output_type": "error",
     "traceback": [
      "\u001b[0;31m---------------------------------------------------------------------------\u001b[0m",
      "\u001b[0;31mStopIteration\u001b[0m                             Traceback (most recent call last)",
      "\u001b[0;32m<ipython-input-13-f374dcf2b355>\u001b[0m in \u001b[0;36m<module>\u001b[0;34m()\u001b[0m\n\u001b[0;32m----> 1\u001b[0;31m \u001b[0mnext\u001b[0m\u001b[0;34m(\u001b[0m\u001b[0mfr3ak_n0\u001b[0m\u001b[0;34m)\u001b[0m\u001b[0;34m\u001b[0m\u001b[0m\n\u001b[0m",
      "\u001b[0;31mStopIteration\u001b[0m: "
     ]
    }
   ],
   "source": [
    "next(fr3ak_n0)"
   ]
  },
  {
   "cell_type": "markdown",
   "metadata": {},
   "source": [
    "### 2.1. R.i.p. generator instance\n",
    "\n",
    "Parece que instância do gerador, ao terminar o ultimo elemento a ser gerado chegou ao fim de sua meia-vida. *Rest in peace, sweet prince*. Foi uma boa instância enquanto durou. :/"
   ]
  },
  {
   "cell_type": "code",
   "execution_count": 14,
   "metadata": {},
   "outputs": [
    {
     "data": {
      "text/plain": [
       "[0, 1, 2, 3, 4, 5, 6, 7, 8, 9, 10, 11, 12, 13]"
      ]
     },
     "execution_count": 14,
     "metadata": {},
     "output_type": "execute_result"
    }
   ],
   "source": [
    "bitchpls = list(my_generat3rs(14))\n",
    "bitchpls"
   ]
  },
  {
   "cell_type": "markdown",
   "metadata": {},
   "source": [
    "Observe como o que registra o estado atual do gerador é a sua instância, não seu objeto; a função geradora continua intacta.\n",
    "\n",
    "```\n",
    "instância = objeto_gerador()\n",
    "```"
   ]
  },
  {
   "cell_type": "markdown",
   "metadata": {},
   "source": [
    "## 3. Briga antiga: *processamento* vs *armazenamento em RAM*\n",
    "\n",
    "Portanto, *generators* são um **conceito** no qual os elementos, ao invés de serem armazenados, são gerados na hora, tendo **apenas o último estado e a função para gerar o próximo elemento estocados**.\n",
    "\n",
    "Uma forma ou outra devem ser utilizados de acordo com a necessidade de implementação e performance, e de acordo com as regras simples ditadas pelo bom senso."
   ]
  },
  {
   "cell_type": "markdown",
   "metadata": {},
   "source": [
    "## 4. A função next()\n",
    "\n",
    "O python3 possue a função next() que pega o próximo elemento do gerador. Vamos dar uma checada nela agora. "
   ]
  },
  {
   "cell_type": "code",
   "execution_count": 15,
   "metadata": {},
   "outputs": [
    {
     "data": {
      "text/plain": [
       "('Do', 'Re', 'Mi', 'Fa', 'Sol', 'La', 'Si')"
      ]
     },
     "execution_count": 15,
     "metadata": {},
     "output_type": "execute_result"
    }
   ],
   "source": [
    "from itertools import cycle\n",
    "\n",
    "uma_oitava = ('Do', 'Re', 'Mi', 'Fa', 'Sol', 'La', 'Si')\n",
    "uma_oitava"
   ]
  },
  {
   "cell_type": "code",
   "execution_count": 16,
   "metadata": {},
   "outputs": [
    {
     "data": {
      "text/plain": [
       "7"
      ]
     },
     "execution_count": 16,
     "metadata": {},
     "output_type": "execute_result"
    }
   ],
   "source": [
    "tamanho_de_uma_oitava = len(uma_oitava)\n",
    "tamanho_de_uma_oitava"
   ]
  },
  {
   "cell_type": "code",
   "execution_count": 17,
   "metadata": {},
   "outputs": [
    {
     "data": {
      "text/plain": [
       "14"
      ]
     },
     "execution_count": 17,
     "metadata": {},
     "output_type": "execute_result"
    }
   ],
   "source": [
    "tamanho_de_duas_oitavas = tamanho_de_uma_oitava * 2\n",
    "tamanho_de_duas_oitavas"
   ]
  },
  {
   "cell_type": "code",
   "execution_count": 18,
   "metadata": {},
   "outputs": [
    {
     "data": {
      "text/plain": [
       "<itertools.cycle at 0x7f9ee4291c18>"
      ]
     },
     "execution_count": 18,
     "metadata": {},
     "output_type": "execute_result"
    }
   ],
   "source": [
    "# itertools.cycle retorna um gerador que continua um iterável após o fim, indefinidamente; use com cuidado\n",
    "\n",
    "meu_gerador = cycle(uma_oitava)\n",
    "meu_gerador"
   ]
  },
  {
   "cell_type": "code",
   "execution_count": 19,
   "metadata": {},
   "outputs": [
    {
     "name": "stdout",
     "output_type": "stream",
     "text": [
      "Do, Re, Mi, Fa, Sol, La, Si, Do, Re, Mi, Fa, Sol, La, Si, Do\n"
     ]
    }
   ],
   "source": [
    "for i in range(tamanho_de_duas_oitavas):\n",
    "    nota = next(meu_gerador)\n",
    "    print(nota, end=', ')\n",
    "    \n",
    "print(next(meu_gerador))  # uma tonica final Do"
   ]
  },
  {
   "cell_type": "code",
   "execution_count": null,
   "metadata": {},
   "outputs": [],
   "source": []
  }
 ],
 "metadata": {
  "kernelspec": {
   "display_name": "Python 3",
   "language": "python",
   "name": "python3"
  },
  "language_info": {
   "codemirror_mode": {
    "name": "ipython",
    "version": 3
   },
   "file_extension": ".py",
   "mimetype": "text/x-python",
   "name": "python",
   "nbconvert_exporter": "python",
   "pygments_lexer": "ipython3",
   "version": "3.6.4"
  }
 },
 "nbformat": 4,
 "nbformat_minor": 2
}
