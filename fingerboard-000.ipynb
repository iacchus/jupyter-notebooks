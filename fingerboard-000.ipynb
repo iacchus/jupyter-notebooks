{
 "cells": [
  {
   "cell_type": "markdown",
   "metadata": {},
   "source": [
    "http://pythonhosted.org/svgwrite/"
   ]
  },
  {
   "cell_type": "code",
   "execution_count": 2,
   "metadata": {
    "collapsed": true,
    "run_control": {
     "frozen": false,
     "read_only": false
    }
   },
   "outputs": [],
   "source": [
    "from music21 import *\n",
    "\n",
    "import svgwrite as sw\n",
    "\n",
    "from IPython.display import display, HTML, Image"
   ]
  },
  {
   "cell_type": "code",
   "execution_count": 52,
   "metadata": {
    "collapsed": false,
    "run_control": {
     "frozen": false,
     "read_only": false
    }
   },
   "outputs": [
    {
     "data": {
      "text/html": [
       "<svg baseProfile=\"full\" font-family=\"Inconsolata, monospace\" font-weight=\"bold\" height=\"121.48148148148148\" version=\"1.1\" width=\"820\" xmlns=\"http://www.w3.org/2000/svg\" xmlns:ev=\"http://www.w3.org/2001/xml-events\" xmlns:xlink=\"http://www.w3.org/1999/xlink\"><defs /><g><rect fill=\"#fff\" height=\"30.37037037037037\" stroke=\"#666\" stroke-width=\"1\" width=\"45.55555555555556\" x=\"0.0\" y=\"0.0\" /><circle cx=\"22.77777777777778\" cy=\"15.185185185185185\" fill=\"#fff\" r=\"12.148148148148149\" stroke=\"#666\" stroke-width=\"1\" /><text alignment-baseline=\"middle\" font-family=\"&quot;Inconsolata&quot;, monospace\" text-anchor=\"middle\" x=\"22.77777777777778\" y=\"15.185185185185185\">E</text></g><g><rect fill=\"#fff\" height=\"30.37037037037037\" stroke=\"#666\" stroke-width=\"1\" width=\"45.55555555555556\" x=\"45.55555555555556\" y=\"0.0\" /><circle cx=\"68.33333333333334\" cy=\"15.185185185185185\" fill=\"#fff\" r=\"12.148148148148149\" stroke=\"#666\" stroke-width=\"1\" /><text alignment-baseline=\"middle\" font-family=\"&quot;Inconsolata&quot;, monospace\" text-anchor=\"middle\" x=\"68.33333333333334\" y=\"15.185185185185185\">F</text></g><g><rect fill=\"#fff\" height=\"30.37037037037037\" stroke=\"#666\" stroke-width=\"1\" width=\"45.55555555555556\" x=\"91.11111111111111\" y=\"0.0\" /><circle cx=\"113.88888888888889\" cy=\"15.185185185185185\" fill=\"#fff\" r=\"12.148148148148149\" stroke=\"#666\" stroke-width=\"1\" /><text alignment-baseline=\"middle\" font-family=\"&quot;Inconsolata&quot;, monospace\" text-anchor=\"middle\" x=\"113.88888888888889\" y=\"15.185185185185185\">F♯</text></g><g><rect fill=\"#fff\" height=\"30.37037037037037\" stroke=\"#666\" stroke-width=\"1\" width=\"45.55555555555556\" x=\"136.66666666666669\" y=\"0.0\" /><circle cx=\"159.44444444444446\" cy=\"15.185185185185185\" fill=\"#fff\" r=\"12.148148148148149\" stroke=\"#666\" stroke-width=\"1\" /><text alignment-baseline=\"middle\" font-family=\"&quot;Inconsolata&quot;, monospace\" text-anchor=\"middle\" x=\"159.44444444444446\" y=\"15.185185185185185\">G</text></g><g><rect fill=\"#fff\" height=\"30.37037037037037\" stroke=\"#666\" stroke-width=\"1\" width=\"45.55555555555556\" x=\"182.22222222222223\" y=\"0.0\" /><circle cx=\"205.0\" cy=\"15.185185185185185\" fill=\"#fff\" r=\"12.148148148148149\" stroke=\"#666\" stroke-width=\"1\" /><text alignment-baseline=\"middle\" font-family=\"&quot;Inconsolata&quot;, monospace\" text-anchor=\"middle\" x=\"205.0\" y=\"15.185185185185185\">A♭</text></g><g><rect fill=\"#fff\" height=\"30.37037037037037\" stroke=\"#666\" stroke-width=\"1\" width=\"45.55555555555556\" x=\"227.77777777777777\" y=\"0.0\" /><circle cx=\"250.55555555555554\" cy=\"15.185185185185185\" fill=\"#fff\" r=\"12.148148148148149\" stroke=\"#666\" stroke-width=\"1\" /><text alignment-baseline=\"middle\" font-family=\"&quot;Inconsolata&quot;, monospace\" text-anchor=\"middle\" x=\"250.55555555555554\" y=\"15.185185185185185\">A</text></g><g><rect fill=\"#fff\" height=\"30.37037037037037\" stroke=\"#666\" stroke-width=\"1\" width=\"45.55555555555556\" x=\"273.33333333333337\" y=\"0.0\" /><circle cx=\"296.11111111111114\" cy=\"15.185185185185185\" fill=\"#fff\" r=\"12.148148148148149\" stroke=\"#666\" stroke-width=\"1\" /><text alignment-baseline=\"middle\" font-family=\"&quot;Inconsolata&quot;, monospace\" text-anchor=\"middle\" x=\"296.11111111111114\" y=\"15.185185185185185\">B♭</text></g><g><rect fill=\"#fff\" height=\"30.37037037037037\" stroke=\"#666\" stroke-width=\"1\" width=\"45.55555555555556\" x=\"318.8888888888889\" y=\"0.0\" /><circle cx=\"341.6666666666667\" cy=\"15.185185185185185\" fill=\"#fff\" r=\"12.148148148148149\" stroke=\"#666\" stroke-width=\"1\" /><text alignment-baseline=\"middle\" font-family=\"&quot;Inconsolata&quot;, monospace\" text-anchor=\"middle\" x=\"341.6666666666667\" y=\"15.185185185185185\">B</text></g><g><rect fill=\"#fff\" height=\"30.37037037037037\" stroke=\"#666\" stroke-width=\"1\" width=\"45.55555555555556\" x=\"364.44444444444446\" y=\"0.0\" /><circle cx=\"387.22222222222223\" cy=\"15.185185185185185\" fill=\"#fff\" r=\"12.148148148148149\" stroke=\"#666\" stroke-width=\"1\" /><text alignment-baseline=\"middle\" font-family=\"&quot;Inconsolata&quot;, monospace\" text-anchor=\"middle\" x=\"387.22222222222223\" y=\"15.185185185185185\">C</text></g><g><rect fill=\"#fff\" height=\"30.37037037037037\" stroke=\"#666\" stroke-width=\"1\" width=\"45.55555555555556\" x=\"410.0\" y=\"0.0\" /><circle cx=\"432.77777777777777\" cy=\"15.185185185185185\" fill=\"#fff\" r=\"12.148148148148149\" stroke=\"#666\" stroke-width=\"1\" /><text alignment-baseline=\"middle\" font-family=\"&quot;Inconsolata&quot;, monospace\" text-anchor=\"middle\" x=\"432.77777777777777\" y=\"15.185185185185185\">C♯</text></g><g><rect fill=\"#fff\" height=\"30.37037037037037\" stroke=\"#666\" stroke-width=\"1\" width=\"45.55555555555556\" x=\"455.55555555555554\" y=\"0.0\" /><circle cx=\"478.3333333333333\" cy=\"15.185185185185185\" fill=\"#fff\" r=\"12.148148148148149\" stroke=\"#666\" stroke-width=\"1\" /><text alignment-baseline=\"middle\" font-family=\"&quot;Inconsolata&quot;, monospace\" text-anchor=\"middle\" x=\"478.3333333333333\" y=\"15.185185185185185\">D</text></g><g><rect fill=\"#fff\" height=\"30.37037037037037\" stroke=\"#666\" stroke-width=\"1\" width=\"45.55555555555556\" x=\"501.11111111111114\" y=\"0.0\" /><circle cx=\"523.8888888888889\" cy=\"15.185185185185185\" fill=\"#fff\" r=\"12.148148148148149\" stroke=\"#666\" stroke-width=\"1\" /><text alignment-baseline=\"middle\" font-family=\"&quot;Inconsolata&quot;, monospace\" text-anchor=\"middle\" x=\"523.8888888888889\" y=\"15.185185185185185\">E♭</text></g><g><rect fill=\"#fff\" height=\"30.37037037037037\" stroke=\"#666\" stroke-width=\"1\" width=\"45.55555555555556\" x=\"546.6666666666667\" y=\"0.0\" /><circle cx=\"569.4444444444446\" cy=\"15.185185185185185\" fill=\"#fff\" r=\"12.148148148148149\" stroke=\"#666\" stroke-width=\"1\" /><text alignment-baseline=\"middle\" font-family=\"&quot;Inconsolata&quot;, monospace\" text-anchor=\"middle\" x=\"569.4444444444446\" y=\"15.185185185185185\">E</text></g><g><rect fill=\"#fff\" height=\"30.37037037037037\" stroke=\"#666\" stroke-width=\"1\" width=\"45.55555555555556\" x=\"592.2222222222223\" y=\"0.0\" /><circle cx=\"615.0000000000001\" cy=\"15.185185185185185\" fill=\"#fff\" r=\"12.148148148148149\" stroke=\"#666\" stroke-width=\"1\" /><text alignment-baseline=\"middle\" font-family=\"&quot;Inconsolata&quot;, monospace\" text-anchor=\"middle\" x=\"615.0000000000001\" y=\"15.185185185185185\">F</text></g><g><rect fill=\"#fff\" height=\"30.37037037037037\" stroke=\"#666\" stroke-width=\"1\" width=\"45.55555555555556\" x=\"637.7777777777778\" y=\"0.0\" /><circle cx=\"660.5555555555557\" cy=\"15.185185185185185\" fill=\"#fff\" r=\"12.148148148148149\" stroke=\"#666\" stroke-width=\"1\" /><text alignment-baseline=\"middle\" font-family=\"&quot;Inconsolata&quot;, monospace\" text-anchor=\"middle\" x=\"660.5555555555557\" y=\"15.185185185185185\">F♯</text></g><g><rect fill=\"#fff\" height=\"30.37037037037037\" stroke=\"#666\" stroke-width=\"1\" width=\"45.55555555555556\" x=\"683.3333333333334\" y=\"0.0\" /><circle cx=\"706.1111111111112\" cy=\"15.185185185185185\" fill=\"#fff\" r=\"12.148148148148149\" stroke=\"#666\" stroke-width=\"1\" /><text alignment-baseline=\"middle\" font-family=\"&quot;Inconsolata&quot;, monospace\" text-anchor=\"middle\" x=\"706.1111111111112\" y=\"15.185185185185185\">G</text></g><g><rect fill=\"#fff\" height=\"30.37037037037037\" stroke=\"#666\" stroke-width=\"1\" width=\"45.55555555555556\" x=\"728.8888888888889\" y=\"0.0\" /><circle cx=\"751.6666666666667\" cy=\"15.185185185185185\" fill=\"#fff\" r=\"12.148148148148149\" stroke=\"#666\" stroke-width=\"1\" /><text alignment-baseline=\"middle\" font-family=\"&quot;Inconsolata&quot;, monospace\" text-anchor=\"middle\" x=\"751.6666666666667\" y=\"15.185185185185185\">A♭</text></g><g><rect fill=\"#fff\" height=\"30.37037037037037\" stroke=\"#666\" stroke-width=\"1\" width=\"45.55555555555556\" x=\"774.4444444444445\" y=\"0.0\" /><circle cx=\"797.2222222222223\" cy=\"15.185185185185185\" fill=\"#fff\" r=\"12.148148148148149\" stroke=\"#666\" stroke-width=\"1\" /><text alignment-baseline=\"middle\" font-family=\"&quot;Inconsolata&quot;, monospace\" text-anchor=\"middle\" x=\"797.2222222222223\" y=\"15.185185185185185\">A</text></g><g><rect fill=\"#fff\" height=\"30.37037037037037\" stroke=\"#666\" stroke-width=\"1\" width=\"45.55555555555556\" x=\"0.0\" y=\"30.37037037037037\" /><circle cx=\"22.77777777777778\" cy=\"45.55555555555556\" fill=\"#fff\" r=\"12.148148148148149\" stroke=\"#666\" stroke-width=\"1\" /><text alignment-baseline=\"middle\" font-family=\"&quot;Inconsolata&quot;, monospace\" text-anchor=\"middle\" x=\"22.77777777777778\" y=\"45.55555555555556\">A</text></g><g><rect fill=\"#fff\" height=\"30.37037037037037\" stroke=\"#666\" stroke-width=\"1\" width=\"45.55555555555556\" x=\"45.55555555555556\" y=\"30.37037037037037\" /><circle cx=\"68.33333333333334\" cy=\"45.55555555555556\" fill=\"#fff\" r=\"12.148148148148149\" stroke=\"#666\" stroke-width=\"1\" /><text alignment-baseline=\"middle\" font-family=\"&quot;Inconsolata&quot;, monospace\" text-anchor=\"middle\" x=\"68.33333333333334\" y=\"45.55555555555556\">B♭</text></g><g><rect fill=\"#fff\" height=\"30.37037037037037\" stroke=\"#666\" stroke-width=\"1\" width=\"45.55555555555556\" x=\"91.11111111111111\" y=\"30.37037037037037\" /><circle cx=\"113.88888888888889\" cy=\"45.55555555555556\" fill=\"#fff\" r=\"12.148148148148149\" stroke=\"#666\" stroke-width=\"1\" /><text alignment-baseline=\"middle\" font-family=\"&quot;Inconsolata&quot;, monospace\" text-anchor=\"middle\" x=\"113.88888888888889\" y=\"45.55555555555556\">B</text></g><g><rect fill=\"#fff\" height=\"30.37037037037037\" stroke=\"#666\" stroke-width=\"1\" width=\"45.55555555555556\" x=\"136.66666666666669\" y=\"30.37037037037037\" /><circle cx=\"159.44444444444446\" cy=\"45.55555555555556\" fill=\"#fff\" r=\"12.148148148148149\" stroke=\"#666\" stroke-width=\"1\" /><text alignment-baseline=\"middle\" font-family=\"&quot;Inconsolata&quot;, monospace\" text-anchor=\"middle\" x=\"159.44444444444446\" y=\"45.55555555555556\">C</text></g><g><rect fill=\"#fff\" height=\"30.37037037037037\" stroke=\"#666\" stroke-width=\"1\" width=\"45.55555555555556\" x=\"182.22222222222223\" y=\"30.37037037037037\" /><circle cx=\"205.0\" cy=\"45.55555555555556\" fill=\"#fff\" r=\"12.148148148148149\" stroke=\"#666\" stroke-width=\"1\" /><text alignment-baseline=\"middle\" font-family=\"&quot;Inconsolata&quot;, monospace\" text-anchor=\"middle\" x=\"205.0\" y=\"45.55555555555556\">C♯</text></g><g><rect fill=\"#fff\" height=\"30.37037037037037\" stroke=\"#666\" stroke-width=\"1\" width=\"45.55555555555556\" x=\"227.77777777777777\" y=\"30.37037037037037\" /><circle cx=\"250.55555555555554\" cy=\"45.55555555555556\" fill=\"#fff\" r=\"12.148148148148149\" stroke=\"#666\" stroke-width=\"1\" /><text alignment-baseline=\"middle\" font-family=\"&quot;Inconsolata&quot;, monospace\" text-anchor=\"middle\" x=\"250.55555555555554\" y=\"45.55555555555556\">D</text></g><g><rect fill=\"#fff\" height=\"30.37037037037037\" stroke=\"#666\" stroke-width=\"1\" width=\"45.55555555555556\" x=\"273.33333333333337\" y=\"30.37037037037037\" /><circle cx=\"296.11111111111114\" cy=\"45.55555555555556\" fill=\"#fff\" r=\"12.148148148148149\" stroke=\"#666\" stroke-width=\"1\" /><text alignment-baseline=\"middle\" font-family=\"&quot;Inconsolata&quot;, monospace\" text-anchor=\"middle\" x=\"296.11111111111114\" y=\"45.55555555555556\">E♭</text></g><g><rect fill=\"#fff\" height=\"30.37037037037037\" stroke=\"#666\" stroke-width=\"1\" width=\"45.55555555555556\" x=\"318.8888888888889\" y=\"30.37037037037037\" /><circle cx=\"341.6666666666667\" cy=\"45.55555555555556\" fill=\"#fff\" r=\"12.148148148148149\" stroke=\"#666\" stroke-width=\"1\" /><text alignment-baseline=\"middle\" font-family=\"&quot;Inconsolata&quot;, monospace\" text-anchor=\"middle\" x=\"341.6666666666667\" y=\"45.55555555555556\">E</text></g><g><rect fill=\"#fff\" height=\"30.37037037037037\" stroke=\"#666\" stroke-width=\"1\" width=\"45.55555555555556\" x=\"364.44444444444446\" y=\"30.37037037037037\" /><circle cx=\"387.22222222222223\" cy=\"45.55555555555556\" fill=\"#fff\" r=\"12.148148148148149\" stroke=\"#666\" stroke-width=\"1\" /><text alignment-baseline=\"middle\" font-family=\"&quot;Inconsolata&quot;, monospace\" text-anchor=\"middle\" x=\"387.22222222222223\" y=\"45.55555555555556\">F</text></g><g><rect fill=\"#fff\" height=\"30.37037037037037\" stroke=\"#666\" stroke-width=\"1\" width=\"45.55555555555556\" x=\"410.0\" y=\"30.37037037037037\" /><circle cx=\"432.77777777777777\" cy=\"45.55555555555556\" fill=\"#fff\" r=\"12.148148148148149\" stroke=\"#666\" stroke-width=\"1\" /><text alignment-baseline=\"middle\" font-family=\"&quot;Inconsolata&quot;, monospace\" text-anchor=\"middle\" x=\"432.77777777777777\" y=\"45.55555555555556\">F♯</text></g><g><rect fill=\"#fff\" height=\"30.37037037037037\" stroke=\"#666\" stroke-width=\"1\" width=\"45.55555555555556\" x=\"455.55555555555554\" y=\"30.37037037037037\" /><circle cx=\"478.3333333333333\" cy=\"45.55555555555556\" fill=\"#fff\" r=\"12.148148148148149\" stroke=\"#666\" stroke-width=\"1\" /><text alignment-baseline=\"middle\" font-family=\"&quot;Inconsolata&quot;, monospace\" text-anchor=\"middle\" x=\"478.3333333333333\" y=\"45.55555555555556\">G</text></g><g><rect fill=\"#fff\" height=\"30.37037037037037\" stroke=\"#666\" stroke-width=\"1\" width=\"45.55555555555556\" x=\"501.11111111111114\" y=\"30.37037037037037\" /><circle cx=\"523.8888888888889\" cy=\"45.55555555555556\" fill=\"#fff\" r=\"12.148148148148149\" stroke=\"#666\" stroke-width=\"1\" /><text alignment-baseline=\"middle\" font-family=\"&quot;Inconsolata&quot;, monospace\" text-anchor=\"middle\" x=\"523.8888888888889\" y=\"45.55555555555556\">A♭</text></g><g><rect fill=\"#fff\" height=\"30.37037037037037\" stroke=\"#666\" stroke-width=\"1\" width=\"45.55555555555556\" x=\"546.6666666666667\" y=\"30.37037037037037\" /><circle cx=\"569.4444444444446\" cy=\"45.55555555555556\" fill=\"#fff\" r=\"12.148148148148149\" stroke=\"#666\" stroke-width=\"1\" /><text alignment-baseline=\"middle\" font-family=\"&quot;Inconsolata&quot;, monospace\" text-anchor=\"middle\" x=\"569.4444444444446\" y=\"45.55555555555556\">A</text></g><g><rect fill=\"#fff\" height=\"30.37037037037037\" stroke=\"#666\" stroke-width=\"1\" width=\"45.55555555555556\" x=\"592.2222222222223\" y=\"30.37037037037037\" /><circle cx=\"615.0000000000001\" cy=\"45.55555555555556\" fill=\"#fff\" r=\"12.148148148148149\" stroke=\"#666\" stroke-width=\"1\" /><text alignment-baseline=\"middle\" font-family=\"&quot;Inconsolata&quot;, monospace\" text-anchor=\"middle\" x=\"615.0000000000001\" y=\"45.55555555555556\">B♭</text></g><g><rect fill=\"#fff\" height=\"30.37037037037037\" stroke=\"#666\" stroke-width=\"1\" width=\"45.55555555555556\" x=\"637.7777777777778\" y=\"30.37037037037037\" /><circle cx=\"660.5555555555557\" cy=\"45.55555555555556\" fill=\"#fff\" r=\"12.148148148148149\" stroke=\"#666\" stroke-width=\"1\" /><text alignment-baseline=\"middle\" font-family=\"&quot;Inconsolata&quot;, monospace\" text-anchor=\"middle\" x=\"660.5555555555557\" y=\"45.55555555555556\">B</text></g><g><rect fill=\"#fff\" height=\"30.37037037037037\" stroke=\"#666\" stroke-width=\"1\" width=\"45.55555555555556\" x=\"683.3333333333334\" y=\"30.37037037037037\" /><circle cx=\"706.1111111111112\" cy=\"45.55555555555556\" fill=\"#fff\" r=\"12.148148148148149\" stroke=\"#666\" stroke-width=\"1\" /><text alignment-baseline=\"middle\" font-family=\"&quot;Inconsolata&quot;, monospace\" text-anchor=\"middle\" x=\"706.1111111111112\" y=\"45.55555555555556\">C</text></g><g><rect fill=\"#fff\" height=\"30.37037037037037\" stroke=\"#666\" stroke-width=\"1\" width=\"45.55555555555556\" x=\"728.8888888888889\" y=\"30.37037037037037\" /><circle cx=\"751.6666666666667\" cy=\"45.55555555555556\" fill=\"#fff\" r=\"12.148148148148149\" stroke=\"#666\" stroke-width=\"1\" /><text alignment-baseline=\"middle\" font-family=\"&quot;Inconsolata&quot;, monospace\" text-anchor=\"middle\" x=\"751.6666666666667\" y=\"45.55555555555556\">C♯</text></g><g><rect fill=\"#fff\" height=\"30.37037037037037\" stroke=\"#666\" stroke-width=\"1\" width=\"45.55555555555556\" x=\"774.4444444444445\" y=\"30.37037037037037\" /><circle cx=\"797.2222222222223\" cy=\"45.55555555555556\" fill=\"#fff\" r=\"12.148148148148149\" stroke=\"#666\" stroke-width=\"1\" /><text alignment-baseline=\"middle\" font-family=\"&quot;Inconsolata&quot;, monospace\" text-anchor=\"middle\" x=\"797.2222222222223\" y=\"45.55555555555556\">D</text></g><g><rect fill=\"#fff\" height=\"30.37037037037037\" stroke=\"#666\" stroke-width=\"1\" width=\"45.55555555555556\" x=\"0.0\" y=\"60.74074074074074\" /><circle cx=\"22.77777777777778\" cy=\"75.92592592592592\" fill=\"#fff\" r=\"12.148148148148149\" stroke=\"#666\" stroke-width=\"1\" /><text alignment-baseline=\"middle\" font-family=\"&quot;Inconsolata&quot;, monospace\" text-anchor=\"middle\" x=\"22.77777777777778\" y=\"75.92592592592592\">D</text></g><g><rect fill=\"#fff\" height=\"30.37037037037037\" stroke=\"#666\" stroke-width=\"1\" width=\"45.55555555555556\" x=\"45.55555555555556\" y=\"60.74074074074074\" /><circle cx=\"68.33333333333334\" cy=\"75.92592592592592\" fill=\"#fff\" r=\"12.148148148148149\" stroke=\"#666\" stroke-width=\"1\" /><text alignment-baseline=\"middle\" font-family=\"&quot;Inconsolata&quot;, monospace\" text-anchor=\"middle\" x=\"68.33333333333334\" y=\"75.92592592592592\">E♭</text></g><g><rect fill=\"#fff\" height=\"30.37037037037037\" stroke=\"#666\" stroke-width=\"1\" width=\"45.55555555555556\" x=\"91.11111111111111\" y=\"60.74074074074074\" /><circle cx=\"113.88888888888889\" cy=\"75.92592592592592\" fill=\"#fff\" r=\"12.148148148148149\" stroke=\"#666\" stroke-width=\"1\" /><text alignment-baseline=\"middle\" font-family=\"&quot;Inconsolata&quot;, monospace\" text-anchor=\"middle\" x=\"113.88888888888889\" y=\"75.92592592592592\">E</text></g><g><rect fill=\"#fff\" height=\"30.37037037037037\" stroke=\"#666\" stroke-width=\"1\" width=\"45.55555555555556\" x=\"136.66666666666669\" y=\"60.74074074074074\" /><circle cx=\"159.44444444444446\" cy=\"75.92592592592592\" fill=\"#fff\" r=\"12.148148148148149\" stroke=\"#666\" stroke-width=\"1\" /><text alignment-baseline=\"middle\" font-family=\"&quot;Inconsolata&quot;, monospace\" text-anchor=\"middle\" x=\"159.44444444444446\" y=\"75.92592592592592\">F</text></g><g><rect fill=\"#fff\" height=\"30.37037037037037\" stroke=\"#666\" stroke-width=\"1\" width=\"45.55555555555556\" x=\"182.22222222222223\" y=\"60.74074074074074\" /><circle cx=\"205.0\" cy=\"75.92592592592592\" fill=\"#fff\" r=\"12.148148148148149\" stroke=\"#666\" stroke-width=\"1\" /><text alignment-baseline=\"middle\" font-family=\"&quot;Inconsolata&quot;, monospace\" text-anchor=\"middle\" x=\"205.0\" y=\"75.92592592592592\">F♯</text></g><g><rect fill=\"#fff\" height=\"30.37037037037037\" stroke=\"#666\" stroke-width=\"1\" width=\"45.55555555555556\" x=\"227.77777777777777\" y=\"60.74074074074074\" /><circle cx=\"250.55555555555554\" cy=\"75.92592592592592\" fill=\"#fff\" r=\"12.148148148148149\" stroke=\"#666\" stroke-width=\"1\" /><text alignment-baseline=\"middle\" font-family=\"&quot;Inconsolata&quot;, monospace\" text-anchor=\"middle\" x=\"250.55555555555554\" y=\"75.92592592592592\">G</text></g><g><rect fill=\"#fff\" height=\"30.37037037037037\" stroke=\"#666\" stroke-width=\"1\" width=\"45.55555555555556\" x=\"273.33333333333337\" y=\"60.74074074074074\" /><circle cx=\"296.11111111111114\" cy=\"75.92592592592592\" fill=\"#fff\" r=\"12.148148148148149\" stroke=\"#666\" stroke-width=\"1\" /><text alignment-baseline=\"middle\" font-family=\"&quot;Inconsolata&quot;, monospace\" text-anchor=\"middle\" x=\"296.11111111111114\" y=\"75.92592592592592\">G♯</text></g><g><rect fill=\"#fff\" height=\"30.37037037037037\" stroke=\"#666\" stroke-width=\"1\" width=\"45.55555555555556\" x=\"318.8888888888889\" y=\"60.74074074074074\" /><circle cx=\"341.6666666666667\" cy=\"75.92592592592592\" fill=\"#fff\" r=\"12.148148148148149\" stroke=\"#666\" stroke-width=\"1\" /><text alignment-baseline=\"middle\" font-family=\"&quot;Inconsolata&quot;, monospace\" text-anchor=\"middle\" x=\"341.6666666666667\" y=\"75.92592592592592\">A</text></g><g><rect fill=\"#fff\" height=\"30.37037037037037\" stroke=\"#666\" stroke-width=\"1\" width=\"45.55555555555556\" x=\"364.44444444444446\" y=\"60.74074074074074\" /><circle cx=\"387.22222222222223\" cy=\"75.92592592592592\" fill=\"#fff\" r=\"12.148148148148149\" stroke=\"#666\" stroke-width=\"1\" /><text alignment-baseline=\"middle\" font-family=\"&quot;Inconsolata&quot;, monospace\" text-anchor=\"middle\" x=\"387.22222222222223\" y=\"75.92592592592592\">B♭</text></g><g><rect fill=\"#fff\" height=\"30.37037037037037\" stroke=\"#666\" stroke-width=\"1\" width=\"45.55555555555556\" x=\"410.0\" y=\"60.74074074074074\" /><circle cx=\"432.77777777777777\" cy=\"75.92592592592592\" fill=\"#fff\" r=\"12.148148148148149\" stroke=\"#666\" stroke-width=\"1\" /><text alignment-baseline=\"middle\" font-family=\"&quot;Inconsolata&quot;, monospace\" text-anchor=\"middle\" x=\"432.77777777777777\" y=\"75.92592592592592\">B</text></g><g><rect fill=\"#fff\" height=\"30.37037037037037\" stroke=\"#666\" stroke-width=\"1\" width=\"45.55555555555556\" x=\"455.55555555555554\" y=\"60.74074074074074\" /><circle cx=\"478.3333333333333\" cy=\"75.92592592592592\" fill=\"#fff\" r=\"12.148148148148149\" stroke=\"#666\" stroke-width=\"1\" /><text alignment-baseline=\"middle\" font-family=\"&quot;Inconsolata&quot;, monospace\" text-anchor=\"middle\" x=\"478.3333333333333\" y=\"75.92592592592592\">C</text></g><g><rect fill=\"#fff\" height=\"30.37037037037037\" stroke=\"#666\" stroke-width=\"1\" width=\"45.55555555555556\" x=\"501.11111111111114\" y=\"60.74074074074074\" /><circle cx=\"523.8888888888889\" cy=\"75.92592592592592\" fill=\"#fff\" r=\"12.148148148148149\" stroke=\"#666\" stroke-width=\"1\" /><text alignment-baseline=\"middle\" font-family=\"&quot;Inconsolata&quot;, monospace\" text-anchor=\"middle\" x=\"523.8888888888889\" y=\"75.92592592592592\">C♯</text></g><g><rect fill=\"#fff\" height=\"30.37037037037037\" stroke=\"#666\" stroke-width=\"1\" width=\"45.55555555555556\" x=\"546.6666666666667\" y=\"60.74074074074074\" /><circle cx=\"569.4444444444446\" cy=\"75.92592592592592\" fill=\"#fff\" r=\"12.148148148148149\" stroke=\"#666\" stroke-width=\"1\" /><text alignment-baseline=\"middle\" font-family=\"&quot;Inconsolata&quot;, monospace\" text-anchor=\"middle\" x=\"569.4444444444446\" y=\"75.92592592592592\">D</text></g><g><rect fill=\"#fff\" height=\"30.37037037037037\" stroke=\"#666\" stroke-width=\"1\" width=\"45.55555555555556\" x=\"592.2222222222223\" y=\"60.74074074074074\" /><circle cx=\"615.0000000000001\" cy=\"75.92592592592592\" fill=\"#fff\" r=\"12.148148148148149\" stroke=\"#666\" stroke-width=\"1\" /><text alignment-baseline=\"middle\" font-family=\"&quot;Inconsolata&quot;, monospace\" text-anchor=\"middle\" x=\"615.0000000000001\" y=\"75.92592592592592\">E♭</text></g><g><rect fill=\"#fff\" height=\"30.37037037037037\" stroke=\"#666\" stroke-width=\"1\" width=\"45.55555555555556\" x=\"637.7777777777778\" y=\"60.74074074074074\" /><circle cx=\"660.5555555555557\" cy=\"75.92592592592592\" fill=\"#fff\" r=\"12.148148148148149\" stroke=\"#666\" stroke-width=\"1\" /><text alignment-baseline=\"middle\" font-family=\"&quot;Inconsolata&quot;, monospace\" text-anchor=\"middle\" x=\"660.5555555555557\" y=\"75.92592592592592\">E</text></g><g><rect fill=\"#fff\" height=\"30.37037037037037\" stroke=\"#666\" stroke-width=\"1\" width=\"45.55555555555556\" x=\"683.3333333333334\" y=\"60.74074074074074\" /><circle cx=\"706.1111111111112\" cy=\"75.92592592592592\" fill=\"#fff\" r=\"12.148148148148149\" stroke=\"#666\" stroke-width=\"1\" /><text alignment-baseline=\"middle\" font-family=\"&quot;Inconsolata&quot;, monospace\" text-anchor=\"middle\" x=\"706.1111111111112\" y=\"75.92592592592592\">F</text></g><g><rect fill=\"#fff\" height=\"30.37037037037037\" stroke=\"#666\" stroke-width=\"1\" width=\"45.55555555555556\" x=\"728.8888888888889\" y=\"60.74074074074074\" /><circle cx=\"751.6666666666667\" cy=\"75.92592592592592\" fill=\"#fff\" r=\"12.148148148148149\" stroke=\"#666\" stroke-width=\"1\" /><text alignment-baseline=\"middle\" font-family=\"&quot;Inconsolata&quot;, monospace\" text-anchor=\"middle\" x=\"751.6666666666667\" y=\"75.92592592592592\">F♯</text></g><g><rect fill=\"#fff\" height=\"30.37037037037037\" stroke=\"#666\" stroke-width=\"1\" width=\"45.55555555555556\" x=\"774.4444444444445\" y=\"60.74074074074074\" /><circle cx=\"797.2222222222223\" cy=\"75.92592592592592\" fill=\"#fff\" r=\"12.148148148148149\" stroke=\"#666\" stroke-width=\"1\" /><text alignment-baseline=\"middle\" font-family=\"&quot;Inconsolata&quot;, monospace\" text-anchor=\"middle\" x=\"797.2222222222223\" y=\"75.92592592592592\">G</text></g><g><rect fill=\"#fff\" height=\"30.37037037037037\" stroke=\"#666\" stroke-width=\"1\" width=\"45.55555555555556\" x=\"0.0\" y=\"91.11111111111111\" /><circle cx=\"22.77777777777778\" cy=\"106.2962962962963\" fill=\"#fff\" r=\"12.148148148148149\" stroke=\"#666\" stroke-width=\"1\" /><text alignment-baseline=\"middle\" font-family=\"&quot;Inconsolata&quot;, monospace\" text-anchor=\"middle\" x=\"22.77777777777778\" y=\"106.2962962962963\">G</text></g><g><rect fill=\"#fff\" height=\"30.37037037037037\" stroke=\"#666\" stroke-width=\"1\" width=\"45.55555555555556\" x=\"45.55555555555556\" y=\"91.11111111111111\" /><circle cx=\"68.33333333333334\" cy=\"106.2962962962963\" fill=\"#fff\" r=\"12.148148148148149\" stroke=\"#666\" stroke-width=\"1\" /><text alignment-baseline=\"middle\" font-family=\"&quot;Inconsolata&quot;, monospace\" text-anchor=\"middle\" x=\"68.33333333333334\" y=\"106.2962962962963\">G♯</text></g><g><rect fill=\"#fff\" height=\"30.37037037037037\" stroke=\"#666\" stroke-width=\"1\" width=\"45.55555555555556\" x=\"91.11111111111111\" y=\"91.11111111111111\" /><circle cx=\"113.88888888888889\" cy=\"106.2962962962963\" fill=\"#fff\" r=\"12.148148148148149\" stroke=\"#666\" stroke-width=\"1\" /><text alignment-baseline=\"middle\" font-family=\"&quot;Inconsolata&quot;, monospace\" text-anchor=\"middle\" x=\"113.88888888888889\" y=\"106.2962962962963\">A</text></g><g><rect fill=\"#fff\" height=\"30.37037037037037\" stroke=\"#666\" stroke-width=\"1\" width=\"45.55555555555556\" x=\"136.66666666666669\" y=\"91.11111111111111\" /><circle cx=\"159.44444444444446\" cy=\"106.2962962962963\" fill=\"#fff\" r=\"12.148148148148149\" stroke=\"#666\" stroke-width=\"1\" /><text alignment-baseline=\"middle\" font-family=\"&quot;Inconsolata&quot;, monospace\" text-anchor=\"middle\" x=\"159.44444444444446\" y=\"106.2962962962963\">B♭</text></g><g><rect fill=\"#fff\" height=\"30.37037037037037\" stroke=\"#666\" stroke-width=\"1\" width=\"45.55555555555556\" x=\"182.22222222222223\" y=\"91.11111111111111\" /><circle cx=\"205.0\" cy=\"106.2962962962963\" fill=\"#fff\" r=\"12.148148148148149\" stroke=\"#666\" stroke-width=\"1\" /><text alignment-baseline=\"middle\" font-family=\"&quot;Inconsolata&quot;, monospace\" text-anchor=\"middle\" x=\"205.0\" y=\"106.2962962962963\">B</text></g><g><rect fill=\"#fff\" height=\"30.37037037037037\" stroke=\"#666\" stroke-width=\"1\" width=\"45.55555555555556\" x=\"227.77777777777777\" y=\"91.11111111111111\" /><circle cx=\"250.55555555555554\" cy=\"106.2962962962963\" fill=\"#fff\" r=\"12.148148148148149\" stroke=\"#666\" stroke-width=\"1\" /><text alignment-baseline=\"middle\" font-family=\"&quot;Inconsolata&quot;, monospace\" text-anchor=\"middle\" x=\"250.55555555555554\" y=\"106.2962962962963\">C</text></g><g><rect fill=\"#fff\" height=\"30.37037037037037\" stroke=\"#666\" stroke-width=\"1\" width=\"45.55555555555556\" x=\"273.33333333333337\" y=\"91.11111111111111\" /><circle cx=\"296.11111111111114\" cy=\"106.2962962962963\" fill=\"#fff\" r=\"12.148148148148149\" stroke=\"#666\" stroke-width=\"1\" /><text alignment-baseline=\"middle\" font-family=\"&quot;Inconsolata&quot;, monospace\" text-anchor=\"middle\" x=\"296.11111111111114\" y=\"106.2962962962963\">C♯</text></g><g><rect fill=\"#fff\" height=\"30.37037037037037\" stroke=\"#666\" stroke-width=\"1\" width=\"45.55555555555556\" x=\"318.8888888888889\" y=\"91.11111111111111\" /><circle cx=\"341.6666666666667\" cy=\"106.2962962962963\" fill=\"#fff\" r=\"12.148148148148149\" stroke=\"#666\" stroke-width=\"1\" /><text alignment-baseline=\"middle\" font-family=\"&quot;Inconsolata&quot;, monospace\" text-anchor=\"middle\" x=\"341.6666666666667\" y=\"106.2962962962963\">D</text></g><g><rect fill=\"#fff\" height=\"30.37037037037037\" stroke=\"#666\" stroke-width=\"1\" width=\"45.55555555555556\" x=\"364.44444444444446\" y=\"91.11111111111111\" /><circle cx=\"387.22222222222223\" cy=\"106.2962962962963\" fill=\"#fff\" r=\"12.148148148148149\" stroke=\"#666\" stroke-width=\"1\" /><text alignment-baseline=\"middle\" font-family=\"&quot;Inconsolata&quot;, monospace\" text-anchor=\"middle\" x=\"387.22222222222223\" y=\"106.2962962962963\">E♭</text></g><g><rect fill=\"#fff\" height=\"30.37037037037037\" stroke=\"#666\" stroke-width=\"1\" width=\"45.55555555555556\" x=\"410.0\" y=\"91.11111111111111\" /><circle cx=\"432.77777777777777\" cy=\"106.2962962962963\" fill=\"#fff\" r=\"12.148148148148149\" stroke=\"#666\" stroke-width=\"1\" /><text alignment-baseline=\"middle\" font-family=\"&quot;Inconsolata&quot;, monospace\" text-anchor=\"middle\" x=\"432.77777777777777\" y=\"106.2962962962963\">E</text></g><g><rect fill=\"#fff\" height=\"30.37037037037037\" stroke=\"#666\" stroke-width=\"1\" width=\"45.55555555555556\" x=\"455.55555555555554\" y=\"91.11111111111111\" /><circle cx=\"478.3333333333333\" cy=\"106.2962962962963\" fill=\"#fff\" r=\"12.148148148148149\" stroke=\"#666\" stroke-width=\"1\" /><text alignment-baseline=\"middle\" font-family=\"&quot;Inconsolata&quot;, monospace\" text-anchor=\"middle\" x=\"478.3333333333333\" y=\"106.2962962962963\">F</text></g><g><rect fill=\"#fff\" height=\"30.37037037037037\" stroke=\"#666\" stroke-width=\"1\" width=\"45.55555555555556\" x=\"501.11111111111114\" y=\"91.11111111111111\" /><circle cx=\"523.8888888888889\" cy=\"106.2962962962963\" fill=\"#fff\" r=\"12.148148148148149\" stroke=\"#666\" stroke-width=\"1\" /><text alignment-baseline=\"middle\" font-family=\"&quot;Inconsolata&quot;, monospace\" text-anchor=\"middle\" x=\"523.8888888888889\" y=\"106.2962962962963\">F♯</text></g><g><rect fill=\"#fff\" height=\"30.37037037037037\" stroke=\"#666\" stroke-width=\"1\" width=\"45.55555555555556\" x=\"546.6666666666667\" y=\"91.11111111111111\" /><circle cx=\"569.4444444444446\" cy=\"106.2962962962963\" fill=\"#fff\" r=\"12.148148148148149\" stroke=\"#666\" stroke-width=\"1\" /><text alignment-baseline=\"middle\" font-family=\"&quot;Inconsolata&quot;, monospace\" text-anchor=\"middle\" x=\"569.4444444444446\" y=\"106.2962962962963\">G</text></g><g><rect fill=\"#fff\" height=\"30.37037037037037\" stroke=\"#666\" stroke-width=\"1\" width=\"45.55555555555556\" x=\"592.2222222222223\" y=\"91.11111111111111\" /><circle cx=\"615.0000000000001\" cy=\"106.2962962962963\" fill=\"#fff\" r=\"12.148148148148149\" stroke=\"#666\" stroke-width=\"1\" /><text alignment-baseline=\"middle\" font-family=\"&quot;Inconsolata&quot;, monospace\" text-anchor=\"middle\" x=\"615.0000000000001\" y=\"106.2962962962963\">G♯</text></g><g><rect fill=\"#fff\" height=\"30.37037037037037\" stroke=\"#666\" stroke-width=\"1\" width=\"45.55555555555556\" x=\"637.7777777777778\" y=\"91.11111111111111\" /><circle cx=\"660.5555555555557\" cy=\"106.2962962962963\" fill=\"#fff\" r=\"12.148148148148149\" stroke=\"#666\" stroke-width=\"1\" /><text alignment-baseline=\"middle\" font-family=\"&quot;Inconsolata&quot;, monospace\" text-anchor=\"middle\" x=\"660.5555555555557\" y=\"106.2962962962963\">A</text></g><g><rect fill=\"#fff\" height=\"30.37037037037037\" stroke=\"#666\" stroke-width=\"1\" width=\"45.55555555555556\" x=\"683.3333333333334\" y=\"91.11111111111111\" /><circle cx=\"706.1111111111112\" cy=\"106.2962962962963\" fill=\"#fff\" r=\"12.148148148148149\" stroke=\"#666\" stroke-width=\"1\" /><text alignment-baseline=\"middle\" font-family=\"&quot;Inconsolata&quot;, monospace\" text-anchor=\"middle\" x=\"706.1111111111112\" y=\"106.2962962962963\">B♭</text></g><g><rect fill=\"#fff\" height=\"30.37037037037037\" stroke=\"#666\" stroke-width=\"1\" width=\"45.55555555555556\" x=\"728.8888888888889\" y=\"91.11111111111111\" /><circle cx=\"751.6666666666667\" cy=\"106.2962962962963\" fill=\"#fff\" r=\"12.148148148148149\" stroke=\"#666\" stroke-width=\"1\" /><text alignment-baseline=\"middle\" font-family=\"&quot;Inconsolata&quot;, monospace\" text-anchor=\"middle\" x=\"751.6666666666667\" y=\"106.2962962962963\">B</text></g><g><rect fill=\"#fff\" height=\"30.37037037037037\" stroke=\"#666\" stroke-width=\"1\" width=\"45.55555555555556\" x=\"774.4444444444445\" y=\"91.11111111111111\" /><circle cx=\"797.2222222222223\" cy=\"106.2962962962963\" fill=\"#fff\" r=\"12.148148148148149\" stroke=\"#666\" stroke-width=\"1\" /><text alignment-baseline=\"middle\" font-family=\"&quot;Inconsolata&quot;, monospace\" text-anchor=\"middle\" x=\"797.2222222222223\" y=\"106.2962962962963\">C</text></g></svg>"
      ],
      "text/plain": [
       "<IPython.core.display.HTML object>"
      ]
     },
     "metadata": {},
     "output_type": "display_data"
    }
   ],
   "source": [
    "def y_by_line(line_num, line_height):\n",
    "    return (line_num) * line_height\n",
    "\n",
    "svg_attrs = {\n",
    "    'font-family': 'Inconsolata, monospace',\n",
    "    'font-weight': 'bold',\n",
    "}\n",
    "\n",
    "\n",
    "cell_attrs = {\n",
    "    'fill':'#fff',\n",
    "    'stroke':'#666',\n",
    "    'stroke-width':'1',\n",
    "}\n",
    "\n",
    "circ_attrs = {\n",
    "    'fill':'#fff',\n",
    "    'stroke':'#666',\n",
    "    'stroke-width':'1',\n",
    "}\n",
    "\n",
    "text_attrs = {\n",
    "    'font-family': '\"Inconsolata\", monospace',\n",
    "    'alignment-baseline' : 'middle',\n",
    "    'text-anchor' : 'middle',\n",
    "}\n",
    "\n",
    "string_num = 4\n",
    "string_notes = 18\n",
    "\n",
    "width = 820\n",
    "cell_width = width/18\n",
    "cell_height = (cell_width/3)*2\n",
    "height = cell_height*4\n",
    "\n",
    "dwg = sw.Drawing(profile='full', size=(\"{}\".format(width), \"{}\".format(height)), **svg_attrs)\n",
    "sc = scale.ChromaticScale()\n",
    "nts = [ sc.getPitches('e4','a5'),\n",
    "        sc.getPitches('a3','d5'),\n",
    "        sc.getPitches('d3','g4'),\n",
    "        sc.getPitches('g2','c4'),\n",
    "       ]\n",
    "\n",
    "for string in range(string_num):\n",
    "    string_y = y_by_line(string, cell_height)\n",
    "    \n",
    "    for note in range(string_notes):\n",
    "        cell_start_x = note*cell_width\n",
    "        cell_start_y = string_y\n",
    "        cell_middle_x = cell_start_x + (cell_width/2)\n",
    "        cell_middle_y = cell_start_y + (cell_height/2)\n",
    "        circle_radius = ((cell_height/2)/10) * 8\n",
    "        \n",
    "        grp = sw.container.Group()\n",
    "        svg_els = [\n",
    "            sw.shapes.Rect(insert=(cell_start_x, cell_start_y), size=(cell_width, cell_height), **cell_attrs),\n",
    "            sw.shapes.Circle(center=(cell_middle_x, cell_middle_y), r=circle_radius, **circ_attrs),\n",
    "            sw.text.Text(nts[string][note].unicodeName, insert=(cell_middle_x, cell_middle_y), **text_attrs),\n",
    "        ]\n",
    "        \n",
    "        for element in svg_els:\n",
    "            grp.add(element)\n",
    "            \n",
    "        dwg.add(grp)\n",
    "\n",
    "display(HTML(dwg.tostring()))"
   ]
  },
  {
   "cell_type": "code",
   "execution_count": 4,
   "metadata": {
    "collapsed": true,
    "run_control": {
     "frozen": false,
     "read_only": false
    }
   },
   "outputs": [],
   "source": [
    "sc = scale.ChromaticScale('g2')"
   ]
  },
  {
   "cell_type": "code",
   "execution_count": 46,
   "metadata": {
    "collapsed": false,
    "run_control": {
     "frozen": false,
     "read_only": false
    }
   },
   "outputs": [
    {
     "name": "stdout",
     "output_type": "stream",
     "text": [
      "[[<music21.pitch.Pitch E4>,\n",
      "  <music21.pitch.Pitch F4>,\n",
      "  <music21.pitch.Pitch F#4>,\n",
      "  <music21.pitch.Pitch G4>,\n",
      "  <music21.pitch.Pitch A-4>,\n",
      "  <music21.pitch.Pitch A4>,\n",
      "  <music21.pitch.Pitch B-4>,\n",
      "  <music21.pitch.Pitch B4>,\n",
      "  <music21.pitch.Pitch C5>,\n",
      "  <music21.pitch.Pitch C#5>,\n",
      "  <music21.pitch.Pitch D5>,\n",
      "  <music21.pitch.Pitch E-5>,\n",
      "  <music21.pitch.Pitch E5>,\n",
      "  <music21.pitch.Pitch F5>,\n",
      "  <music21.pitch.Pitch F#5>,\n",
      "  <music21.pitch.Pitch G5>,\n",
      "  <music21.pitch.Pitch A-5>,\n",
      "  <music21.pitch.Pitch A5>],\n",
      " [<music21.pitch.Pitch A3>,\n",
      "  <music21.pitch.Pitch B-3>,\n",
      "  <music21.pitch.Pitch B3>,\n",
      "  <music21.pitch.Pitch C4>,\n",
      "  <music21.pitch.Pitch C#4>,\n",
      "  <music21.pitch.Pitch D4>,\n",
      "  <music21.pitch.Pitch E-4>,\n",
      "  <music21.pitch.Pitch E4>,\n",
      "  <music21.pitch.Pitch F4>,\n",
      "  <music21.pitch.Pitch F#4>,\n",
      "  <music21.pitch.Pitch G4>,\n",
      "  <music21.pitch.Pitch A-4>,\n",
      "  <music21.pitch.Pitch A4>,\n",
      "  <music21.pitch.Pitch B-4>,\n",
      "  <music21.pitch.Pitch B4>,\n",
      "  <music21.pitch.Pitch C5>,\n",
      "  <music21.pitch.Pitch C#5>,\n",
      "  <music21.pitch.Pitch D5>],\n",
      " [<music21.pitch.Pitch D3>,\n",
      "  <music21.pitch.Pitch E-3>,\n",
      "  <music21.pitch.Pitch E3>,\n",
      "  <music21.pitch.Pitch F3>,\n",
      "  <music21.pitch.Pitch F#3>,\n",
      "  <music21.pitch.Pitch G3>,\n",
      "  <music21.pitch.Pitch A-3>,\n",
      "  <music21.pitch.Pitch A3>,\n",
      "  <music21.pitch.Pitch B-3>,\n",
      "  <music21.pitch.Pitch B3>,\n",
      "  <music21.pitch.Pitch C4>,\n",
      "  <music21.pitch.Pitch C#4>,\n",
      "  <music21.pitch.Pitch D4>,\n",
      "  <music21.pitch.Pitch E-4>,\n",
      "  <music21.pitch.Pitch E4>,\n",
      "  <music21.pitch.Pitch F4>,\n",
      "  <music21.pitch.Pitch F#4>,\n",
      "  <music21.pitch.Pitch G4>],\n",
      " [<music21.pitch.Pitch G2>,\n",
      "  <music21.pitch.Pitch A-2>,\n",
      "  <music21.pitch.Pitch A2>,\n",
      "  <music21.pitch.Pitch B-2>,\n",
      "  <music21.pitch.Pitch B2>,\n",
      "  <music21.pitch.Pitch C3>,\n",
      "  <music21.pitch.Pitch C#3>,\n",
      "  <music21.pitch.Pitch D3>,\n",
      "  <music21.pitch.Pitch E-3>,\n",
      "  <music21.pitch.Pitch E3>,\n",
      "  <music21.pitch.Pitch F3>,\n",
      "  <music21.pitch.Pitch F#3>,\n",
      "  <music21.pitch.Pitch G3>,\n",
      "  <music21.pitch.Pitch A-3>,\n",
      "  <music21.pitch.Pitch A3>,\n",
      "  <music21.pitch.Pitch B-3>,\n",
      "  <music21.pitch.Pitch B3>,\n",
      "  <music21.pitch.Pitch C4>]]\n"
     ]
    }
   ],
   "source": [
    "# E: e4 - a5\n",
    "# A: a3 - d5\n",
    "# D: d3 - g4\n",
    "# G: g2 - c4\n",
    "nts = [  sc.getPitches('e4','a5'),\n",
    " sc.getPitches('a3','d5'),\n",
    " sc.getPitches('d3','g4'),\n",
    "sc.getPitches('g2','c4'),\n",
    "       ]\n",
    "\n",
    "import pprint\n",
    "pprint.pprint(nts)"
   ]
  },
  {
   "cell_type": "code",
   "execution_count": null,
   "metadata": {
    "collapsed": true,
    "run_control": {
     "frozen": false,
     "read_only": false
    }
   },
   "outputs": [],
   "source": []
  }
 ],
 "metadata": {
  "kernelspec": {
   "display_name": "Python 3",
   "language": "python",
   "name": "python3"
  },
  "language_info": {
   "codemirror_mode": {
    "name": "ipython",
    "version": 3
   },
   "file_extension": ".py",
   "mimetype": "text/x-python",
   "name": "python",
   "nbconvert_exporter": "python",
   "pygments_lexer": "ipython3",
   "version": "3.5.2"
  }
 },
 "nbformat": 4,
 "nbformat_minor": 1
}
