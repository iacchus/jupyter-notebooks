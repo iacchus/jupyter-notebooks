{
 "cells": [
  {
   "cell_type": "code",
   "execution_count": 3,
   "metadata": {
    "collapsed": false
   },
   "outputs": [
    {
     "ename": "TypeError",
     "evalue": "sequence item 0: expected str instance, bytes found",
     "output_type": "error",
     "traceback": [
      "\u001b[0;31m---------------------------------------------------------------------------\u001b[0m",
      "\u001b[0;31mTypeError\u001b[0m                                 Traceback (most recent call last)",
      "\u001b[0;32m<ipython-input-3-26b7fc265c95>\u001b[0m in \u001b[0;36m<module>\u001b[0;34m()\u001b[0m\n\u001b[1;32m     26\u001b[0m \u001b[0mscale\u001b[0m \u001b[0;34m=\u001b[0m \u001b[0;34m[\u001b[0m\u001b[0;36m130.8\u001b[0m\u001b[0;34m,\u001b[0m \u001b[0;36m146.8\u001b[0m\u001b[0;34m,\u001b[0m \u001b[0;36m164.8\u001b[0m\u001b[0;34m,\u001b[0m \u001b[0;36m174.6\u001b[0m\u001b[0;34m,\u001b[0m \u001b[0;36m195.0\u001b[0m\u001b[0;34m,\u001b[0m \u001b[0;36m220.0\u001b[0m\u001b[0;34m,\u001b[0m \u001b[0;36m246.9\u001b[0m\u001b[0;34m,\u001b[0m \u001b[0;36m261.6\u001b[0m\u001b[0;34m]\u001b[0m\u001b[0;34m\u001b[0m\u001b[0m\n\u001b[1;32m     27\u001b[0m \u001b[0;32mfor\u001b[0m \u001b[0mtone\u001b[0m \u001b[0;32min\u001b[0m \u001b[0mscale\u001b[0m\u001b[0;34m:\u001b[0m\u001b[0;34m\u001b[0m\u001b[0m\n\u001b[0;32m---> 28\u001b[0;31m     \u001b[0mplay_tone\u001b[0m\u001b[0;34m(\u001b[0m\u001b[0mtone\u001b[0m\u001b[0;34m,\u001b[0m \u001b[0;36m0.5\u001b[0m\u001b[0;34m,\u001b[0m \u001b[0;36m0.75\u001b[0m\u001b[0;34m,\u001b[0m \u001b[0mfs\u001b[0m\u001b[0;34m,\u001b[0m \u001b[0mstream\u001b[0m\u001b[0;34m)\u001b[0m\u001b[0;34m\u001b[0m\u001b[0m\n\u001b[0m\u001b[1;32m     29\u001b[0m \u001b[0;34m\u001b[0m\u001b[0m\n\u001b[1;32m     30\u001b[0m \u001b[0;31m# up an octave\u001b[0m\u001b[0;34m\u001b[0m\u001b[0;34m\u001b[0m\u001b[0m\n",
      "\u001b[0;32m<ipython-input-3-26b7fc265c95>\u001b[0m in \u001b[0;36mplay_tone\u001b[0;34m(frequency, amplitude, duration, fs, stream)\u001b[0m\n\u001b[1;32m     11\u001b[0m             for n in range(N))\n\u001b[1;32m     12\u001b[0m     \u001b[0;31m# todo: get the format from the stream; this assumes Float32\u001b[0m\u001b[0;34m\u001b[0m\u001b[0;34m\u001b[0m\u001b[0m\n\u001b[0;32m---> 13\u001b[0;31m     \u001b[0mdata\u001b[0m \u001b[0;34m=\u001b[0m \u001b[0;34m''\u001b[0m\u001b[0;34m.\u001b[0m\u001b[0mjoin\u001b[0m\u001b[0;34m(\u001b[0m\u001b[0mstruct\u001b[0m\u001b[0;34m.\u001b[0m\u001b[0mpack\u001b[0m\u001b[0;34m(\u001b[0m\u001b[0;34m'f'\u001b[0m\u001b[0;34m,\u001b[0m \u001b[0msamp\u001b[0m\u001b[0;34m)\u001b[0m \u001b[0;32mfor\u001b[0m \u001b[0msamp\u001b[0m \u001b[0;32min\u001b[0m \u001b[0mtone\u001b[0m\u001b[0;34m)\u001b[0m\u001b[0;34m\u001b[0m\u001b[0m\n\u001b[0m\u001b[1;32m     14\u001b[0m     \u001b[0;32mfor\u001b[0m \u001b[0mn\u001b[0m \u001b[0;32min\u001b[0m \u001b[0mrange\u001b[0m\u001b[0;34m(\u001b[0m\u001b[0mT\u001b[0m\u001b[0;34m)\u001b[0m\u001b[0;34m:\u001b[0m\u001b[0;34m\u001b[0m\u001b[0m\n\u001b[1;32m     15\u001b[0m         \u001b[0mstream\u001b[0m\u001b[0;34m.\u001b[0m\u001b[0mwrite\u001b[0m\u001b[0;34m(\u001b[0m\u001b[0mdata\u001b[0m\u001b[0;34m)\u001b[0m\u001b[0;34m\u001b[0m\u001b[0m\n",
      "\u001b[0;31mTypeError\u001b[0m: sequence item 0: expected str instance, bytes found"
     ]
    }
   ],
   "source": [
    "import math\n",
    "import struct\n",
    "import pyaudio\n",
    "\n",
    "def play_tone(frequency, amplitude, duration, fs, stream):\n",
    "    N = int(fs / frequency)\n",
    "    T = int(frequency * duration)  # repeat for T cycles\n",
    "    dt = 1.0 / fs\n",
    "    # 1 cycle\n",
    "    tone = (amplitude * math.sin(2 * math.pi * frequency * n * dt)\n",
    "            for n in range(N))\n",
    "    # todo: get the format from the stream; this assumes Float32\n",
    "    data = ''.join(struct.pack('f', samp) for samp in tone)\n",
    "    for n in range(T):\n",
    "        stream.write(data)\n",
    "\n",
    "fs = 48000\n",
    "p = pyaudio.PyAudio()\n",
    "stream = p.open(\n",
    "    format=pyaudio.paFloat32,\n",
    "    channels=1,\n",
    "    rate=fs,\n",
    "    output=True)\n",
    "\n",
    "# play the C major scale\n",
    "scale = [130.8, 146.8, 164.8, 174.6, 195.0, 220.0, 246.9, 261.6]\n",
    "for tone in scale:\n",
    "    play_tone(tone, 0.5, 0.75, fs, stream)\n",
    "\n",
    "# up an octave\n",
    "for tone in scale[1:]:\n",
    "    play_tone(2*tone, 0.5, 0.75, fs, stream)\n",
    "\n",
    "stream.close()\n",
    "p.terminate()"
   ]
  },
  {
   "cell_type": "code",
   "execution_count": null,
   "metadata": {
    "collapsed": true
   },
   "outputs": [],
   "source": []
  }
 ],
 "metadata": {
  "kernelspec": {
   "display_name": "Python 3",
   "language": "python",
   "name": "python3"
  },
  "language_info": {
   "codemirror_mode": {
    "name": "ipython",
    "version": 3
   },
   "file_extension": ".py",
   "mimetype": "text/x-python",
   "name": "python",
   "nbconvert_exporter": "python",
   "pygments_lexer": "ipython3",
   "version": "3.5.2"
  }
 },
 "nbformat": 4,
 "nbformat_minor": 1
}
