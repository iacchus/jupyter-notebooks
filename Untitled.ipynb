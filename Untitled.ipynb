{
 "cells": [
  {
   "cell_type": "code",
   "execution_count": 1,
   "metadata": {
    "collapsed": true,
    "run_control": {
     "frozen": false,
     "read_only": false
    }
   },
   "outputs": [],
   "source": [
    "from configobj import ConfigObj"
   ]
  },
  {
   "cell_type": "code",
   "execution_count": 15,
   "metadata": {
    "collapsed": true
   },
   "outputs": [],
   "source": [
    "cfg = \"\"\"\n",
    "title = major scale\n",
    "\n",
    "    [\"exercise1\"]\n",
    "    key=la major\n",
    "\n",
    "    [\"exercicio 2\"]\n",
    "    key = c major\n",
    "\"\"\""
   ]
  },
  {
   "cell_type": "code",
   "execution_count": 18,
   "metadata": {
    "collapsed": true
   },
   "outputs": [],
   "source": [
    "hey = ConfigObj(cfg.split('\\n'))"
   ]
  },
  {
   "cell_type": "code",
   "execution_count": 19,
   "metadata": {
    "collapsed": false
   },
   "outputs": [
    {
     "data": {
      "text/plain": [
       "['BOM',\n",
       " '__class__',\n",
       " '__contains__',\n",
       " '__delattr__',\n",
       " '__delitem__',\n",
       " '__dict__',\n",
       " '__dir__',\n",
       " '__doc__',\n",
       " '__eq__',\n",
       " '__format__',\n",
       " '__ge__',\n",
       " '__getattribute__',\n",
       " '__getitem__',\n",
       " '__gt__',\n",
       " '__hash__',\n",
       " '__init__',\n",
       " '__iter__',\n",
       " '__le__',\n",
       " '__len__',\n",
       " '__lt__',\n",
       " '__module__',\n",
       " '__ne__',\n",
       " '__new__',\n",
       " '__reduce__',\n",
       " '__reduce_ex__',\n",
       " '__repr__',\n",
       " '__setattr__',\n",
       " '__setitem__',\n",
       " '__setstate__',\n",
       " '__sizeof__',\n",
       " '__str__',\n",
       " '__subclasshook__',\n",
       " '__weakref__',\n",
       " '_a_to_u',\n",
       " '_bools',\n",
       " '_created',\n",
       " '_decode',\n",
       " '_decode_element',\n",
       " '_get_single_quote',\n",
       " '_get_triple_quote',\n",
       " '_handle_bom',\n",
       " '_handle_comment',\n",
       " '_handle_configspec',\n",
       " '_handle_error',\n",
       " '_handle_value',\n",
       " '_initialise',\n",
       " '_inspec',\n",
       " '_interpolate',\n",
       " '_keyword',\n",
       " '_listvalueexp',\n",
       " '_load',\n",
       " '_match_depth',\n",
       " '_multi_line_double',\n",
       " '_multi_line_single',\n",
       " '_multiline',\n",
       " '_nolistvalue',\n",
       " '_original_configspec',\n",
       " '_parse',\n",
       " '_quote',\n",
       " '_sectionmarker',\n",
       " '_set_configspec',\n",
       " '_single_line_double',\n",
       " '_single_line_single',\n",
       " '_str',\n",
       " '_triple_quote',\n",
       " '_unquote',\n",
       " '_valueexp',\n",
       " '_write_line',\n",
       " '_write_marker',\n",
       " 'as_bool',\n",
       " 'as_float',\n",
       " 'as_int',\n",
       " 'as_list',\n",
       " 'clear',\n",
       " 'comments',\n",
       " 'configspec',\n",
       " 'copy',\n",
       " 'create_empty',\n",
       " 'default_encoding',\n",
       " 'default_values',\n",
       " 'defaults',\n",
       " 'depth',\n",
       " 'dict',\n",
       " 'encoding',\n",
       " 'extra_values',\n",
       " 'file_error',\n",
       " 'filename',\n",
       " 'final_comment',\n",
       " 'fromkeys',\n",
       " 'get',\n",
       " 'indent_type',\n",
       " 'initial_comment',\n",
       " 'inline_comments',\n",
       " 'interpolation',\n",
       " 'items',\n",
       " 'iteritems',\n",
       " 'iterkeys',\n",
       " 'itervalues',\n",
       " 'keys',\n",
       " 'list_values',\n",
       " 'main',\n",
       " 'merge',\n",
       " 'name',\n",
       " 'newlines',\n",
       " 'parent',\n",
       " 'pop',\n",
       " 'popitem',\n",
       " 'raise_errors',\n",
       " 'reload',\n",
       " 'rename',\n",
       " 'reset',\n",
       " 'restore_default',\n",
       " 'restore_defaults',\n",
       " 'scalars',\n",
       " 'sections',\n",
       " 'setdefault',\n",
       " 'stringify',\n",
       " 'unrepr',\n",
       " 'update',\n",
       " 'validate',\n",
       " 'values',\n",
       " 'walk',\n",
       " 'write',\n",
       " 'write_empty_values']"
      ]
     },
     "execution_count": 19,
     "metadata": {},
     "output_type": "execute_result"
    }
   ],
   "source": [
    "dir(hey)"
   ]
  },
  {
   "cell_type": "code",
   "execution_count": 8,
   "metadata": {
    "collapsed": false
   },
   "outputs": [
    {
     "data": {
      "text/plain": [
       "{}"
      ]
     },
     "execution_count": 8,
     "metadata": {},
     "output_type": "execute_result"
    }
   ],
   "source": [
    "dict(hey)"
   ]
  },
  {
   "cell_type": "code",
   "execution_count": 20,
   "metadata": {
    "collapsed": false
   },
   "outputs": [
    {
     "data": {
      "text/plain": [
       "'major scale'"
      ]
     },
     "execution_count": 20,
     "metadata": {},
     "output_type": "execute_result"
    }
   ],
   "source": [
    "hey['title']"
   ]
  },
  {
   "cell_type": "code",
   "execution_count": 24,
   "metadata": {
    "collapsed": false
   },
   "outputs": [
    {
     "data": {
      "text/plain": [
       "['exercise1', 'exercicio 2']"
      ]
     },
     "execution_count": 24,
     "metadata": {},
     "output_type": "execute_result"
    }
   ],
   "source": [
    "hey.sections"
   ]
  },
  {
   "cell_type": "code",
   "execution_count": null,
   "metadata": {
    "collapsed": true
   },
   "outputs": [],
   "source": []
  }
 ],
 "metadata": {
  "kernelspec": {
   "display_name": "Python 3",
   "language": "python",
   "name": "python3"
  },
  "language_info": {
   "codemirror_mode": {
    "name": "ipython",
    "version": 3
   },
   "file_extension": ".py",
   "mimetype": "text/x-python",
   "name": "python",
   "nbconvert_exporter": "python",
   "pygments_lexer": "ipython3",
   "version": "3.5.2"
  }
 },
 "nbformat": 4,
 "nbformat_minor": 1
}
