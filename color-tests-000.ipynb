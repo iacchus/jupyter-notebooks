{
 "cells": [
  {
   "cell_type": "markdown",
   "metadata": {
    "run_control": {
     "frozen": false,
     "read_only": false
    }
   },
   "source": [
    "http://colour-science.org/\n",
    "\n",
    "http://www.tigercolor.com/color-lab/color-theory/color-theory-intro.htm\n",
    "\n",
    "https://en.wikipedia.org/wiki/Color_theory\n",
    "\n",
    "http://seaborn.pydata.org/tutorial/color_palettes.html\n"
   ]
  },
  {
   "cell_type": "code",
   "execution_count": 10,
   "metadata": {
    "collapsed": false,
    "run_control": {
     "frozen": false,
     "read_only": false
    }
   },
   "outputs": [],
   "source": [
    "%matplotlib inline\n",
    "\n",
    "import numpy as np\n",
    "import seaborn as sns\n",
    "import matplotlib.pyplot as plt\n",
    "import colour\n",
    "\n",
    "from colorsys import hls_to_rgb"
   ]
  },
  {
   "cell_type": "code",
   "execution_count": 11,
   "metadata": {
    "collapsed": true,
    "run_control": {
     "frozen": false,
     "read_only": false
    }
   },
   "outputs": [],
   "source": [
    "sns.set(rc={\"figure.figsize\": (6, 6)})\n",
    "np.random.seed(sum(map(ord, \"palettes\")))"
   ]
  },
  {
   "cell_type": "code",
   "execution_count": 12,
   "metadata": {
    "collapsed": false,
    "run_control": {
     "frozen": false,
     "read_only": false
    }
   },
   "outputs": [
    {
     "data": {
      "image/png": "[encoded data removed]",
      "text/plain": [
       "<matplotlib.figure.Figure at 0x7f14e83d1c50>"
      ]
     },
     "metadata": {},
     "output_type": "display_data"
    }
   ],
   "source": [
    "current_palette = sns.color_palette()\n",
    "sns.palplot(current_palette)"
   ]
  },
  {
   "cell_type": "code",
   "execution_count": 13,
   "metadata": {
    "collapsed": false,
    "run_control": {
     "frozen": false,
     "read_only": false
    }
   },
   "outputs": [
    {
     "data": {
      "image/png": "[encoded data removed]",
      "text/plain": [
       "<matplotlib.figure.Figure at 0x7f14e834c828>"
      ]
     },
     "metadata": {},
     "output_type": "display_data"
    }
   ],
   "source": [
    "sns.palplot(sns.hls_palette(12, l=.3, s=.8))"
   ]
  },
  {
   "cell_type": "code",
   "execution_count": 14,
   "metadata": {
    "collapsed": false,
    "run_control": {
     "frozen": false,
     "read_only": false
    }
   },
   "outputs": [
    {
     "data": {
      "text/plain": [
       "[(0.54, 0.088799999999999948, 0.05999999999999994),\n",
       " (0.54, 0.44879999999999998, 0.05999999999999994),\n",
       " (0.27120000000000011, 0.54, 0.05999999999999994),\n",
       " (0.05999999999999994, 0.54, 0.20880000000000004),\n",
       " (0.05999999999999994, 0.51119999999999988, 0.54),\n",
       " (0.05999999999999994, 0.15119999999999983, 0.54),\n",
       " (0.32879999999999981, 0.05999999999999994, 0.54),\n",
       " (0.54, 0.05999999999999994, 0.39119999999999966)]"
      ]
     },
     "execution_count": 14,
     "metadata": {},
     "output_type": "execute_result"
    }
   ],
   "source": [
    "pal_hls = sns.hls_palette(8, l=.3, s=.8)\n",
    "\n",
    "\n",
    "pal_hls"
   ]
  },
  {
   "cell_type": "code",
   "execution_count": 15,
   "metadata": {
    "collapsed": false,
    "run_control": {
     "frozen": false,
     "read_only": false
    }
   },
   "outputs": [
    {
     "name": "stdout",
     "output_type": "stream",
     "text": [
      "#151718\n",
      "#4f5659\n",
      "#839091\n",
      "#889183\n",
      "#94877f\n",
      "#b07f63\n",
      "#c6703f\n",
      "#6b3b20\n",
      "#181007\n",
      "#071807\n",
      "#071317\n",
      "#0b1113\n"
     ]
    }
   ],
   "source": [
    "import seaborn\n",
    "from base64 import b16encode\n",
    "\n",
    "pal_hls = sns.hls_palette(12, l=.3, s=.8)\n",
    "\n",
    "for hsl_color in pal_hls:\n",
    "    rgb_color = hls_to_rgb(*hsl_color)\n",
    "\n",
    "    color_str = \"#\"\n",
    "    \n",
    "    for value in rgb_color:\n",
    "        hex_v = int(round(value*255))\n",
    "        color_str += \"{0:02x}\".format(hex_v)\n",
    "    print(color_str)"
   ]
  },
  {
   "cell_type": "code",
   "execution_count": 16,
   "metadata": {
    "collapsed": false,
    "run_control": {
     "frozen": false,
     "read_only": false
    }
   },
   "outputs": [],
   "source": [
    "a=(127,177,255)\n"
   ]
  },
  {
   "cell_type": "code",
   "execution_count": 17,
   "metadata": {
    "collapsed": false,
    "run_control": {
     "frozen": false,
     "read_only": false
    }
   },
   "outputs": [
    {
     "name": "stdout",
     "output_type": "stream",
     "text": [
      "#7FB1FF\n"
     ]
    }
   ],
   "source": [
    "from base64 import b16encode\n",
    "print('#'+b16encode(bytes(a)).decode('utf-8'))"
   ]
  },
  {
   "cell_type": "code",
   "execution_count": 19,
   "metadata": {
    "collapsed": false,
    "run_control": {
     "frozen": false,
     "read_only": false
    }
   },
   "outputs": [
    {
     "data": {
      "text/plain": [
       "str"
      ]
     },
     "execution_count": 19,
     "metadata": {},
     "output_type": "execute_result"
    }
   ],
   "source": [
    "type(pal_hls.as_hex()[0])"
   ]
  },
  {
   "cell_type": "code",
   "execution_count": 23,
   "metadata": {
    "collapsed": false
   },
   "outputs": [
    {
     "name": "stdout",
     "output_type": "stream",
     "text": [
      "['#8a170f', '#8a540f', '#828a0f', '#458a0f', '#0f8a17', '#0f8a54', '#0f828a', '#0f458a', '#170f8a', '#540f8a', '#8a0f82', '#8a0f45']\n"
     ]
    }
   ],
   "source": [
    "import seaborn; pal_hls = seaborn.hls_palette(12, l=.3, s=.8).as_hex(); print(pal_hls);"
   ]
  },
  {
   "cell_type": "code",
   "execution_count": null,
   "metadata": {
    "collapsed": true
   },
   "outputs": [],
   "source": []
  }
 ],
 "metadata": {
  "kernelspec": {
   "display_name": "Python 3",
   "language": "python",
   "name": "python3"
  },
  "language_info": {
   "codemirror_mode": {
    "name": "ipython",
    "version": 3
   },
   "file_extension": ".py",
   "mimetype": "text/x-python",
   "name": "python",
   "nbconvert_exporter": "python",
   "pygments_lexer": "ipython3",
   "version": "3.5.2"
  }
 },
 "nbformat": 4,
 "nbformat_minor": 1
}
