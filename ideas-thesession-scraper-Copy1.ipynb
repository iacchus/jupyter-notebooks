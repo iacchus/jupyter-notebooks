{
 "cells": [
  {
   "cell_type": "markdown",
   "metadata": {
    "run_control": {
     "frozen": false,
     "read_only": false
    }
   },
   "source": [
    "# The Session Scraper\n",
    "\n",
    "* [The Session](https://thesession.org/)\n",
    "* [HTML Scraping—The Hitchhiker's Guide to Python](http://docs.python-guide.org/en/latest/scenarios/scrape/)\n",
    "* https://doc.scrapy.org/en/1.2/intro/overview.html\n",
    "* https://doc.scrapy.org/en/1.2/intro/examples.html\n",
    "* https://doc.scrapy.org/en/1.2/intro/tutorial.html\n",
    "* https://doc.scrapy.org/en/1.2/topics/spiders.html"
   ]
  },
  {
   "cell_type": "code",
   "execution_count": 10,
   "metadata": {
    "collapsed": false,
    "run_control": {
     "frozen": false,
     "read_only": false
    }
   },
   "outputs": [],
   "source": [
    "import scrapy\n",
    "import re"
   ]
  },
  {
   "cell_type": "code",
   "execution_count": 9,
   "metadata": {
    "collapsed": false,
    "run_control": {
     "frozen": false,
     "read_only": false
    }
   },
   "outputs": [],
   "source": [
    "class TunePipeline(object):\n",
    "    \n",
    "    def process_item(self, item, spider):\n",
    "        print(item)\n",
    "\n",
    "class TuneScraper(scrapy.Spider):\n",
    "    name = 'thesession-tunes'\n",
    "    tunes = []\n",
    "    tune = {}\n",
    "    custom_settings = {\n",
    "        'ITEM_PIPELINES' : 'TunePipeline',\n",
    "    }\n",
    "    \n",
    "    def __init__(self, *baahrg, **doitbabe):\n",
    "        super(TuneScraper, self).__init__(*baahrg, **doitbabe)\n",
    "        \n",
    "        \n",
    "    def start_requests(self, tune_id):\n",
    "        url = \"https://thesession.org/tunes/{}\".format(tune_id)\n",
    "        \n",
    "        yield scrapy.Request(url=url, callback=self.parse)\n",
    "        \n",
    "    def parse(self, response):\n",
    "        \n",
    "        abc_list = []\n",
    "\n",
    "        name = response.css('//main/div[@class=\"contents\"]/h1/text()').extract()\n",
    "        style = response.css('//main/div[@class=\"contents\"]/h1/span/a/text()').extract()\n",
    "\n",
    "        for item in response.xpath(\"//div[@class='notes']\"):\n",
    "            text = item.extract()\n",
    "            abc = re.sub('<[^<]+?>', '', text)\n",
    "            \n",
    "            abc_list.append(abc)\n",
    "            \n",
    "        tune = {\n",
    "            'name' : name,\n",
    "            'style' : style,\n",
    "            'abc_list' : abc_list,\n",
    "            }\n",
    "        \n",
    "        yield tune\n",
    "        "
   ]
  },
  {
   "cell_type": "code",
   "execution_count": 11,
   "metadata": {
    "collapsed": false,
    "run_control": {
     "frozen": false,
     "read_only": false
    }
   },
   "outputs": [
    {
     "data": {
      "text/plain": [
       "<TuneScraper 10 at 0x7f75b998ec18>"
      ]
     },
     "execution_count": 11,
     "metadata": {},
     "output_type": "execute_result"
    }
   ],
   "source": [
    "TuneScraper(10)"
   ]
  },
  {
   "cell_type": "code",
   "execution_count": 12,
   "metadata": {
    "collapsed": false,
    "run_control": {
     "frozen": false,
     "read_only": false
    }
   },
   "outputs": [],
   "source": [
    "a = TuneScraper(10)\n"
   ]
  },
  {
   "cell_type": "code",
   "execution_count": 7,
   "metadata": {
    "collapsed": false,
    "run_control": {
     "frozen": false,
     "read_only": false
    }
   },
   "outputs": [
    {
     "data": {
      "text/plain": [
       "{}"
      ]
     },
     "execution_count": 7,
     "metadata": {},
     "output_type": "execute_result"
    }
   ],
   "source": [
    "a.tune"
   ]
  },
  {
   "cell_type": "code",
   "execution_count": null,
   "metadata": {
    "collapsed": true
   },
   "outputs": [],
   "source": []
  }
 ],
 "metadata": {
  "kernelspec": {
   "display_name": "Python 3",
   "language": "python",
   "name": "python3"
  },
  "language_info": {
   "codemirror_mode": {
    "name": "ipython",
    "version": 3
   },
   "file_extension": ".py",
   "mimetype": "text/x-python",
   "name": "python",
   "nbconvert_exporter": "python",
   "pygments_lexer": "ipython3",
   "version": "3.5.2"
  }
 },
 "nbformat": 4,
 "nbformat_minor": 1
}
