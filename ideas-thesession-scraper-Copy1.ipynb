{
 "cells": [
  {
   "cell_type": "markdown",
   "metadata": {
    "run_control": {
     "frozen": false,
     "read_only": false
    }
   },
   "source": [
    "# The Session Scraper\n",
    "\n",
    "* [The Session](https://thesession.org/)\n",
    "* [HTML Scraping—The Hitchhiker's Guide to Python](http://docs.python-guide.org/en/latest/scenarios/scrape/)\n",
    "* https://doc.scrapy.org/en/1.2/intro/overview.html\n",
    "* https://doc.scrapy.org/en/1.2/intro/examples.html\n",
    "* https://doc.scrapy.org/en/1.2/intro/tutorial.html"
   ]
  },
  {
   "cell_type": "code",
   "execution_count": 4,
   "metadata": {
    "collapsed": false,
    "run_control": {
     "frozen": false,
     "read_only": false
    }
   },
   "outputs": [],
   "source": [
    "import scrapy"
   ]
  },
  {
   "cell_type": "code",
   "execution_count": 5,
   "metadata": {
    "collapsed": true
   },
   "outputs": [],
   "source": [
    "class TheSessionScraper(scrapy.Spider):\n",
    "    name = 'thesession-tunes'\n",
    "    tunes = []\n",
    "    \n",
    "    def __init__(self, *baahrg, **doitbabe):\n",
    "        super(TheSessionScraper, self).__init__(*baahrg, **doitbabe)\n",
    "        \n",
    "        \n",
    "    def start_requests(self, tune_id):\n",
    "        url = \"https://thesession.org/tunes/{}\".format(tune_id)\n",
    "        \n",
    "        yield scrapy.Request(url=url, callback=self.parse)\n",
    "        \n",
    "    def parse(self, response):\n",
    "        \n",
    "        "
   ]
  },
  {
   "cell_type": "code",
   "execution_count": null,
   "metadata": {
    "collapsed": true
   },
   "outputs": [],
   "source": []
  }
 ],
 "metadata": {
  "kernelspec": {
   "display_name": "Python 3",
   "language": "python",
   "name": "python3"
  },
  "language_info": {
   "codemirror_mode": {
    "name": "ipython",
    "version": 3
   },
   "file_extension": ".py",
   "mimetype": "text/x-python",
   "name": "python",
   "nbconvert_exporter": "python",
   "pygments_lexer": "ipython3",
   "version": "3.5.2"
  }
 },
 "nbformat": 4,
 "nbformat_minor": 1
}
